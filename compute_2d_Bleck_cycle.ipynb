{
 "cells": [
  {
   "cell_type": "markdown",
   "metadata": {},
   "source": [
    "# Step 2b: Compute Bleck energy cycle"
   ]
  },
  {
   "cell_type": "markdown",
   "metadata": {},
   "source": [
    "* This notebook assumes that `filter_data.ipynb` has been run with `bleck = True`\n",
    "* All terms computed in this notebook are depth-integrated, and are a function of **(time, y, x)**\n",
    "\n",
    "Note: To get non-depth-integrated terms, remove all `.sum(dim='zi')` and `.sum(dim='zl')` statements."
   ]
  },
  {
   "cell_type": "code",
   "execution_count": 1,
   "metadata": {},
   "outputs": [],
   "source": [
    "filter_fac = 32\n",
    "end_time = 2900 \n",
    "extended_diags = False  # if true, compute some conversion terms in more than one way (see below)"
   ]
  },
  {
   "cell_type": "code",
   "execution_count": 26,
   "metadata": {},
   "outputs": [],
   "source": [
    "import numpy as np\n",
    "import matplotlib.pyplot as plt\n",
    "import xarray as xr\n",
    "import dask\n",
    "from dask.diagnostics import ProgressBar"
   ]
  },
  {
   "cell_type": "code",
   "execution_count": 3,
   "metadata": {},
   "outputs": [],
   "source": [
    "shape='Gaussian'\n",
    "coarsen_fac=1\n",
    "compl='simple'"
   ]
  },
  {
   "cell_type": "code",
   "execution_count": 4,
   "metadata": {},
   "outputs": [],
   "source": [
    "run = 'nw2_0.03125deg_N15_baseline_hmix20'"
   ]
  },
  {
   "cell_type": "markdown",
   "metadata": {},
   "source": [
    "## Get a view of Neverworld2 data"
   ]
  },
  {
   "cell_type": "code",
   "execution_count": 5,
   "metadata": {},
   "outputs": [],
   "source": [
    "# static file with grid information\n",
    "path = '/glade/p/univ/unyu0004/gmarques/NeverWorld2/baselines/'\n",
    "st = xr.open_dataset('%s/%s/static.nc' % (path, run), decode_times=False)"
   ]
  },
  {
   "cell_type": "code",
   "execution_count": 6,
   "metadata": {},
   "outputs": [],
   "source": [
    "ffile_pref = '/glade/scratch/noraloose/filtered_data/' \n",
    "chunks = {'time': 1, 'zl':1}\n",
    "nr_days = 100\n",
    "\n",
    "# filtered snapshots\n",
    "\n",
    "sn_f_h = xr.open_zarr('%s/%s/snapshots_%08d_filtered_%s_coarse%i_fac%i_only_diffusion_%s_h' % (ffile_pref, run, end_time-nr_days+5, shape, coarsen_fac, filter_fac, compl), \n",
    "                           decode_times=False)\n",
    "sn_f_u = xr.open_zarr('%s/%s/snapshots_%08d_filtered_%s_coarse%i_fac%i_only_diffusion_%s_u' % (ffile_pref, run, end_time-nr_days+5, shape, coarsen_fac, filter_fac, compl), \n",
    "                           decode_times=False)\n",
    "sn_f_v = xr.open_zarr('%s/%s/snapshots_%08d_filtered_%s_coarse%i_fac%i_only_diffusion_%s_v' % (ffile_pref, run, end_time-nr_days+5, shape, coarsen_fac, filter_fac, compl), \n",
    "                           decode_times=False)\n",
    "sn_f = xr.merge([sn_f_h, sn_f_u, sn_f_v])\n",
    "    \n",
    "# filtered averages\n",
    "av_f_h = xr.open_zarr('%s/%s/averages_%08d_filtered_%s_coarse%i_fac%i_only_diffusion_%s_h' % (ffile_pref, run, end_time-nr_days+2, shape, coarsen_fac, filter_fac, compl), \n",
    "                           decode_times=False)\n",
    "av_f_u = xr.open_zarr('%s/%s/averages_%08d_filtered_%s_coarse%i_fac%i_only_diffusion_%s_u' % (ffile_pref, run, end_time-nr_days+2, shape, coarsen_fac, filter_fac, compl), \n",
    "                           decode_times=False)\n",
    "av_f_v = xr.open_zarr('%s/%s/averages_%08d_filtered_%s_coarse%i_fac%i_only_diffusion_%s_v' % (ffile_pref, run, end_time-nr_days+2, shape, coarsen_fac, filter_fac, compl), \n",
    "                           decode_times=False)\n",
    "av_f = xr.merge([av_f_h, av_f_u, av_f_v])\n",
    "    \n",
    "str_filter = 'diff'"
   ]
  },
  {
   "cell_type": "markdown",
   "metadata": {},
   "source": [
    "## Prepare NW2 grid information"
   ]
  },
  {
   "cell_type": "code",
   "execution_count": 7,
   "metadata": {},
   "outputs": [],
   "source": [
    "Nx = np.size(st.xh)\n",
    "Ny = np.size(st.yh)"
   ]
  },
  {
   "cell_type": "code",
   "execution_count": 8,
   "metadata": {},
   "outputs": [],
   "source": [
    "from xgcm import Grid\n",
    "\n",
    "coords = {'X': {'center': 'xh', 'outer': 'xq'},\n",
    "            'Y': {'center': 'yh', 'outer': 'yq'},\n",
    "            'Z': {'center': 'zl', 'outer': 'zi'} }\n",
    "grid = Grid(st, coords=coords, periodic=['X'])\n",
    "\n",
    "st['dxT'] = grid.interp(st.dxCu,'X')\n",
    "st['dyT'] = grid.interp(st.dyCv,'Y')\n",
    "st['dxBu'] = grid.interp(st.dxCv,'X')\n",
    "st['dyBu'] = grid.interp(st.dyCu,'Y',boundary='fill')\n",
    "\n",
    "metrics = {('X',):['dxCu','dxCv','dxT','dxBu'],\n",
    "           ('Y',):['dyCu','dyCv','dyT','dyBu'],\n",
    "           ('X', 'Y'): ['area_t', 'area_u', 'area_v']\n",
    "          }\n",
    "\n",
    "grid = Grid(st, coords=coords, periodic=['X'], metrics=metrics)"
   ]
  },
  {
   "cell_type": "markdown",
   "metadata": {},
   "source": [
    "## New dataset for Bleck cycle"
   ]
  },
  {
   "cell_type": "code",
   "execution_count": 9,
   "metadata": {},
   "outputs": [],
   "source": [
    "ds = xr.Dataset() # new xarray dataset for terms in Bleck cycle \n",
    "\n",
    "ds.attrs['filter_shape'] = 'Gaussian' \n",
    "ds.attrs['filter_factor'] = filter_fac\n",
    "\n",
    "for dim in ['time','zl','yh','xh']:\n",
    "    ds[dim] = av_f[dim]"
   ]
  },
  {
   "cell_type": "markdown",
   "metadata": {},
   "source": [
    "# Energy reservoirs & their tendencies"
   ]
  },
  {
   "cell_type": "markdown",
   "metadata": {},
   "source": [
    "### MPE & EPE\n",
    "\n",
    "\\begin{align}\n",
    " \\text{PE} = \\frac{1}{2}\\sum_{n=0}^{N-1} g_n' \\eta_n^2\n",
    " \\qquad\n",
    " \\text{MPE} = \\frac{1}{2}\\sum_{n=0}^{N-1} g_n' \\bar{\\eta}_n^2\n",
    " \\qquad\n",
    " \\text{EPE} = \\overline{\\text{PE}} - \\text{MPE}\n",
    "\\end{align}\n",
    "with $g_k' = g (\\rho_{k+1} - \\rho_k) / \\rho_o$"
   ]
  },
  {
   "cell_type": "code",
   "execution_count": 10,
   "metadata": {},
   "outputs": [],
   "source": [
    "rho_ref = 1000  # refernce density in NeverWorld2\n",
    "# reduced gravity\n",
    "gprime = 10 * grid.diff(av_f.zl,'Z',boundary='fill') / rho_ref\n",
    "gprime[15] = np.nan"
   ]
  },
  {
   "cell_type": "code",
   "execution_count": 11,
   "metadata": {},
   "outputs": [
    {
     "ename": "KeyError",
     "evalue": "'eta'",
     "output_type": "error",
     "traceback": [
      "\u001b[0;31m---------------------------------------------------------------------------\u001b[0m",
      "\u001b[0;31mKeyError\u001b[0m                                  Traceback (most recent call last)",
      "\u001b[0;32m/glade/u/apps/dav/opt/python/3.7.9/gnu/9.1.0/pkg-library/20201220/lib/python3.7/site-packages/xarray/core/dataset.py\u001b[0m in \u001b[0;36m_construct_dataarray\u001b[0;34m(self, name)\u001b[0m\n\u001b[1;32m   1258\u001b[0m         \u001b[0;32mtry\u001b[0m\u001b[0;34m:\u001b[0m\u001b[0;34m\u001b[0m\u001b[0;34m\u001b[0m\u001b[0m\n\u001b[0;32m-> 1259\u001b[0;31m             \u001b[0mvariable\u001b[0m \u001b[0;34m=\u001b[0m \u001b[0mself\u001b[0m\u001b[0;34m.\u001b[0m\u001b[0m_variables\u001b[0m\u001b[0;34m[\u001b[0m\u001b[0mname\u001b[0m\u001b[0;34m]\u001b[0m\u001b[0;34m\u001b[0m\u001b[0;34m\u001b[0m\u001b[0m\n\u001b[0m\u001b[1;32m   1260\u001b[0m         \u001b[0;32mexcept\u001b[0m \u001b[0mKeyError\u001b[0m\u001b[0;34m:\u001b[0m\u001b[0;34m\u001b[0m\u001b[0;34m\u001b[0m\u001b[0m\n",
      "\u001b[0;31mKeyError\u001b[0m: 'eta'",
      "\nDuring handling of the above exception, another exception occurred:\n",
      "\u001b[0;31mKeyError\u001b[0m                                  Traceback (most recent call last)",
      "\u001b[0;32m<ipython-input-11-f7518c07655b>\u001b[0m in \u001b[0;36m<module>\u001b[0;34m\u001b[0m\n\u001b[0;32m----> 1\u001b[0;31m \u001b[0mds\u001b[0m\u001b[0;34m[\u001b[0m\u001b[0;34m'MPE'\u001b[0m\u001b[0;34m]\u001b[0m \u001b[0;34m=\u001b[0m \u001b[0;34m(\u001b[0m\u001b[0;36m0.5\u001b[0m \u001b[0;34m*\u001b[0m \u001b[0mgprime\u001b[0m \u001b[0;34m*\u001b[0m \u001b[0mav_f\u001b[0m\u001b[0;34m[\u001b[0m\u001b[0;34m'eta'\u001b[0m\u001b[0;34m]\u001b[0m\u001b[0;34m**\u001b[0m\u001b[0;36m2\u001b[0m\u001b[0;34m)\u001b[0m\u001b[0;34m.\u001b[0m\u001b[0msum\u001b[0m\u001b[0;34m(\u001b[0m\u001b[0mdim\u001b[0m\u001b[0;34m=\u001b[0m\u001b[0;34m'zi'\u001b[0m\u001b[0;34m)\u001b[0m\u001b[0;34m\u001b[0m\u001b[0;34m\u001b[0m\u001b[0m\n\u001b[0m\u001b[1;32m      2\u001b[0m \u001b[0mds\u001b[0m\u001b[0;34m[\u001b[0m\u001b[0;34m'EPE'\u001b[0m\u001b[0;34m]\u001b[0m \u001b[0;34m=\u001b[0m \u001b[0;34m(\u001b[0m\u001b[0;36m0.5\u001b[0m \u001b[0;34m*\u001b[0m \u001b[0mgprime\u001b[0m \u001b[0;34m*\u001b[0m \u001b[0mav_f\u001b[0m\u001b[0;34m[\u001b[0m\u001b[0;34m'eta2'\u001b[0m\u001b[0;34m]\u001b[0m\u001b[0;34m)\u001b[0m\u001b[0;34m.\u001b[0m\u001b[0msum\u001b[0m\u001b[0;34m(\u001b[0m\u001b[0mdim\u001b[0m\u001b[0;34m=\u001b[0m\u001b[0;34m'zi'\u001b[0m\u001b[0;34m)\u001b[0m \u001b[0;34m-\u001b[0m \u001b[0mds\u001b[0m\u001b[0;34m[\u001b[0m\u001b[0;34m'MPE'\u001b[0m\u001b[0;34m]\u001b[0m\u001b[0;34m\u001b[0m\u001b[0;34m\u001b[0m\u001b[0m\n\u001b[1;32m      3\u001b[0m \u001b[0mds\u001b[0m\u001b[0;34m[\u001b[0m\u001b[0;34m'MPE'\u001b[0m\u001b[0;34m]\u001b[0m\u001b[0;34m.\u001b[0m\u001b[0mattrs\u001b[0m \u001b[0;34m=\u001b[0m \u001b[0;34m{\u001b[0m\u001b[0;34m'units'\u001b[0m \u001b[0;34m:\u001b[0m \u001b[0;34m'm3 s-2'\u001b[0m\u001b[0;34m,\u001b[0m \u001b[0;34m'long_name'\u001b[0m\u001b[0;34m:\u001b[0m \u001b[0;34m'Mean Potential Energy'\u001b[0m\u001b[0;34m}\u001b[0m\u001b[0;34m\u001b[0m\u001b[0;34m\u001b[0m\u001b[0m\n\u001b[1;32m      4\u001b[0m \u001b[0mds\u001b[0m\u001b[0;34m[\u001b[0m\u001b[0;34m'EPE'\u001b[0m\u001b[0;34m]\u001b[0m\u001b[0;34m.\u001b[0m\u001b[0mattrs\u001b[0m \u001b[0;34m=\u001b[0m \u001b[0;34m{\u001b[0m\u001b[0;34m'units'\u001b[0m \u001b[0;34m:\u001b[0m \u001b[0;34m'm3 s-2'\u001b[0m\u001b[0;34m,\u001b[0m \u001b[0;34m'long_name'\u001b[0m\u001b[0;34m:\u001b[0m \u001b[0;34m'Eddy Potential Energy'\u001b[0m\u001b[0;34m}\u001b[0m\u001b[0;34m\u001b[0m\u001b[0;34m\u001b[0m\u001b[0m\n",
      "\u001b[0;32m/glade/u/apps/dav/opt/python/3.7.9/gnu/9.1.0/pkg-library/20201220/lib/python3.7/site-packages/xarray/core/dataset.py\u001b[0m in \u001b[0;36m__getitem__\u001b[0;34m(self, key)\u001b[0m\n\u001b[1;32m   1357\u001b[0m \u001b[0;34m\u001b[0m\u001b[0m\n\u001b[1;32m   1358\u001b[0m         \u001b[0;32mif\u001b[0m \u001b[0mhashable\u001b[0m\u001b[0;34m(\u001b[0m\u001b[0mkey\u001b[0m\u001b[0;34m)\u001b[0m\u001b[0;34m:\u001b[0m\u001b[0;34m\u001b[0m\u001b[0;34m\u001b[0m\u001b[0m\n\u001b[0;32m-> 1359\u001b[0;31m             \u001b[0;32mreturn\u001b[0m \u001b[0mself\u001b[0m\u001b[0;34m.\u001b[0m\u001b[0m_construct_dataarray\u001b[0m\u001b[0;34m(\u001b[0m\u001b[0mkey\u001b[0m\u001b[0;34m)\u001b[0m\u001b[0;34m\u001b[0m\u001b[0;34m\u001b[0m\u001b[0m\n\u001b[0m\u001b[1;32m   1360\u001b[0m         \u001b[0;32melse\u001b[0m\u001b[0;34m:\u001b[0m\u001b[0;34m\u001b[0m\u001b[0;34m\u001b[0m\u001b[0m\n\u001b[1;32m   1361\u001b[0m             \u001b[0;32mreturn\u001b[0m \u001b[0mself\u001b[0m\u001b[0;34m.\u001b[0m\u001b[0m_copy_listed\u001b[0m\u001b[0;34m(\u001b[0m\u001b[0mnp\u001b[0m\u001b[0;34m.\u001b[0m\u001b[0masarray\u001b[0m\u001b[0;34m(\u001b[0m\u001b[0mkey\u001b[0m\u001b[0;34m)\u001b[0m\u001b[0;34m)\u001b[0m\u001b[0;34m\u001b[0m\u001b[0;34m\u001b[0m\u001b[0m\n",
      "\u001b[0;32m/glade/u/apps/dav/opt/python/3.7.9/gnu/9.1.0/pkg-library/20201220/lib/python3.7/site-packages/xarray/core/dataset.py\u001b[0m in \u001b[0;36m_construct_dataarray\u001b[0;34m(self, name)\u001b[0m\n\u001b[1;32m   1260\u001b[0m         \u001b[0;32mexcept\u001b[0m \u001b[0mKeyError\u001b[0m\u001b[0;34m:\u001b[0m\u001b[0;34m\u001b[0m\u001b[0;34m\u001b[0m\u001b[0m\n\u001b[1;32m   1261\u001b[0m             _, name, variable = _get_virtual_variable(\n\u001b[0;32m-> 1262\u001b[0;31m                 \u001b[0mself\u001b[0m\u001b[0;34m.\u001b[0m\u001b[0m_variables\u001b[0m\u001b[0;34m,\u001b[0m \u001b[0mname\u001b[0m\u001b[0;34m,\u001b[0m \u001b[0mself\u001b[0m\u001b[0;34m.\u001b[0m\u001b[0m_level_coords\u001b[0m\u001b[0;34m,\u001b[0m \u001b[0mself\u001b[0m\u001b[0;34m.\u001b[0m\u001b[0mdims\u001b[0m\u001b[0;34m\u001b[0m\u001b[0;34m\u001b[0m\u001b[0m\n\u001b[0m\u001b[1;32m   1263\u001b[0m             )\n\u001b[1;32m   1264\u001b[0m \u001b[0;34m\u001b[0m\u001b[0m\n",
      "\u001b[0;32m/glade/u/apps/dav/opt/python/3.7.9/gnu/9.1.0/pkg-library/20201220/lib/python3.7/site-packages/xarray/core/dataset.py\u001b[0m in \u001b[0;36m_get_virtual_variable\u001b[0;34m(variables, key, level_vars, dim_sizes)\u001b[0m\n\u001b[1;32m    169\u001b[0m         \u001b[0mref_var\u001b[0m \u001b[0;34m=\u001b[0m \u001b[0mdim_var\u001b[0m\u001b[0;34m.\u001b[0m\u001b[0mto_index_variable\u001b[0m\u001b[0;34m(\u001b[0m\u001b[0;34m)\u001b[0m\u001b[0;34m.\u001b[0m\u001b[0mget_level_variable\u001b[0m\u001b[0;34m(\u001b[0m\u001b[0mref_name\u001b[0m\u001b[0;34m)\u001b[0m\u001b[0;34m\u001b[0m\u001b[0;34m\u001b[0m\u001b[0m\n\u001b[1;32m    170\u001b[0m     \u001b[0;32melse\u001b[0m\u001b[0;34m:\u001b[0m\u001b[0;34m\u001b[0m\u001b[0;34m\u001b[0m\u001b[0m\n\u001b[0;32m--> 171\u001b[0;31m         \u001b[0mref_var\u001b[0m \u001b[0;34m=\u001b[0m \u001b[0mvariables\u001b[0m\u001b[0;34m[\u001b[0m\u001b[0mref_name\u001b[0m\u001b[0;34m]\u001b[0m\u001b[0;34m\u001b[0m\u001b[0;34m\u001b[0m\u001b[0m\n\u001b[0m\u001b[1;32m    172\u001b[0m \u001b[0;34m\u001b[0m\u001b[0m\n\u001b[1;32m    173\u001b[0m     \u001b[0;32mif\u001b[0m \u001b[0mvar_name\u001b[0m \u001b[0;32mis\u001b[0m \u001b[0;32mNone\u001b[0m\u001b[0;34m:\u001b[0m\u001b[0;34m\u001b[0m\u001b[0;34m\u001b[0m\u001b[0m\n",
      "\u001b[0;31mKeyError\u001b[0m: 'eta'"
     ]
    }
   ],
   "source": [
    "ds['MPE'] = (0.5 * gprime * av_f['eta']**2).sum(dim='zi')\n",
    "ds['EPE'] = (0.5 * gprime * av_f['eta2']).sum(dim='zi') - ds['MPE']\n",
    "ds['MPE'].attrs = {'units' : 'm3 s-2', 'long_name': 'Mean Potential Energy'}\n",
    "ds['EPE'].attrs = {'units' : 'm3 s-2', 'long_name': 'Eddy Potential Energy'}"
   ]
  },
  {
   "cell_type": "markdown",
   "metadata": {},
   "source": [
    "### MPE & EPE tendencies\n",
    "\\begin{align} \n",
    "    \\partial_t(\\text{MPE}) = \\sum_{n=0}^{N-1} g_n' \\bar{\\eta}_n \\partial_t\\bar{\\eta}_n\n",
    "     \\qquad\n",
    "     \\partial_t(\\text{EPE}) = \\frac{1}{2}\\sum_{n=0}^{N-1} g_n' \\overline{\\partial_t(\\eta^2_n}) - \\partial_t(\\text{MPE}) \n",
    "\\end{align}"
   ]
  },
  {
   "cell_type": "code",
   "execution_count": 31,
   "metadata": {},
   "outputs": [
    {
     "ename": "KeyError",
     "evalue": "'eta'",
     "output_type": "error",
     "traceback": [
      "\u001b[0;31m---------------------------------------------------------------------------\u001b[0m",
      "\u001b[0;31mKeyError\u001b[0m                                  Traceback (most recent call last)",
      "\u001b[0;32m/glade/u/apps/dav/opt/python/3.7.9/gnu/9.1.0/pkg-library/20201220/lib/python3.7/site-packages/xarray/core/dataset.py\u001b[0m in \u001b[0;36m_construct_dataarray\u001b[0;34m(self, name)\u001b[0m\n\u001b[1;32m   1258\u001b[0m         \u001b[0;32mtry\u001b[0m\u001b[0;34m:\u001b[0m\u001b[0;34m\u001b[0m\u001b[0;34m\u001b[0m\u001b[0m\n\u001b[0;32m-> 1259\u001b[0;31m             \u001b[0mvariable\u001b[0m \u001b[0;34m=\u001b[0m \u001b[0mself\u001b[0m\u001b[0;34m.\u001b[0m\u001b[0m_variables\u001b[0m\u001b[0;34m[\u001b[0m\u001b[0mname\u001b[0m\u001b[0;34m]\u001b[0m\u001b[0;34m\u001b[0m\u001b[0;34m\u001b[0m\u001b[0m\n\u001b[0m\u001b[1;32m   1260\u001b[0m         \u001b[0;32mexcept\u001b[0m \u001b[0mKeyError\u001b[0m\u001b[0;34m:\u001b[0m\u001b[0;34m\u001b[0m\u001b[0;34m\u001b[0m\u001b[0m\n",
      "\u001b[0;31mKeyError\u001b[0m: 'eta'",
      "\nDuring handling of the above exception, another exception occurred:\n",
      "\u001b[0;31mKeyError\u001b[0m                                  Traceback (most recent call last)",
      "\u001b[0;32m<ipython-input-31-6c6159e5446c>\u001b[0m in \u001b[0;36m<module>\u001b[0;34m\u001b[0m\n\u001b[0;32m----> 1\u001b[0;31m \u001b[0mds\u001b[0m\u001b[0;34m[\u001b[0m\u001b[0;34m'dMPEdt'\u001b[0m\u001b[0;34m]\u001b[0m \u001b[0;34m=\u001b[0m \u001b[0;34m(\u001b[0m\u001b[0mgprime\u001b[0m \u001b[0;34m*\u001b[0m \u001b[0mav_f\u001b[0m\u001b[0;34m[\u001b[0m\u001b[0;34m'eta'\u001b[0m\u001b[0;34m]\u001b[0m \u001b[0;34m*\u001b[0m \u001b[0mav_f\u001b[0m\u001b[0;34m[\u001b[0m\u001b[0;34m'deta_dt'\u001b[0m\u001b[0;34m]\u001b[0m\u001b[0;34m)\u001b[0m\u001b[0;34m.\u001b[0m\u001b[0msum\u001b[0m\u001b[0;34m(\u001b[0m\u001b[0mdim\u001b[0m\u001b[0;34m=\u001b[0m\u001b[0;34m'zi'\u001b[0m\u001b[0;34m)\u001b[0m\u001b[0;34m\u001b[0m\u001b[0;34m\u001b[0m\u001b[0m\n\u001b[0m\u001b[1;32m      2\u001b[0m \u001b[0mds\u001b[0m\u001b[0;34m[\u001b[0m\u001b[0;34m'dEPEdt'\u001b[0m\u001b[0;34m]\u001b[0m \u001b[0;34m=\u001b[0m \u001b[0;34m(\u001b[0m\u001b[0;36m0.5\u001b[0m \u001b[0;34m*\u001b[0m \u001b[0mgprime\u001b[0m \u001b[0;34m*\u001b[0m \u001b[0mav_f\u001b[0m\u001b[0;34m[\u001b[0m\u001b[0;34m'deta2_dt'\u001b[0m\u001b[0;34m]\u001b[0m\u001b[0;34m)\u001b[0m\u001b[0;34m.\u001b[0m\u001b[0msum\u001b[0m\u001b[0;34m(\u001b[0m\u001b[0mdim\u001b[0m\u001b[0;34m=\u001b[0m\u001b[0;34m'zi'\u001b[0m\u001b[0;34m)\u001b[0m \u001b[0;34m-\u001b[0m \u001b[0mds\u001b[0m\u001b[0;34m[\u001b[0m\u001b[0;34m'dMPEdt'\u001b[0m\u001b[0;34m]\u001b[0m\u001b[0;34m\u001b[0m\u001b[0;34m\u001b[0m\u001b[0m\n",
      "\u001b[0;32m/glade/u/apps/dav/opt/python/3.7.9/gnu/9.1.0/pkg-library/20201220/lib/python3.7/site-packages/xarray/core/dataset.py\u001b[0m in \u001b[0;36m__getitem__\u001b[0;34m(self, key)\u001b[0m\n\u001b[1;32m   1357\u001b[0m \u001b[0;34m\u001b[0m\u001b[0m\n\u001b[1;32m   1358\u001b[0m         \u001b[0;32mif\u001b[0m \u001b[0mhashable\u001b[0m\u001b[0;34m(\u001b[0m\u001b[0mkey\u001b[0m\u001b[0;34m)\u001b[0m\u001b[0;34m:\u001b[0m\u001b[0;34m\u001b[0m\u001b[0;34m\u001b[0m\u001b[0m\n\u001b[0;32m-> 1359\u001b[0;31m             \u001b[0;32mreturn\u001b[0m \u001b[0mself\u001b[0m\u001b[0;34m.\u001b[0m\u001b[0m_construct_dataarray\u001b[0m\u001b[0;34m(\u001b[0m\u001b[0mkey\u001b[0m\u001b[0;34m)\u001b[0m\u001b[0;34m\u001b[0m\u001b[0;34m\u001b[0m\u001b[0m\n\u001b[0m\u001b[1;32m   1360\u001b[0m         \u001b[0;32melse\u001b[0m\u001b[0;34m:\u001b[0m\u001b[0;34m\u001b[0m\u001b[0;34m\u001b[0m\u001b[0m\n\u001b[1;32m   1361\u001b[0m             \u001b[0;32mreturn\u001b[0m \u001b[0mself\u001b[0m\u001b[0;34m.\u001b[0m\u001b[0m_copy_listed\u001b[0m\u001b[0;34m(\u001b[0m\u001b[0mnp\u001b[0m\u001b[0;34m.\u001b[0m\u001b[0masarray\u001b[0m\u001b[0;34m(\u001b[0m\u001b[0mkey\u001b[0m\u001b[0;34m)\u001b[0m\u001b[0;34m)\u001b[0m\u001b[0;34m\u001b[0m\u001b[0;34m\u001b[0m\u001b[0m\n",
      "\u001b[0;32m/glade/u/apps/dav/opt/python/3.7.9/gnu/9.1.0/pkg-library/20201220/lib/python3.7/site-packages/xarray/core/dataset.py\u001b[0m in \u001b[0;36m_construct_dataarray\u001b[0;34m(self, name)\u001b[0m\n\u001b[1;32m   1260\u001b[0m         \u001b[0;32mexcept\u001b[0m \u001b[0mKeyError\u001b[0m\u001b[0;34m:\u001b[0m\u001b[0;34m\u001b[0m\u001b[0;34m\u001b[0m\u001b[0m\n\u001b[1;32m   1261\u001b[0m             _, name, variable = _get_virtual_variable(\n\u001b[0;32m-> 1262\u001b[0;31m                 \u001b[0mself\u001b[0m\u001b[0;34m.\u001b[0m\u001b[0m_variables\u001b[0m\u001b[0;34m,\u001b[0m \u001b[0mname\u001b[0m\u001b[0;34m,\u001b[0m \u001b[0mself\u001b[0m\u001b[0;34m.\u001b[0m\u001b[0m_level_coords\u001b[0m\u001b[0;34m,\u001b[0m \u001b[0mself\u001b[0m\u001b[0;34m.\u001b[0m\u001b[0mdims\u001b[0m\u001b[0;34m\u001b[0m\u001b[0;34m\u001b[0m\u001b[0m\n\u001b[0m\u001b[1;32m   1263\u001b[0m             )\n\u001b[1;32m   1264\u001b[0m \u001b[0;34m\u001b[0m\u001b[0m\n",
      "\u001b[0;32m/glade/u/apps/dav/opt/python/3.7.9/gnu/9.1.0/pkg-library/20201220/lib/python3.7/site-packages/xarray/core/dataset.py\u001b[0m in \u001b[0;36m_get_virtual_variable\u001b[0;34m(variables, key, level_vars, dim_sizes)\u001b[0m\n\u001b[1;32m    169\u001b[0m         \u001b[0mref_var\u001b[0m \u001b[0;34m=\u001b[0m \u001b[0mdim_var\u001b[0m\u001b[0;34m.\u001b[0m\u001b[0mto_index_variable\u001b[0m\u001b[0;34m(\u001b[0m\u001b[0;34m)\u001b[0m\u001b[0;34m.\u001b[0m\u001b[0mget_level_variable\u001b[0m\u001b[0;34m(\u001b[0m\u001b[0mref_name\u001b[0m\u001b[0;34m)\u001b[0m\u001b[0;34m\u001b[0m\u001b[0;34m\u001b[0m\u001b[0m\n\u001b[1;32m    170\u001b[0m     \u001b[0;32melse\u001b[0m\u001b[0;34m:\u001b[0m\u001b[0;34m\u001b[0m\u001b[0;34m\u001b[0m\u001b[0m\n\u001b[0;32m--> 171\u001b[0;31m         \u001b[0mref_var\u001b[0m \u001b[0;34m=\u001b[0m \u001b[0mvariables\u001b[0m\u001b[0;34m[\u001b[0m\u001b[0mref_name\u001b[0m\u001b[0;34m]\u001b[0m\u001b[0;34m\u001b[0m\u001b[0;34m\u001b[0m\u001b[0m\n\u001b[0m\u001b[1;32m    172\u001b[0m \u001b[0;34m\u001b[0m\u001b[0m\n\u001b[1;32m    173\u001b[0m     \u001b[0;32mif\u001b[0m \u001b[0mvar_name\u001b[0m \u001b[0;32mis\u001b[0m \u001b[0;32mNone\u001b[0m\u001b[0;34m:\u001b[0m\u001b[0;34m\u001b[0m\u001b[0;34m\u001b[0m\u001b[0m\n",
      "\u001b[0;31mKeyError\u001b[0m: 'eta'"
     ]
    }
   ],
   "source": [
    "ds['dMPEdt'] = (gprime * av_f['eta'] * av_f['deta_dt']).sum(dim='zi')\n",
    "ds['dEPEdt'] = (0.5 * gprime * av_f['deta2_dt']).sum(dim='zi') - ds['dMPEdt']"
   ]
  },
  {
   "cell_type": "markdown",
   "metadata": {},
   "source": [
    "### MKE & EKE\n",
    "\n",
    "\\begin{align}\n",
    " \\text{KE} = \\frac{1}{2}\\sum_{n=1}^{N} h_n (u_n^2 + v_n^2)\n",
    " \\qquad\n",
    " \\text{MKE} = \\frac{1}{2}\\sum_{n=1}^{N} \\bar{h}_n (\\hat{u}_n^2 + \\hat{v}_n^2)\n",
    " \\qquad\n",
    " \\text{EKE} = \\overline{\\text{KE}} - \\text{MKE},\n",
    "\\end{align}\n",
    "\n",
    "where \n",
    "\\begin{align}\n",
    "\\hat{u}_n  = \\frac{\\overline{h_n u_n}}{\\bar{h}_n}, \\qquad \\hat{v}_n  = \\frac{\\overline{h_n v_n}}{\\bar{h}_n}\n",
    "\\end{align}"
   ]
  },
  {
   "cell_type": "code",
   "execution_count": 18,
   "metadata": {},
   "outputs": [],
   "source": [
    "MKE = 0.5 / av_f['h'] * (\n",
    "    grid.interp(((av_f['uh'] / st['dyCu'])**2).fillna(value=0), 'X')  # use simple mid-point average consistent with how KE is discretized in online model\n",
    "    + grid.interp(((av_f['vh'] / st['dxCv'])**2).fillna(value=0), 'Y')  # use simple mid-point average consistent with how KE is discretized in online model\n",
    ")\n",
    "ds['MKE_TWA'] = MKE.sum(dim='zl')\n",
    "\n",
    "#av_f['hKE'] is filtered KE = 0.5 * h * (u^2 + v^2)\n",
    "ds['EKE_TWA'] = av_f['hKE'].sum(dim='zl') - ds['MKE_TWA']  \n",
    "\n",
    "ds['MKE_TWA'].attrs = {'units' : 'm3 s-2', 'long_name': 'Mean Kinetic Energy (TWA)'}\n",
    "ds['EKE_TWA'].attrs = {'units' : 'm3 s-2', 'long_name': 'Eddy Kinetic Energy (TWA)'}"
   ]
  },
  {
   "cell_type": "markdown",
   "metadata": {},
   "source": [
    "### MKE & EKE tendencies\n",
    "\\begin{align} \n",
    "    \\partial_t(\\text{MKE}) =  \\text{5-day-average}\\left(\\partial_t \\text{MKE}\\right) = \\frac{1}{\\tau_1-\\tau_0} \\int_{\\tau_0}^{\\tau_1} \\partial_t (\\text{MKE})\\, dt = \\frac{\\text{MKE}(\\tau_1) - \\text{MKE}(\\tau_0)}{\\tau_1-\\tau_0},\n",
    "\\end{align}\n",
    "where the 5-day time interval is denoted by $[\\tau_0, \\tau_1]$. We can thus get the MKE tendencies from MKE snapshots. Similarly, we can compute\n",
    "\n",
    "\\begin{align} \n",
    "    \\partial_t(\\text{EKE}) =  \\frac{\\overline{\\text{KE}}(\\tau_1) - \\overline{\\text{KE}}(\\tau_0)}{\\tau_1-\\tau_0} - \\partial_t(\\text{MKE})\n",
    "\\end{align}\n",
    "from snapshots of `hKE` and the MKE snapshots."
   ]
  },
  {
   "cell_type": "code",
   "execution_count": 28,
   "metadata": {},
   "outputs": [],
   "source": [
    "if np.all(av_f.average_DT == av_f.average_DT[0]):\n",
    "    deltat = av_f.average_DT[0] * 24 * 60 * 60\n",
    "else: \n",
    "    raise AssertionError('averaging intervals vary')"
   ]
  },
  {
   "cell_type": "code",
   "execution_count": 34,
   "metadata": {},
   "outputs": [],
   "source": [
    "# MKE tendency\n",
    "MKE = 0.5 / sn_f['h'] * (\n",
    "    grid.interp(((sn_f['uh'] / st['dyCu'])**2).fillna(value=0), 'X')  # use simple mid-point average consistent with how KE is discretized in online model\n",
    "    + grid.interp(((sn_f['vh'] / st['dxCv'])**2).fillna(value=0), 'Y')  # use simple mid-point average consistent with how KE is discretized in online model\n",
    ")\n",
    "\n",
    "if np.array_equal(av_f.time_bnds[:,1], sn_f.time):\n",
    "    with dask.config.set(**{'array.slicing.split_large_chunks': False}):\n",
    "        dMKEdt = (MKE - MKE.shift(time=1)) / deltat\n",
    "        dMKEdt['time'] = av_f['h'].time\n",
    "else: \n",
    "    raise AssertionError('av and sn datasets not compatitble')\n",
    "\n",
    "dMKEdt = dMKEdt.where(av_f.time > av_f.time[0])  \n",
    "dMKEdt = dMKEdt.chunk({'time': 1})\n",
    "ds['dMKEdt_TWA'] = dMKEdt.sum(dim='zl')\n",
    "\n",
    "ds['dMKEdt_TWA'].attrs = {'units' : 'm3 s-2', 'long_name': 'Mean Kinetic Energy tendency (TWA)'}\n",
    "\n",
    "# EKE tendency\n",
    "hKE = sn_f['hKE']\n",
    "if np.array_equal(av_f.time_bnds[:,1], sn_f.time):\n",
    "    with dask.config.set(**{'array.slicing.split_large_chunks': False}):\n",
    "        hKEdt = (hKE - hKE.shift(time=1)) / deltat\n",
    "        hKEdt['time'] = av_f['h'].time\n",
    "else: \n",
    "    raise AssertionError('av and sn datasets not compatitble')\n",
    " \n",
    "hKEdt = hKEdt.where(av_f.time > av_f.time[0])  \n",
    "hKEdt = hKEdt.chunk({'time': 1})\n",
    "ds['dEKEdt_TWA'] = hKEdt.sum(dim='zl') - ds['dMKEdt_TWA']\n",
    "ds['dEKEdt_TWA'].attrs = {'units' : 'm3 s-2', 'long_name': 'Eddy Kinetic Energy tendency (TWA)'}"
   ]
  },
  {
   "cell_type": "markdown",
   "metadata": {},
   "source": [
    "## Energy conversion terms (cf. Figure 3b in Loose et al., 2022)"
   ]
  },
  {
   "cell_type": "markdown",
   "metadata": {},
   "source": [
    "### EKE production $\\Sigma^B$\n",
    "\n",
    "\\begin{align}\n",
    "   \\Sigma^B = \\underbrace{- \\sum_{n=1}^N\\overline{h_n (u_n \\partial_x M_n + v_n \\partial_y M_n)}}_{\\overline{\\text{PE_to_KE+KE_BT}}} + \\sum_{n=1}^N\\bar{h}_n(\\hat{u}_n \\underbrace{\\widehat{\\partial_x M_n}}_{-\\overline{\\text{PFu+u_BT_accel_visc_rem}}} + \\hat{v}_n \\underbrace{\\widehat{\\partial_y M_n}}_{-\\overline{\\text{PFv+v_BT_accel_visc_rem}}} )\n",
    "\\end{align}\n"
   ]
  },
  {
   "cell_type": "code",
   "execution_count": 36,
   "metadata": {},
   "outputs": [],
   "source": [
    "EKE_production = av_f['PE_to_KE+KE_BT'] - 1 / st['area_t'] / av_f['h'] * (\n",
    "    grid.interp((av_f['uh'] * st['dxCu'] * av_f['h_PFu+u_BT_accel']).fillna(value=0), 'X')\n",
    "    + grid.interp((av_f['vh'] * st['dyCv'] * av_f['h_PFv+v_BT_accel']).fillna(value=0), 'Y')\n",
    ")\n",
    "ds['EKE_production_TWA'] = EKE_production.sum(dim='zl')\n",
    "ds['EKE_production_TWA'].attrs = {'units' : 'm3 s-3', 'long_name': 'EKE production (TWA)'}"
   ]
  },
  {
   "cell_type": "markdown",
   "metadata": {},
   "source": [
    "### Baroclinic conversion $\\Gamma^B$\n",
    "\n",
    "With \n",
    "$$\\mathcal{E} = \\sum_{n=1}^N \\left(\\nabla\\cdot(\\overline{h_n\\mathbf{u}_n}) \\underbrace{- \\overline{\\nabla\\cdot(h_n\\mathbf{u}_n)}}_{\\overline{\\partial_t h_n}}\\right) \\bar{M}_n,\n",
    "$$ \n",
    "we have\n",
    "\n",
    "\\begin{align}\n",
    " \\Gamma^B  & = -\\sum_{n=1}^N\\bar{h}_n\\hat{\\mathbf{u}}_n\\cdot\\left( \\nabla \\bar{M}_n-\\widehat{\\nabla M_n}\\right)-\\mathcal{E}\\\\\n",
    " & = \\Sigma^B\n",
    " \\underbrace{-  \\sum_{n=1}^N \\left(\\overline{M_n \\left(\\partial_x (h_n u_n) + \\partial_y (h_n v_n)\\right)} -\\bar{M}_n\\left(\\overline{\\partial_x (h_n u_n) + \\partial_y (h_n v_n}\\right)\\right)}_\\text{EPE tendency, see eqn (A5)}\n",
    " + \\underbrace{ \\sum_{n=1}^N \\left(\\overline{\\partial_x(h_n u_n M_n) + \\partial_y(h_n v_n M_n)} \n",
    " - \\left(\\partial_x(\\overline{h_n u_n} \\bar{M}_n) + \\partial_y (\\overline{h_n v_n} \\bar{M}_n)\\right)\\right)}_{-\\mathcal{D},\\text{ see eqn (A13)}}\n",
    " \\end{align}\n",
    "\n",
    "where the last identity follows from equations (A19) and (A13) in Loose et al. (2022). \n",
    "\n",
    "Thus, we have two options to compute $\\Gamma^B$: via the first line, or via the second line. The two options would give the same result in a non-discretized world, but lead to small differences in our discretized world (in time and space). For Figure 8 in Loose et al. (2022), we computed $\\Gamma^B$ via the second option, and this is the default below (`BC_conversion_TWA`). \n",
    "\n",
    "If you want to diagnose $\\Gamma^B$ via the first option (`BC_conversion_TWA_alt`), set `extended_diags=True` at the top of this notebook."
   ]
  },
  {
   "cell_type": "code",
   "execution_count": null,
   "metadata": {},
   "outputs": [],
   "source": [
    "# compute eddy pressure flux divergence, div = - D\n",
    "uhM_mean = av_f['uh'] * grid.interp(av_f['MP'].fillna(value=0),'X', metric_weighted=['X','Y'])\n",
    "uflux = grid.diff(uhM_mean.fillna(value=0),'X')\n",
    "vhM_mean = av_f['vh'] * grid.interp(av_f['MP'].fillna(value=0),'Y', metric_weighted=['X','Y'], boundary='fill')\n",
    "vflux = grid.diff(vhM_mean.fillna(value=0),'Y')\n",
    "div_mean = (uflux + vflux).where(wet) / st.area_t  # finite volume discretization\n",
    "\n",
    "# av_f[uhM_div] = filtered(div(uhM))\n",
    "div = av_f['uhM_div'] - div_mean\n",
    "div = div.chunk({'yh':Ny, 'xh':Nx})\n",
    "\n",
    "ds['BC_conversion_TWA'] = ds['EKE_production_TWA'] + div.sum(dim='zl') + ds['dEPEdt']\n",
    "ds['BC_conversion_TWA'].attrs = {'units' : 'm3 s-3', 'long_name': 'baroclinic conversion (TWA)'}\n",
    "\n",
    "if extended_diags:\n",
    "    # extra term E\n",
    "    uflux = grid.diff(av_f['uh'].fillna(value=0), 'X')\n",
    "    vflux = grid.diff(av_f['vh'].fillna(value=0), 'Y')\n",
    "    div = (uflux + vflux) / st.area_t  # finite volume discretization\n",
    "    extra_term = - av_f['MP'] * (div + av_f['dhdt']) \n",
    "\n",
    "    conversion = (\n",
    "        - grid.interp((av_f['uh'] / st['dyCu']) * (grid.derivative(av_f['MP'], 'X')), 'X')\n",
    "        - grid.interp((av_f['vh'] / st['dxCv']) * (grid.derivative(av_f['MP'], 'Y', boundary='fill')), 'Y')\n",
    "        + 1 / av_f['h'] / st['area_t'] * (\n",
    "            - grid.interp((av_f['uh'] * st['dxCu'] * av_f['h_PFu+u_BT_accel']).fillna(value=0), 'X')\n",
    "            - grid.interp((av_f['vh'] * st['dyCv'] * av_f['h_PFv+v_BT_accel']).fillna(value=0), 'Y')\n",
    "        )\n",
    "    )\n",
    "\n",
    "    ds['BC_conversion_TWA_alt'] = (conversion - extra_term).sum(dim='zl') \n",
    "    ds['BC_conversion_TWA_alt'].attrs = {'units' : 'm3 s-3', 'long_name': 'baroclinic conversion (TWA), alternative computation'}"
   ]
  },
  {
   "cell_type": "markdown",
   "metadata": {},
   "source": [
    "### MKE --> MPE\n",
    "\\begin{align}\n",
    "   (\\text{MKE} \\to \\text{MPE}) & = \\underbrace{\\sum_{n=1}^N\\bar{h}_n \\left(\\hat{u}_n \\partial_x \\bar{M}_n + \\hat{v}_n \\partial_y \\bar{M}_n\\right) + \\mathcal{E}}_\\text{see Figure 3b}\n",
    "\\end{align}\n",
    "\n",
    "with $$\\mathcal{E} = \\sum_{n=1}^N \\left(\\nabla\\cdot(\\overline{h_n\\mathbf{u}_n}) \\underbrace{- \\overline{\\nabla\\cdot(h_n\\mathbf{u}_n)}}_{\\overline{\\partial_t h_n}}\\right) \\bar{M}_n,\n",
    "$$ "
   ]
  },
  {
   "cell_type": "code",
   "execution_count": 37,
   "metadata": {},
   "outputs": [
    {
     "ename": "KeyError",
     "evalue": "'MP'",
     "output_type": "error",
     "traceback": [
      "\u001b[0;31m---------------------------------------------------------------------------\u001b[0m",
      "\u001b[0;31mKeyError\u001b[0m                                  Traceback (most recent call last)",
      "\u001b[0;32m/glade/u/apps/dav/opt/python/3.7.9/gnu/9.1.0/pkg-library/20201220/lib/python3.7/site-packages/xarray/core/dataset.py\u001b[0m in \u001b[0;36m_construct_dataarray\u001b[0;34m(self, name)\u001b[0m\n\u001b[1;32m   1258\u001b[0m         \u001b[0;32mtry\u001b[0m\u001b[0;34m:\u001b[0m\u001b[0;34m\u001b[0m\u001b[0;34m\u001b[0m\u001b[0m\n\u001b[0;32m-> 1259\u001b[0;31m             \u001b[0mvariable\u001b[0m \u001b[0;34m=\u001b[0m \u001b[0mself\u001b[0m\u001b[0;34m.\u001b[0m\u001b[0m_variables\u001b[0m\u001b[0;34m[\u001b[0m\u001b[0mname\u001b[0m\u001b[0;34m]\u001b[0m\u001b[0;34m\u001b[0m\u001b[0;34m\u001b[0m\u001b[0m\n\u001b[0m\u001b[1;32m   1260\u001b[0m         \u001b[0;32mexcept\u001b[0m \u001b[0mKeyError\u001b[0m\u001b[0;34m:\u001b[0m\u001b[0;34m\u001b[0m\u001b[0;34m\u001b[0m\u001b[0m\n",
      "\u001b[0;31mKeyError\u001b[0m: 'MP'",
      "\nDuring handling of the above exception, another exception occurred:\n",
      "\u001b[0;31mKeyError\u001b[0m                                  Traceback (most recent call last)",
      "\u001b[0;32m<ipython-input-37-57611481c5da>\u001b[0m in \u001b[0;36m<module>\u001b[0;34m\u001b[0m\n\u001b[0;32m----> 1\u001b[0;31m \u001b[0muflux\u001b[0m \u001b[0;34m=\u001b[0m \u001b[0mgrid\u001b[0m\u001b[0;34m.\u001b[0m\u001b[0mdiff\u001b[0m\u001b[0;34m(\u001b[0m\u001b[0;34m(\u001b[0m\u001b[0mav_f\u001b[0m\u001b[0;34m[\u001b[0m\u001b[0;34m'uh'\u001b[0m\u001b[0;34m]\u001b[0m \u001b[0;34m*\u001b[0m \u001b[0mgrid\u001b[0m\u001b[0;34m.\u001b[0m\u001b[0minterp\u001b[0m\u001b[0;34m(\u001b[0m\u001b[0mav_f\u001b[0m\u001b[0;34m[\u001b[0m\u001b[0;34m'MP'\u001b[0m\u001b[0;34m]\u001b[0m\u001b[0;34m.\u001b[0m\u001b[0mfillna\u001b[0m\u001b[0;34m(\u001b[0m\u001b[0mvalue\u001b[0m\u001b[0;34m=\u001b[0m\u001b[0;36m0\u001b[0m\u001b[0;34m)\u001b[0m\u001b[0;34m,\u001b[0m \u001b[0;34m'X'\u001b[0m\u001b[0;34m,\u001b[0m \u001b[0mmetric_weighted\u001b[0m\u001b[0;34m=\u001b[0m\u001b[0;34m[\u001b[0m\u001b[0;34m'X'\u001b[0m\u001b[0;34m,\u001b[0m\u001b[0;34m'Y'\u001b[0m\u001b[0;34m]\u001b[0m\u001b[0;34m)\u001b[0m\u001b[0;34m)\u001b[0m\u001b[0;34m.\u001b[0m\u001b[0mfillna\u001b[0m\u001b[0;34m(\u001b[0m\u001b[0mvalue\u001b[0m\u001b[0;34m=\u001b[0m\u001b[0;36m0\u001b[0m\u001b[0;34m)\u001b[0m\u001b[0;34m,\u001b[0m\u001b[0;34m'X'\u001b[0m\u001b[0;34m)\u001b[0m\u001b[0;34m\u001b[0m\u001b[0;34m\u001b[0m\u001b[0m\n\u001b[0m\u001b[1;32m      2\u001b[0m \u001b[0mvflux\u001b[0m \u001b[0;34m=\u001b[0m \u001b[0mgrid\u001b[0m\u001b[0;34m.\u001b[0m\u001b[0mdiff\u001b[0m\u001b[0;34m(\u001b[0m\u001b[0;34m(\u001b[0m\u001b[0mav_f\u001b[0m\u001b[0;34m[\u001b[0m\u001b[0;34m'vh'\u001b[0m\u001b[0;34m]\u001b[0m \u001b[0;34m*\u001b[0m \u001b[0mgrid\u001b[0m\u001b[0;34m.\u001b[0m\u001b[0minterp\u001b[0m\u001b[0;34m(\u001b[0m\u001b[0mav_f\u001b[0m\u001b[0;34m[\u001b[0m\u001b[0;34m'MP'\u001b[0m\u001b[0;34m]\u001b[0m\u001b[0;34m.\u001b[0m\u001b[0mfillna\u001b[0m\u001b[0;34m(\u001b[0m\u001b[0mvalue\u001b[0m\u001b[0;34m=\u001b[0m\u001b[0;36m0\u001b[0m\u001b[0;34m)\u001b[0m\u001b[0;34m,\u001b[0m\u001b[0;34m'Y'\u001b[0m\u001b[0;34m,\u001b[0m\u001b[0mmetric_weighted\u001b[0m\u001b[0;34m=\u001b[0m\u001b[0;34m[\u001b[0m\u001b[0;34m'X'\u001b[0m\u001b[0;34m,\u001b[0m\u001b[0;34m'Y'\u001b[0m\u001b[0;34m]\u001b[0m\u001b[0;34m,\u001b[0m\u001b[0mboundary\u001b[0m\u001b[0;34m=\u001b[0m\u001b[0;34m'fill'\u001b[0m\u001b[0;34m)\u001b[0m\u001b[0;34m)\u001b[0m\u001b[0;34m.\u001b[0m\u001b[0mfillna\u001b[0m\u001b[0;34m(\u001b[0m\u001b[0mvalue\u001b[0m\u001b[0;34m=\u001b[0m\u001b[0;36m0\u001b[0m\u001b[0;34m)\u001b[0m\u001b[0;34m,\u001b[0m\u001b[0;34m'Y'\u001b[0m\u001b[0;34m)\u001b[0m\u001b[0;34m\u001b[0m\u001b[0;34m\u001b[0m\u001b[0m\n\u001b[1;32m      3\u001b[0m \u001b[0mdiv\u001b[0m \u001b[0;34m=\u001b[0m \u001b[0;34m(\u001b[0m\u001b[0muflux\u001b[0m \u001b[0;34m+\u001b[0m \u001b[0mvflux\u001b[0m\u001b[0;34m)\u001b[0m \u001b[0;34m/\u001b[0m \u001b[0mst\u001b[0m\u001b[0;34m.\u001b[0m\u001b[0marea_t\u001b[0m  \u001b[0;31m# finite volume discretization\u001b[0m\u001b[0;34m\u001b[0m\u001b[0;34m\u001b[0m\u001b[0m\n\u001b[1;32m      4\u001b[0m \u001b[0mds\u001b[0m\u001b[0;34m[\u001b[0m\u001b[0;34m'MKE_to_MPE'\u001b[0m\u001b[0;34m]\u001b[0m \u001b[0;34m=\u001b[0m \u001b[0mds\u001b[0m\u001b[0;34m[\u001b[0m\u001b[0;34m'BC_conversion'\u001b[0m\u001b[0;34m]\u001b[0m \u001b[0;34m+\u001b[0m \u001b[0mds\u001b[0m\u001b[0;34m[\u001b[0m\u001b[0;34m'dMPEdt'\u001b[0m\u001b[0;34m]\u001b[0m \u001b[0;34m-\u001b[0m \u001b[0mdiv\u001b[0m\u001b[0;34m.\u001b[0m\u001b[0msum\u001b[0m\u001b[0;34m(\u001b[0m\u001b[0mdim\u001b[0m\u001b[0;34m=\u001b[0m\u001b[0;34m'zl'\u001b[0m\u001b[0;34m)\u001b[0m\u001b[0;34m\u001b[0m\u001b[0;34m\u001b[0m\u001b[0m\n\u001b[1;32m      5\u001b[0m \u001b[0;34m\u001b[0m\u001b[0m\n",
      "\u001b[0;32m/glade/u/apps/dav/opt/python/3.7.9/gnu/9.1.0/pkg-library/20201220/lib/python3.7/site-packages/xarray/core/dataset.py\u001b[0m in \u001b[0;36m__getitem__\u001b[0;34m(self, key)\u001b[0m\n\u001b[1;32m   1357\u001b[0m \u001b[0;34m\u001b[0m\u001b[0m\n\u001b[1;32m   1358\u001b[0m         \u001b[0;32mif\u001b[0m \u001b[0mhashable\u001b[0m\u001b[0;34m(\u001b[0m\u001b[0mkey\u001b[0m\u001b[0;34m)\u001b[0m\u001b[0;34m:\u001b[0m\u001b[0;34m\u001b[0m\u001b[0;34m\u001b[0m\u001b[0m\n\u001b[0;32m-> 1359\u001b[0;31m             \u001b[0;32mreturn\u001b[0m \u001b[0mself\u001b[0m\u001b[0;34m.\u001b[0m\u001b[0m_construct_dataarray\u001b[0m\u001b[0;34m(\u001b[0m\u001b[0mkey\u001b[0m\u001b[0;34m)\u001b[0m\u001b[0;34m\u001b[0m\u001b[0;34m\u001b[0m\u001b[0m\n\u001b[0m\u001b[1;32m   1360\u001b[0m         \u001b[0;32melse\u001b[0m\u001b[0;34m:\u001b[0m\u001b[0;34m\u001b[0m\u001b[0;34m\u001b[0m\u001b[0m\n\u001b[1;32m   1361\u001b[0m             \u001b[0;32mreturn\u001b[0m \u001b[0mself\u001b[0m\u001b[0;34m.\u001b[0m\u001b[0m_copy_listed\u001b[0m\u001b[0;34m(\u001b[0m\u001b[0mnp\u001b[0m\u001b[0;34m.\u001b[0m\u001b[0masarray\u001b[0m\u001b[0;34m(\u001b[0m\u001b[0mkey\u001b[0m\u001b[0;34m)\u001b[0m\u001b[0;34m)\u001b[0m\u001b[0;34m\u001b[0m\u001b[0;34m\u001b[0m\u001b[0m\n",
      "\u001b[0;32m/glade/u/apps/dav/opt/python/3.7.9/gnu/9.1.0/pkg-library/20201220/lib/python3.7/site-packages/xarray/core/dataset.py\u001b[0m in \u001b[0;36m_construct_dataarray\u001b[0;34m(self, name)\u001b[0m\n\u001b[1;32m   1260\u001b[0m         \u001b[0;32mexcept\u001b[0m \u001b[0mKeyError\u001b[0m\u001b[0;34m:\u001b[0m\u001b[0;34m\u001b[0m\u001b[0;34m\u001b[0m\u001b[0m\n\u001b[1;32m   1261\u001b[0m             _, name, variable = _get_virtual_variable(\n\u001b[0;32m-> 1262\u001b[0;31m                 \u001b[0mself\u001b[0m\u001b[0;34m.\u001b[0m\u001b[0m_variables\u001b[0m\u001b[0;34m,\u001b[0m \u001b[0mname\u001b[0m\u001b[0;34m,\u001b[0m \u001b[0mself\u001b[0m\u001b[0;34m.\u001b[0m\u001b[0m_level_coords\u001b[0m\u001b[0;34m,\u001b[0m \u001b[0mself\u001b[0m\u001b[0;34m.\u001b[0m\u001b[0mdims\u001b[0m\u001b[0;34m\u001b[0m\u001b[0;34m\u001b[0m\u001b[0m\n\u001b[0m\u001b[1;32m   1263\u001b[0m             )\n\u001b[1;32m   1264\u001b[0m \u001b[0;34m\u001b[0m\u001b[0m\n",
      "\u001b[0;32m/glade/u/apps/dav/opt/python/3.7.9/gnu/9.1.0/pkg-library/20201220/lib/python3.7/site-packages/xarray/core/dataset.py\u001b[0m in \u001b[0;36m_get_virtual_variable\u001b[0;34m(variables, key, level_vars, dim_sizes)\u001b[0m\n\u001b[1;32m    169\u001b[0m         \u001b[0mref_var\u001b[0m \u001b[0;34m=\u001b[0m \u001b[0mdim_var\u001b[0m\u001b[0;34m.\u001b[0m\u001b[0mto_index_variable\u001b[0m\u001b[0;34m(\u001b[0m\u001b[0;34m)\u001b[0m\u001b[0;34m.\u001b[0m\u001b[0mget_level_variable\u001b[0m\u001b[0;34m(\u001b[0m\u001b[0mref_name\u001b[0m\u001b[0;34m)\u001b[0m\u001b[0;34m\u001b[0m\u001b[0;34m\u001b[0m\u001b[0m\n\u001b[1;32m    170\u001b[0m     \u001b[0;32melse\u001b[0m\u001b[0;34m:\u001b[0m\u001b[0;34m\u001b[0m\u001b[0;34m\u001b[0m\u001b[0m\n\u001b[0;32m--> 171\u001b[0;31m         \u001b[0mref_var\u001b[0m \u001b[0;34m=\u001b[0m \u001b[0mvariables\u001b[0m\u001b[0;34m[\u001b[0m\u001b[0mref_name\u001b[0m\u001b[0;34m]\u001b[0m\u001b[0;34m\u001b[0m\u001b[0;34m\u001b[0m\u001b[0m\n\u001b[0m\u001b[1;32m    172\u001b[0m \u001b[0;34m\u001b[0m\u001b[0m\n\u001b[1;32m    173\u001b[0m     \u001b[0;32mif\u001b[0m \u001b[0mvar_name\u001b[0m \u001b[0;32mis\u001b[0m \u001b[0;32mNone\u001b[0m\u001b[0;34m:\u001b[0m\u001b[0;34m\u001b[0m\u001b[0;34m\u001b[0m\u001b[0m\n",
      "\u001b[0;31mKeyError\u001b[0m: 'MP'"
     ]
    }
   ],
   "source": [
    "# extra term E\n",
    "uflux = grid.diff(av_f['uh'].fillna(value=0), 'X')\n",
    "vflux = grid.diff(av_f['vh'].fillna(value=0), 'Y')\n",
    "div = (uflux + vflux) / st.area_t  # finite volume discretization\n",
    "extra_term = - av_f['MP'] * (div + av_f['dhdt']) \n",
    "\n",
    "ds['MKE_to_MPE_TWA'] = (\n",
    "    grid.interp(av_f['uh'] / st['dyCu'] * grid.derivative(av_f['MP'], 'X'), 'X')\n",
    "    + grid.interp(av_f['vh'] / st['dxCv'] * grid.derivative(av_f['MP'], 'Y', boundary='fill'), 'Y')\n",
    "    + extra_term\n",
    ").sum(dim='zl') \n",
    "\n",
    "ds['MKE_to_MPE_TWA'].attrs = {'units' : 'm3 s-3', 'long_name': 'MKE to MPE conversion (TWA)'}"
   ]
  },
  {
   "cell_type": "markdown",
   "metadata": {},
   "source": [
    "### EKE transport"
   ]
  },
  {
   "cell_type": "markdown",
   "metadata": {},
   "source": [
    "\\begin{align}\n",
    "\\mathcal{T}^B & =\n",
    "\\sum_{n=1}^N \\left[\n",
    "\\underbrace{\\overline{\\nabla\\cdot\\left(\n",
    "\\mathbf{u}_n\\frac{h_n|\\mathbf{u}_n|^2}{2}\\right)}}_\\overline{\\text{KE_adv}}\n",
    "-\\nabla\\cdot\\left(\n",
    "\\hat{\\mathbf{u}}_n\\underbrace{\\frac{\\bar{h}_n|\\hat{\\mathbf{u}}_n|^2}{2}}_\\text{MKE}\n",
    "\\right)\\right],\n",
    "\\end{align}"
   ]
  },
  {
   "cell_type": "code",
   "execution_count": 38,
   "metadata": {},
   "outputs": [],
   "source": [
    "MKE = 0.5 / av_f['h'] * (\n",
    "    grid.interp(((av_f['uh'] / st['dyCu'])**2).fillna(value=0), 'X')  # use simple mid-point average consistent with how KE is discretized in online model\n",
    "    + grid.interp(((av_f['vh'] / st['dxCv'])**2).fillna(value=0), 'Y')  # use simple mid-point average consistent with how KE is discretized in online model\n",
    ")\n",
    "MKE_transport =  1 / st.area_t * (\n",
    "        grid.diff((grid.interp((MKE / av_f['h']).fillna(value=0),'X') * av_f['uh']).fillna(value=0),'X')\n",
    "        + grid.diff((grid.interp((MKE / av_f['h']).fillna(value=0),'Y',boundary='fill') * av_f['vh']).fillna(value=0),'Y')\n",
    ")\n",
    "MKE_transport = MKE_transport.chunk({'yh':Ny, 'xh':Nx})\n",
    "\n",
    "EKE_transport = av_f['KE_adv'] - MKE_transport\n",
    "ds['EKE_transport_TWA'] = EKE_transport.sum(dim='zl')\n",
    "ds['EKE_transport_TWA'].attrs = {'units' : 'm3 s-3', 'long_name': 'EKE transport (TWA)'}"
   ]
  },
  {
   "cell_type": "markdown",
   "metadata": {},
   "source": [
    "### Work done by eddy momentum fluxes"
   ]
  },
  {
   "cell_type": "markdown",
   "metadata": {},
   "source": [
    "\\begin{align}\n",
    "\\Pi^B & = \n",
    " \\sum_{n=1}^N\\hat{\\mathbf{u}}_n\\cdot\\overline{\\mathbf{f}\\times h_n\\mathbf{u}_n} + \\sum_{n=1}^N \\hat{\\mathbf{u}}_n \\cdot\\left(\\overline{h_n\\mathbf{u}_n\\cdot\\nabla \\mathbf{u}_n}+\\overline{h_n\\mathbf{u}_n\\nabla\\cdot(h_n\\mathbf{u}_n)}  - \\bar{h}_n\\hat{\\mathbf{u}}_n\\cdot\\nabla\\hat{\\mathbf{u}}_n - \\frac{\\hat{\\mathbf{u}}_n}{2}\\left[\\nabla\\cdot(\\bar{h}_n\\hat{\\mathbf{u}}_n +\\overline{\\nabla\\cdot(h_n\\mathbf{u}_n)} \\right] \\right)\\\\\n",
    " & =   \\sum_{n=1}^N \\hat{\\mathbf{u}}_n \\cdot \\left(\\overline{\\underbrace{\\mathbf{f}\\times h_n\\mathbf{u}_n + h_n \\mathbf{u}_n\\cdot \\nabla\\mathbf{u}_n}_{-\\text{h_CA[uv]_visc_rem}}}\\right)\n",
    " + \\sum_{n=1}^N \\hat{\\mathbf{u}}_n \\cdot \\left(\\overline{\\underbrace{ \\mathbf{u}_n \\nabla\\cdot(h_n\\mathbf{u}_n}_\\text{-[uv]_dhdt}})\\right)\n",
    " - \\sum_{n=1}^N \\frac{|\\hat{\\mathbf{u}}_n|^2}{2}\\left(\\overline{\\underbrace{\\nabla\\cdot(h_n\\mathbf{u}_n)}_{\\text{-dhdt}}}\\right) - \\text{MKE transport}\n",
    "\\end{align}"
   ]
  },
  {
   "cell_type": "markdown",
   "metadata": {},
   "source": [
    "The first line is equation (A16) in Loose et al. (2022), and the second line uses\n",
    "$$\n",
    "\\text{MKE transport} =\\nabla\\cdot\\left(\n",
    "\\bar{\\mathbf{u}}_n\\frac{\\bar{h}_n|\\hat{\\mathbf{u}}_n|^2}{2}\n",
    "\\right) = \\frac{|\\mathbf{u}_n|^2}{2} \\nabla\\cdot(\\bar{h}_n\\hat{\\mathbf{u}}_n) + \\bar{h}_n\\hat{\\mathbf{u}}_n\\cdot (\\hat{\\mathbf{u}}_n\\cdot \\nabla)\\bar{\\mathbf{u}}_n\n",
    "$$\n",
    "\n",
    "We will use the second line to compute $\\Pi^B$ below."
   ]
  },
  {
   "cell_type": "code",
   "execution_count": 16,
   "metadata": {},
   "outputs": [],
   "source": [
    "MKE = 0.5 / av_f['h'] * (\n",
    "    grid.interp(((av_f['uh'] / st['dyCu'])**2).fillna(value=0), 'X')  # use simple mid-point average consistent with how KE is discretized in online model\n",
    "    + grid.interp(((av_f['vh'] / st['dxCv'])**2).fillna(value=0), 'Y')  # use simple mid-point average consistent with how KE is discretized in online model\n",
    ")\n",
    "MKE_transport =  1 / st.area_t * (\n",
    "        grid.diff((grid.interp((MKE / av_f['h']).fillna(value=0),'X') * av_f['uh']).fillna(value=0),'X')\n",
    "        + grid.diff((grid.interp((MKE / av_f['h']).fillna(value=0),'Y',boundary='fill') * av_f['vh']).fillna(value=0),'Y')\n",
    ")\n",
    "MKE_transport = MKE_transport.chunk({'yh':Ny, 'xh':Nx})\n",
    "\n",
    "ke_u = - av_f['uh'] * st['dxCu'] * av_f['h_CAu'] \n",
    "ke_v = - av_f['vh'] * st['dyCv'] * av_f['h_CAv'] \n",
    "\n",
    "ke2_u = - av_f['uh'] * st['dxCu'] * av['u_dhdt']\n",
    "ke2_v = - av_f['vh'] * st['dyCv'] * av['v_dhdt']\n",
    "\n",
    "work_eddy_momentum_fluxes = (\n",
    "    1 / av_f['h'] / st['area_t'] * (grid.interp(ke_u.fillna(value=0), 'X') + grid.interp(ke_v.fillna(value=0), 'Y'))\n",
    "    + 1 / av_f['h'] / st['area_t'] * (grid.interp(ke2_u.fillna(value=0), 'X') + grid.interp(ke2_v.fillna(value=0), 'Y')) \n",
    "    + MKE / av_f['h'] * av_f['dhdt'] - MKE_transport\n",
    ")\n",
    "work_eddy_momentum_fluxes = work_eddy_momentum_fluxes.chunk({'yh':Ny, 'xh':Nx})\n",
    "ds['work_eddy_momentum_fluxes_TWA'] = work_eddy_momentum_fluxes.sum(dim='zl')\n",
    "ds['work_eddy_momentum_fluxes_TWA'].attrs = {\n",
    "    'units' : 'm3 s-3', \n",
    "    'long_name': 'Energy exchange between MKE and EKE through eddy momentum fluxes (TWA); positive means EKE reservoir receives energy'\n",
    "}\n"
   ]
  },
  {
   "cell_type": "markdown",
   "metadata": {},
   "source": [
    "### Wind work on MKE & EKE reservoir\n",
    "\n",
    "Wind work on MKE reservoir:\n",
    "\\begin{align}\n",
    "    \\sum_{n=1}^N (\\hat{u}_n \\overline{h_n F^{u,\\text{wind}}_n} + \\hat{v}_n \\overline{h_n F^{v,\\text{wind}}_n}), \n",
    "\\end{align}\n",
    "\n",
    "Wind work on EKE reservoir:\n",
    "\\begin{align}\n",
    "    \\sum_{n=1}^N \\overline{\\underbrace{h_n (u_n F^{u,\\text{wind}}_n + v_n F^{v,\\text{wind}}_n)}_\\text{KE_stress}} \n",
    "    - \\sum_{n=1}^N (\\hat{u}_n \\overline{h_n F^{u,\\text{wind}}_n} + \\hat{v}_n \\overline{h_n F^{v,\\text{wind}}_n})\n",
    "\\end{align}"
   ]
  },
  {
   "cell_type": "code",
   "execution_count": 1,
   "metadata": {},
   "outputs": [
    {
     "ename": "NameError",
     "evalue": "name 'av_f' is not defined",
     "output_type": "error",
     "traceback": [
      "\u001b[0;31m---------------------------------------------------------------------------\u001b[0m",
      "\u001b[0;31mNameError\u001b[0m                                 Traceback (most recent call last)",
      "\u001b[0;32m<ipython-input-1-c4ca46d81c33>\u001b[0m in \u001b[0;36m<module>\u001b[0;34m\u001b[0m\n\u001b[0;32m----> 1\u001b[0;31m MKE_wind_stress = 1 / av_f['h'] / st['area_t'] * (\n\u001b[0m\u001b[1;32m      2\u001b[0m     \u001b[0mgrid\u001b[0m\u001b[0;34m.\u001b[0m\u001b[0minterp\u001b[0m\u001b[0;34m(\u001b[0m\u001b[0;34m(\u001b[0m\u001b[0mav_f\u001b[0m\u001b[0;34m[\u001b[0m\u001b[0;34m'uh'\u001b[0m\u001b[0;34m]\u001b[0m \u001b[0;34m*\u001b[0m \u001b[0mst\u001b[0m\u001b[0;34m[\u001b[0m\u001b[0;34m'dxCu'\u001b[0m\u001b[0;34m]\u001b[0m \u001b[0;34m*\u001b[0m \u001b[0mav_f\u001b[0m\u001b[0;34m[\u001b[0m\u001b[0;34m'h_du_dt_str'\u001b[0m\u001b[0;34m]\u001b[0m\u001b[0;34m)\u001b[0m\u001b[0;34m.\u001b[0m\u001b[0mfillna\u001b[0m\u001b[0;34m(\u001b[0m\u001b[0mvalue\u001b[0m\u001b[0;34m=\u001b[0m\u001b[0;36m0\u001b[0m\u001b[0;34m)\u001b[0m\u001b[0;34m,\u001b[0m \u001b[0;34m'X'\u001b[0m\u001b[0;34m)\u001b[0m\u001b[0;34m\u001b[0m\u001b[0;34m\u001b[0m\u001b[0m\n\u001b[1;32m      3\u001b[0m     \u001b[0;34m+\u001b[0m \u001b[0mgrid\u001b[0m\u001b[0;34m.\u001b[0m\u001b[0minterp\u001b[0m\u001b[0;34m(\u001b[0m\u001b[0;34m(\u001b[0m\u001b[0mav_f\u001b[0m\u001b[0;34m[\u001b[0m\u001b[0;34m'vh'\u001b[0m\u001b[0;34m]\u001b[0m \u001b[0;34m*\u001b[0m \u001b[0mst\u001b[0m\u001b[0;34m[\u001b[0m\u001b[0;34m'dyCv'\u001b[0m\u001b[0;34m]\u001b[0m \u001b[0;34m*\u001b[0m \u001b[0mav_f\u001b[0m\u001b[0;34m[\u001b[0m\u001b[0;34m'h_dv_dt_str'\u001b[0m\u001b[0;34m]\u001b[0m\u001b[0;34m)\u001b[0m\u001b[0;34m.\u001b[0m\u001b[0mfillna\u001b[0m\u001b[0;34m(\u001b[0m\u001b[0mvalue\u001b[0m\u001b[0;34m=\u001b[0m\u001b[0;36m0\u001b[0m\u001b[0;34m)\u001b[0m\u001b[0;34m,\u001b[0m \u001b[0;34m'Y'\u001b[0m\u001b[0;34m)\u001b[0m\u001b[0;34m\u001b[0m\u001b[0;34m\u001b[0m\u001b[0m\n\u001b[1;32m      4\u001b[0m )\n\u001b[1;32m      5\u001b[0m \u001b[0mds\u001b[0m\u001b[0;34m[\u001b[0m\u001b[0;34m'MKE_wind_stress_TWA'\u001b[0m\u001b[0;34m]\u001b[0m \u001b[0;34m=\u001b[0m \u001b[0mMKE_wind_stress\u001b[0m\u001b[0;34m.\u001b[0m\u001b[0msum\u001b[0m\u001b[0;34m(\u001b[0m\u001b[0mdim\u001b[0m\u001b[0;34m=\u001b[0m\u001b[0;34m'zl'\u001b[0m\u001b[0;34m)\u001b[0m\u001b[0;34m\u001b[0m\u001b[0;34m\u001b[0m\u001b[0m\n",
      "\u001b[0;31mNameError\u001b[0m: name 'av_f' is not defined"
     ]
    }
   ],
   "source": [
    "MKE_wind_stress = 1 / av_f['h'] / st['area_t'] * (\n",
    "    grid.interp((av_f['uh'] * st['dxCu'] * av_f['h_du_dt_str']).fillna(value=0), 'X') \n",
    "    + grid.interp((av_f['vh'] * st['dyCv'] * av_f['h_dv_dt_str']).fillna(value=0), 'Y') \n",
    ")\n",
    "ds['MKE_wind_stress_TWA'] = MKE_wind_stress.sum(dim='zl')\n",
    "ds['MKE_wind_stress_TWA'].attrs = {'units' : 'm3 s-3', 'long_name': 'Wind work on MKE reservoir (TWA)'}\n",
    "\n",
    "ds['EKE_wind_stress_TWA'] = av_f['KE_stress'].sum(dim='zl') - ds['MKE_wind_stress_TWA']\n",
    "ds['EKE_wind_stress_TWA'].attrs = {'units' : 'm3 s-3', 'long_name': 'Wind work on EKE reservoir (TWA)'}"
   ]
  },
  {
   "cell_type": "markdown",
   "metadata": {},
   "source": [
    "### Bottom drag and vertical friction on MKE & EKE reservoir\n",
    "\n",
    "Work of vertical stresses on MKE reservoir:\n",
    "\\begin{align}\n",
    "    \\sum_{n=1}^N (\\hat{u}_n \\overline{h_n F^{u}_n} + \\hat{v}_n \\overline{h_n F^{v}_n}), \n",
    "\\end{align}\n",
    "\n",
    "Work of vertical stresses on EKE reservoir:\n",
    "\\begin{align}\n",
    "    \\sum_{n=1}^N \\overline{\\underbrace{h_n (u_n F^{u}_n + v_n F^{v}_n)}_\\text{KE_visc}} \n",
    "    - \\sum_{n=1}^N  (\\hat{u}_n \\overline{\\underbrace{h_n F^{u}_n}_\\text{h_du_dt_visc}} + \\hat{v}_n \\overline{\\underbrace{h_n F^{v}_n}_\\text{h_dv_dt_visc}}), \n",
    "\\end{align}\n",
    "\n",
    "where $h_n\\mathbf{F}_n = (h_n F^u_n, h_n F^v_n)$ are the thickness-weighted vertical stresses acting on layer $n$.\n",
    "\n",
    "The vertical stresses can be further decomposed into contributions by wind stress, bottom drag, and vertical friction:\n",
    "\\begin{align*}\n",
    "\\overline{h_n \\mathbf{F}_n} & = \\overline{h_n \\mathbf{F}^\\text{wind}_n} + \\overline{h_n \\mathbf{F}^\\text{drag}_n} + \\overline{h_n \\mathbf{F}^\\text{visc}_n}, \\\\\n",
    "\\overline{h_n \\mathbf{u}_n \\cdot \\mathbf{F}_n} & = \\overline{h_n \\mathbf{u}_n \\cdot \\mathbf{F}^\\text{wind}_n} + \\overline{h_n \\mathbf{u}_n \\cdot \\mathbf{F}^\\text{drag}_n} + \\overline{h_n \\mathbf{u}_n \\cdot \\mathbf{F}^\\text{visc}_n}.\n",
    "\\end{align*}\n",
    "\n",
    "For the wind contributions, we have diagnostics from the model (see previous section). We disentangle the remainders $\\overline{h_n\\mathbf{F}_n} - \\overline{h_n\\mathbf{F}^\\text{wind}_n}$ and $\\overline{h_n \\mathbf{u}_n \\cdot \\mathbf{F}_n}- \\overline{h_n \\mathbf{u}_n \\cdot \\mathbf{F}^\\text{wind}_n} $ into contributions from bottom drag and vertical friction offline, by classifying them as a contribution by bottom drag if the lower interface of layer $n$ is within the bottom boundary layer, and as a contribution by vertical friction otherwise. This is handled by applying `av_f.bottom_mask`."
   ]
  },
  {
   "cell_type": "code",
   "execution_count": null,
   "metadata": {},
   "outputs": [],
   "source": [
    "# MKE_vertical_stresses and EKE_vertical_stresses include contributions from bottom drag, vertical viscosity, and wind stress\n",
    "MKE_vertical_stresses = 1 / av_f['h'] / st['area_t'] * (\n",
    "    grid.interp((av_f['uh'] * st['dxCu'] * av_f['h_du_dt_visc']).fillna(value=0), 'X') \n",
    "    + grid.interp((av_f['vh'] * st['dyCv'] * av_f['h_dv_dt_visc']).fillna(value=0), 'Y') \n",
    ")\n",
    "\n",
    "EKE_vertical_stresses = av_f['KE_visc'] - MKE_vertical_stresses\n",
    "\n",
    "# tease out bottom drag and vertical viscosity contribution\n",
    "MKE_bottom_drag = (\n",
    "        MKE_vertical_stresses - MKE_wind_stress  # subtract 3D wind stress contribution from vertical stresses\n",
    "    ) * av_f['mask_bottom']  # extract the bit in the bottom boundary layer\n",
    "ds['MKE_bottom_drag_TWA'] = MKE_bottom_drag.sum(dim='zl')\n",
    "ds['MKE_bottom_drag_TWA'].attrs = {'units' : 'm3 s-3', 'long_name': 'Bottom drag work on MKE reservoir (TWA)'}\n",
    "\n",
    "ds['MKE_vertical_viscosity_TWA'] = MKE_vertical_stresses.sum(dim='zl') - ds['MKE_wind_stress_TWA'] - ds['MKE_bottom_drag_TWA']\n",
    "ds['MKE_vertical_viscosity_TWA'].attrs = {'units' : 'm3 s-3', 'long_name': 'Vertical friction work on MKE reservoir (TWA)'}\n",
    "\n",
    "EKE_bottom_drag = (\n",
    "        EKE_vertical_stresses - EKE_wind_stress  # subtract 3D wind stress contribution from vertical stresses\n",
    "    ) * ds_mask['mask_bottom']  # extract the bit in the bottom boundary layer\n",
    "ds['EKE_bottom_drag_TWA'] = EKE_bottom_drag.sum(dim='zl')\n",
    "ds['EKE_bottom_drag_TWA'].attrs = {'units' : 'm3 s-3', 'long_name': 'Bottom drag work on EKE reservoir (TWA)'}\n",
    "\n",
    "ds['EKE_vertical_viscosity_TWA'] = EKE_vertical_stresses.sum(dim='zl') - ds['EKE_wind_stress_TWA'] - ds['EKE_bottom_drag_TWA']\n",
    "ds['EKE_vertical_viscosity_TWA'].attrs = {'units' : 'm3 s-3', 'long_name': 'Vertical friction work on EKE reservoir (TWA)'}\n"
   ]
  },
  {
   "cell_type": "markdown",
   "metadata": {},
   "source": [
    "### Work of horizontal friction on MKE & EKE reservoir\n",
    "\n",
    "Work of horizontal friction on MKE reservoir:\n",
    "\\begin{align}\n",
    "    \\sum_{n=1}^N  (\\hat{u}_n \\overline{h_n F^{u,h}_n} + \\hat{v}_n \\overline{h_n F^{v,h}_n}), \n",
    "\\end{align}\n",
    "\n",
    "Work of horizontal friction on EKE reservoir:\n",
    "\\begin{align}\n",
    "    \\sum_{n=1}^N \\overline{\\underbrace{h_n (u_n F^{u,h}_n + v_n F^{v,h}_n)}_\\text{KE_horvisc}} \n",
    "    - \\sum_{n=1}^N (\\hat{u}_n \\overline{h_n F^{u,h}_n} + \\hat{v}_n \\overline{h_n F^{v,h}_n}), \n",
    "\\end{align}"
   ]
  },
  {
   "cell_type": "code",
   "execution_count": null,
   "metadata": {},
   "outputs": [],
   "source": [
    "MKE_horizontal_viscosity = 1 / av_f['h'] / st['area_t'] * (\n",
    "    grid.interp((av_f['uh'] * st['dxCu'] * av_f['h_diffu']).fillna(value=0), 'X') \n",
    "    + grid.interp((av_f['vh'] * st['dyCv'] * av_f['h_diffv']).fillna(value=0), 'Y') \n",
    ")\n",
    "\n",
    "ds['MKE_horizontal_viscosity_TWA'] = MKE_horizontal_viscosity.sum(dim='zl')\n",
    "ds['MKE_horizontal_viscosity_TWA'].attrs = {'units' : 'm3 s-3', 'long_name': 'Horizontal friction on MKE reservoir (TWA)'}\n",
    "\n",
    "ds['EKE_horizontal_viscosity_TWA'] = av_f['KE_horvisc'].sum(dim='zl') - ds['MKE_horizontal_viscosity_TWA']\n",
    "ds['EKE_horizontal_viscosity_TWA'].attrs = {'units' : 'm3 s-3', 'long_name': 'Horizontal friction on EKE reservoir (TWA)'}"
   ]
  },
  {
   "cell_type": "markdown",
   "metadata": {},
   "source": [
    "## Save to netcdf"
   ]
  },
  {
   "cell_type": "code",
   "execution_count": null,
   "metadata": {},
   "outputs": [],
   "source": [
    "path = '/glade/scratch/noraloose/filtered_data'\n",
    "filename = '%s/%s/lorenz_cycle_%08d_fac%i' %(scratchpath, run, end_time-nr_days+2, filter_fac) \n",
    "filename"
   ]
  },
  {
   "cell_type": "code",
   "execution_count": null,
   "metadata": {},
   "outputs": [],
   "source": [
    "ds.to_zarr(filename)"
   ]
  },
  {
   "cell_type": "code",
   "execution_count": null,
   "metadata": {},
   "outputs": [],
   "source": []
  },
  {
   "cell_type": "code",
   "execution_count": null,
   "metadata": {},
   "outputs": [],
   "source": []
  },
  {
   "cell_type": "code",
   "execution_count": null,
   "metadata": {},
   "outputs": [],
   "source": []
  }
 ],
 "metadata": {
  "kernelspec": {
   "display_name": "Python 3",
   "language": "python",
   "name": "python3"
  },
  "language_info": {
   "codemirror_mode": {
    "name": "ipython",
    "version": 3
   },
   "file_extension": ".py",
   "mimetype": "text/x-python",
   "name": "python",
   "nbconvert_exporter": "python",
   "pygments_lexer": "ipython3",
   "version": "3.7.9"
  }
 },
 "nbformat": 4,
 "nbformat_minor": 4
}

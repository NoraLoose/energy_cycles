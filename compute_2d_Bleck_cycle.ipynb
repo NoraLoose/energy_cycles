{
 "cells": [
  {
   "cell_type": "markdown",
   "metadata": {},
   "source": [
    "# 2b: Compute Bleck energy cycle"
   ]
  },
  {
   "cell_type": "markdown",
   "metadata": {},
   "source": [
    "This notebook assumes that `filter_data.ipynb` has been run with `bleck = True`"
   ]
  },
  {
   "cell_type": "code",
   "execution_count": 1,
   "metadata": {},
   "outputs": [],
   "source": [
    "import numpy as np\n",
    "import matplotlib as mpl\n",
    "import matplotlib.pyplot as plt\n",
    "import xarray as xr\n",
    "from xgcm import Grid\n",
    "import dask.array as dsa\n",
    "from dask.diagnostics import ProgressBar"
   ]
  },
  {
   "cell_type": "code",
   "execution_count": 2,
   "metadata": {},
   "outputs": [],
   "source": [
    "#deg=4\n",
    "deg=32\n",
    "\n",
    "# Filter Specs\n",
    "shape = 'Gaussian'\n",
    "#shape = 'Taper'\n",
    "coarsen_fac = 2\n",
    "filter_fac = 32\n",
    "compl = 'simple'\n",
    "\n",
    "end_time = 1100\n",
    "\n",
    "doSmallerSet = 1"
   ]
  },
  {
   "cell_type": "code",
   "execution_count": null,
   "metadata": {},
   "outputs": [],
   "source": [
    "rho_ref = 1000"
   ]
  },
  {
   "cell_type": "markdown",
   "metadata": {},
   "source": [
    "## Open filtered Neverworld2 model data"
   ]
  },
  {
   "cell_type": "code",
   "execution_count": 3,
   "metadata": {},
   "outputs": [],
   "source": [
    "if deg == 4:\n",
    "    run = 'nw2_0.25deg_N15_baseline'\n",
    "    chunks = {'time': 20}\n",
    "    nr_days = 500\n",
    "\n",
    "if deg == 8:\n",
    "    run = 'nw2_0.125deg_N15_baseline'\n",
    "    chunks = {'time': 10}\n",
    "    nr_days = 500\n",
    "\n",
    "elif deg == 16:\n",
    "    run = 'nw2_0.0625deg_N15_baseline'\n",
    "    chunks = {'time': 5}\n",
    "    nr_days = 500\n",
    "\n",
    "elif deg == 32:\n",
    "    #run = 'nw2_0.03125deg_N15_baseline_diags'\n",
    "    run = 'nw2_0.03125deg_N15_baseline_hmix20'\n",
    "    chunks = {'time': 1, 'zl':1}\n",
    "    nr_days = 100\n",
    "\n",
    "elif deg == 325:\n",
    "    run = 'nw2_0.03125deg_N15_baseline_hmix5'\n",
    "    chunks = {'time': 1, 'zl':1}\n",
    "    nr_days = 100  \n",
    "    \n",
    "elif deg == 320:\n",
    "    run = 'nw2_0.03125deg_N15_QG_Leith_v3'\n",
    "    chunks = {'time': 1, 'zl':1}\n",
    "    nr_days = 100\n",
    "\n",
    "#path = '/glade/p/univ/unyu0004/gmarques/NeverWorld2' \n",
    "path = '/glade/p/univ/unyu0004/gmarques/NeverWorld2/baselines/'\n",
    "\n",
    "st = xr.open_dataset('%s/%s/static.nc' % (path,run), decode_times=False)\n",
    "av = xr.open_dataset('%s/%s/averages_%08d.nc' % (path, run, end_time-nr_days+2), decode_times=False, chunks=chunks)\n",
    "sn = xr.open_dataset('%s/%s/snapshots_%08d.nc' % (path,run,end_time-nr_days+5), decode_times=False, chunks=chunks)\n",
    "\n",
    "ffile_pref = '/glade/scratch/noraloose/filtered_data/' \n",
    "#ffile_pref = '/glade/campaign/cgd/oce/people/noraloose/filtered_data/'\n",
    "\n",
    "# filtered snapshots\n",
    "\n",
    "sn_f_h = xr.open_zarr('%s/%s/snapshots_%08d_filtered_%s_coarse%i_fac%i_only_diffusion_%s_h' % (ffile_pref, run, end_time-nr_days+5, shape, coarsen_fac, filter_fac, compl), \n",
    "                           decode_times=False)\n",
    "sn_f_u = xr.open_zarr('%s/%s/snapshots_%08d_filtered_%s_coarse%i_fac%i_only_diffusion_%s_u' % (ffile_pref, run, end_time-nr_days+5, shape, coarsen_fac, filter_fac, compl), \n",
    "                           decode_times=False)\n",
    "sn_f_v = xr.open_zarr('%s/%s/snapshots_%08d_filtered_%s_coarse%i_fac%i_only_diffusion_%s_v' % (ffile_pref, run, end_time-nr_days+5, shape, coarsen_fac, filter_fac, compl), \n",
    "                           decode_times=False)\n",
    "sn_f = xr.merge([sn_f_h, sn_f_u, sn_f_v])\n",
    "    \n",
    "# filtered averages\n",
    "av_f_h = xr.open_zarr('%s/%s/averages_%08d_filtered_%s_coarse%i_fac%i_only_diffusion_%s_h' % (ffile_pref, run, end_time-nr_days+2, shape, coarsen_fac, filter_fac, compl), \n",
    "                           decode_times=False)\n",
    "av_f_u = xr.open_zarr('%s/%s/averages_%08d_filtered_%s_coarse%i_fac%i_only_diffusion_%s_u' % (ffile_pref, run, end_time-nr_days+2, shape, coarsen_fac, filter_fac, compl), \n",
    "                           decode_times=False)\n",
    "av_f_v = xr.open_zarr('%s/%s/averages_%08d_filtered_%s_coarse%i_fac%i_only_diffusion_%s_v' % (ffile_pref, run, end_time-nr_days+2, shape, coarsen_fac, filter_fac, compl), \n",
    "                           decode_times=False)\n",
    "av_f_TWA = xr.open_zarr('%s/%s/averages_%08d_TWA_filtered_%s_coarse%i_fac%i_only_diffusion_%s' % (ffile_pref, run, end_time-nr_days+2, shape, coarsen_fac, filter_fac, compl), \n",
    "                           decode_times=False)\n",
    "av_f = xr.merge([av_f_h, av_f_u, av_f_v, av_f_TWA])\n",
    "    \n",
    "str_filter = 'diff'"
   ]
  },
  {
   "cell_type": "markdown",
   "metadata": {},
   "source": [
    "## Prepare NW2 grid information"
   ]
  },
  {
   "cell_type": "code",
   "execution_count": 5,
   "metadata": {},
   "outputs": [],
   "source": [
    "Nx = np.size(st.xh)\n",
    "Ny = np.size(st.yh)\n",
    "\n",
    "coords = {'X': {'center': 'xh', 'outer': 'xq'},\n",
    "            'Y': {'center': 'yh', 'outer': 'yq'},\n",
    "            'Z': {'center': 'zl', 'outer': 'zi'} }\n",
    "grid = Grid(st, coords=coords, periodic=['X'])\n",
    "\n",
    "st['dxT'] = grid.interp(st.dxCu,'X')\n",
    "st['dyT'] = grid.interp(st.dyCv,'Y')\n",
    "st['dxBu'] = grid.interp(st.dxCv,'X')\n",
    "st['dyBu'] = grid.interp(st.dyCu,'Y',boundary='fill')\n",
    "\n",
    "metrics = {('X',):['dxCu','dxCv','dxT','dxBu'],\n",
    "           ('Y',):['dyCu','dyCv','dyT','dyBu'],\n",
    "           ('X', 'Y'): ['area_t', 'area_u', 'area_v']\n",
    "          }\n",
    "grid = Grid(st, coords=coords, periodic=['X'], metrics=metrics)"
   ]
  },
  {
   "cell_type": "code",
   "execution_count": 6,
   "metadata": {},
   "outputs": [],
   "source": [
    "ds = xr.Dataset() # new xarray dataset for EKE budget (to be saved to file)\n",
    "\n",
    "ds.attrs['filter_specs'] = '(shape, factor, degree high-res run) = (%s %i, %i)' % (shape, filter_fac, deg)\n",
    "for fld in ['time','zl','yh','xh']:\n",
    "    ds[fld] = av_f[fld]"
   ]
  },
  {
   "cell_type": "code",
   "execution_count": 7,
   "metadata": {},
   "outputs": [
    {
     "data": {
      "text/plain": [
       "'/glade/scratch/noraloose/filtered_data/nw2_0.03125deg_N15_baseline_diags/EKE_TWA_00001002_Gaussian_coarse2_fac32_simple'"
      ]
     },
     "execution_count": 7,
     "metadata": {},
     "output_type": "execute_result"
    }
   ],
   "source": [
    "ffile = ffile_pref + run + '/EKE_TWA_%08d_%s_coarse%i_fac%i_%s' % (end_time-nr_days+2, \n",
    "                                                               shape, coarsen_fac, filter_fac, compl)\n",
    "ffile"
   ]
  },
  {
   "cell_type": "markdown",
   "metadata": {},
   "source": [
    "# EKE budget"
   ]
  },
  {
   "cell_type": "markdown",
   "metadata": {},
   "source": [
    "### EKE\n",
    "$$\n",
    "   \\text{EKE}_{ij} = \\overline{\\texttt{h}\\cdot \\texttt{KE}}_{ij} \n",
    "   - \\underbrace{\\frac{1}{4} \\frac{(\\overline{\\texttt{uh}}_{Ij}/\\texttt{dyCu}_{Ij})^2 + (\\overline{\\texttt{uh}}_{I-1j}/\\texttt{dyCu}_{I-1j})^2 \n",
    "   +(\\overline{\\texttt{vh}}_{iJ}/\\texttt{dxCv}_{iJ})^2 + (\\overline{\\texttt{vh}}_{iJ-1}/\\texttt{dxCv}_{iJ-1})^2 }{\\overline{\\texttt{h}}_{ij}}}_{\\texttt{MKE}_{ij}}\n",
    "$$  "
   ]
  },
  {
   "cell_type": "code",
   "execution_count": 8,
   "metadata": {},
   "outputs": [],
   "source": [
    "# volume-preserving\n",
    "ufld = (av_f['uh']/st['dyCu'])**2\n",
    "tfld1 = grid.interp(ufld.fillna(value=0),'X') \n",
    "vfld = (av_f['vh']/st['dxCv'])**2\n",
    "tfld2 = grid.interp(vfld.fillna(value=0),'Y') \n",
    "ds['MKE_vol'] = 0.5 * (tfld1 + tfld2) / av_f['h']\n",
    "\n",
    "data = av_f['hKE'] - ds['MKE_vol']\n",
    "ds['EKE_vol'] = data.copy() \n",
    "#ds['EKE_vol'].attrs = {'units' : av_f['hKE'].units, 'long_name': 'Eddy Kinetic Energy (TWA)'}"
   ]
  },
  {
   "cell_type": "markdown",
   "metadata": {},
   "source": [
    "### EKE Tendency"
   ]
  },
  {
   "cell_type": "markdown",
   "metadata": {},
   "source": [
    "\\begin{align*}\n",
    "\\text{EKE tendency}_{ij}& = \\overline{\\texttt{dKE\\_dt}}_{ij} - \\frac{d}{dt}\\texttt{MKE}_{ij},\n",
    "\\end{align*}\n",
    "where \n",
    "$$\n",
    "    \\frac{d}{dt}\\texttt{MKE}_{ij} = \\text{time-average}\\left(\\partial_t \\texttt{MKE}_{ij}\\right) = \\frac{1}{\\tau_1-\\tau_0} \\int_{\\tau_0}^{\\tau_1} \\partial_t \\texttt{MKE}_{ij} dt = \\frac{\\texttt{MKE}_{ij}(\\tau_1) - \\texttt{MKE}_{ij}(\\tau_0)}{\\tau_1-\\tau_0}.\n",
    "$$\n",
    "is computed from snapshots."
   ]
  },
  {
   "cell_type": "code",
   "execution_count": 9,
   "metadata": {},
   "outputs": [],
   "source": [
    "if np.all(av_f.average_DT == av_f.average_DT[0]):\n",
    "    deltat = av_f.average_DT[0] * 24 * 60 * 60\n",
    "else: \n",
    "    raise AssertionError('averaging intervals vary')"
   ]
  },
  {
   "cell_type": "code",
   "execution_count": 12,
   "metadata": {},
   "outputs": [],
   "source": [
    "if not doSmallerSet:\n",
    "    doStep0 = 0\n",
    "    # test\n",
    "    hKE = sn_f['hKE']\n",
    "    if np.array_equal(av_f.time_bnds[:,1],sn_f.time):\n",
    "        hKEdt = (hKE - hKE.shift(time=1))/deltat\n",
    "        hKEdt['time'] = av_f['h'].time\n",
    "    else: \n",
    "        raise AssertionError('av and sn datasets not compatitble')\n",
    "\n",
    "    hKEdt = hKEdt.where(st.wet)\n",
    "    hKEdt = hKEdt.where(av_f.time>av_f.time[0])  \n",
    "\n",
    "    # volume-preserving\n",
    "    ufld = (sn_f['uh']/st['dyCu'])**2\n",
    "    tfld1 = grid.interp(ufld.fillna(value=0),'X') \n",
    "    vfld = (sn_f['vh']/st['dxCv'])**2\n",
    "    tfld2 = grid.interp(vfld.fillna(value=0),'Y') \n",
    "    MKE =  0.5 * (tfld1 + tfld2)/sn_f['h']\n",
    "\n",
    "\n",
    "    if np.array_equal(av_f.time_bnds[:,1],sn_f.time):\n",
    "        dMKEdt = (MKE - MKE.shift(time=1))/deltat\n",
    "        dMKEdt['time'] = av_f['h'].time\n",
    "    else: \n",
    "        raise AssertionError('av and sn datasets not compatitble')\n",
    "\n",
    "    dMKE_dt = dMKEdt.where(st.wet)\n",
    "    ds['dMKEdt_sn_vol'] = dMKEdt.copy()\n",
    "    ds['dMKEdt_sn_vol'] = ds['dMKEdt_sn_vol'].where(av_f.time>av_f.time[0])  \n",
    "    #ds['dMKEdt_sn_vol'].attrs = {'units' : av_f['dKE_dt'].units, 'long_name': 'MKE tendency (TWA), computed from snapshots'}\n",
    "\n",
    "    ds['dEKEdt_sn_vol'] =  hKEdt - ds['dMKEdt_sn_vol']\n",
    "\n",
    "    #ds['dEKEdt_sn_vol'].attrs = {'units' : av_f['dKE_dt'].units, \n",
    "    #                            'long_name': 'Eddy Kinetic Energy tendency (TWA), computed from snapshots'}"
   ]
  },
  {
   "cell_type": "markdown",
   "metadata": {},
   "source": [
    "### EKE transport"
   ]
  },
  {
   "cell_type": "markdown",
   "metadata": {},
   "source": [
    "\n",
    "\\begin{align*}\n",
    "    \\text{EKE Transport} = \\overline{\\texttt{KE\\_adv}} \n",
    "    +\\frac{1}{\\texttt{area\\_t}} \\Big\\{& \\delta_i\\Big[ (\\texttt{MKE}/\\overline{\\texttt{h}})_{T\\to U} \\underbrace{\\overline{\\texttt{uh}}}_\\text{contains metric term}\\Big]\n",
    " +  \\delta_j\n",
    "   \\Big[ (\\texttt{MKE}/\\overline{\\texttt{h}})_{T\\to V}\\overline{\\texttt{vh}}\\Big]\n",
    "   \\Big\\},\n",
    "\\end{align*}\n",
    "where\n",
    "\\begin{align*}\n",
    "    ((\\texttt{MKE}/\\overline{\\texttt{h}})_{T\\to U})_{Ij} & =\\frac{1}{2}\\left(\\texttt{MKE}_{ij}/\\overline{\\texttt{h}}_{ij}+\\texttt{MKE}_{i+1j}/\\overline{\\texttt{h}}_{i+1j}\\right)\\\\\n",
    "      ((\\texttt{MKE}/\\overline{\\texttt{h}}))_{T\\to V})_{iJ} & = \\frac{1}{2}\\left(\\texttt{MKE}_{ij}/\\overline{\\texttt{h}}_{ij}+\\texttt{MKE}_{ij+1}/\\overline{\\texttt{h}}_{ij+1}\\right) \n",
    "\\end{align*}\n",
    "\n",
    "are simple mid-point averages (analogous to definition of \\texttt{KE}, \\texttt{MKE}.\n",
    "\n",
    "The transport (for both non-TWA and TWA) that stems from the pressure gradient term is:\n",
    "\n",
    "$$\n",
    "PG_\\text{Transport} =-\\frac{1}{\\rho_1}\\left( \\sum_{n=1}^N \\overline{\\nabla\\cdot(h_n\\mathbf{u}_n p_n)}-\\nabla\\cdot(\\overline{h_n\\mathbf{u}_n} \\overline{p_n})\\right)\n",
    "$$ "
   ]
  },
  {
   "cell_type": "code",
   "execution_count": 13,
   "metadata": {},
   "outputs": [],
   "source": [
    "if 'eta' not in av_f:\n",
    "        h_rev = av_f['h'].isel(zl=slice(None,None,-1))\n",
    "        eta = grid.cumsum(h_rev,'Z',boundary='fill')\n",
    "        eta = eta.isel(zi=slice(None,None,-1))\n",
    "        eta = eta + av_f['etaB']\n",
    "        eta = eta.chunk({'zi':16})\n",
    "\n",
    "        eta = xr.where(st.wet,eta,np.nan)\n",
    "        eta = eta.transpose('time', 'zi', 'yh', 'xh') # reorder coordinates\n",
    "\n",
    "        av_f['eta'] = eta.copy()\n",
    "        av_f['eta'].attrs['long_name'] = 'Interface height'"
   ]
  },
  {
   "cell_type": "code",
   "execution_count": 14,
   "metadata": {},
   "outputs": [],
   "source": [
    "\n",
    "if 'p' not in av_f:\n",
    "        gprime = 10 * grid.diff(av_f.zl,'Z',boundary='fill')/rho_ref\n",
    "        gprime[15] = np.nan\n",
    "\n",
    "        pressure = grid.cumsum(gprime*av_f['eta'],'Z')\n",
    "        pressure = rho_ref * pressure\n",
    "        pressure = xr.where(st.wet,pressure,np.nan)\n",
    "        pressure = pressure.transpose('time', 'zl', 'yh', 'xh') # reorder coordinates\n",
    "        av_f['p'] = pressure.copy()\n",
    "        av_f['p'].attrs = {'units' : 'kg s-2', 'long_name': 'Pressure'}"
   ]
  },
  {
   "cell_type": "code",
   "execution_count": 16,
   "metadata": {},
   "outputs": [],
   "source": [
    "# PG Transport term\n",
    "if not doSmallerSet:\n",
    "    uflux = av_f['uh'] * grid.interp(av_f['p'].fillna(value=0),'X',metric_weighted=['X','Y'])\n",
    "    uflux = grid.diff(uflux.fillna(value=0),'X')\n",
    "    vflux = av_f['vh'] * grid.interp(av_f['p'].fillna(value=0),'Y',metric_weighted=['X','Y'],boundary='fill')\n",
    "    vflux = grid.diff(vflux.fillna(value=0),'Y')\n",
    "    data2 = -(uflux + vflux)/st.area_t/rho_ref\n",
    "    ds['MKE_div'] = data2.where(st.wet)\n",
    "    ds['MKE_div'] = ds['MKE_div'].chunk({'yh':Ny, 'xh':Nx})\n",
    "\n",
    "    ds['Transport_PG'] = av_f['uhp_div'] - ds['MKE_div'] # uhp_div = - 1/rho_1 * \\nabla\\cdot(uhp)\n",
    "\n",
    "############\n",
    "# volume-preserving\n",
    "ufld = (av_f['uh']/st['dyCu'])**2\n",
    "tfld1 = grid.interp(ufld.fillna(value=0),'X') \n",
    "vfld = (av_f['vh']/st['dxCv'])**2\n",
    "tfld2 = grid.interp(vfld.fillna(value=0),'Y') \n",
    "MKE =  0.5 * (tfld1 + tfld2)/av_f['h']\n",
    "tfld = MKE/av_f['h']\n",
    "\n",
    "ufld2 = grid.interp(tfld.fillna(value=0),'X') * av_f['uh']\n",
    "vfld2 = grid.interp(tfld.fillna(value=0),'Y',boundary='fill') * av_f['vh']\n",
    "term1 = grid.diff(ufld2.fillna(value=0),'X')\n",
    "term2 = grid.diff(vfld2.fillna(value=0),'Y')\n",
    "\n",
    "transport = av_f['KE_adv'] + term1/st.area_t + term2/st.area_t\n",
    "transport = transport.chunk({'yh':Ny, 'xh':Nx})\n",
    "\n",
    "if not doSmallerSet:\n",
    "    ds['Transport_vol'] = (transport + ds['Transport_PG']).where(st.wet)\n",
    "\n",
    "#ds['Transport_vol'].attrs = {'units' : ds['dEKEdt_sn_vol'].units, \n",
    "#                                'long_name': 'EKE Transport (TWA)'}\n",
    "ds['Transport_no_PG_vol'] = transport.where(st.wet)\n",
    "#ds['Transport_no_PG_vol'].attrs = {'units' : ds['dEKEdt_sn_vol'].units, \n",
    "#                                'long_name': 'EKE Transport without PG contribution (TWA)'}\n"
   ]
  },
  {
   "cell_type": "markdown",
   "metadata": {},
   "source": [
    "### Exchange of KE with large scales"
   ]
  },
  {
   "cell_type": "markdown",
   "metadata": {},
   "source": [
    "\n",
    "We define\n",
    "\\begin{align}\n",
    "(\\text{ke}_u)_{Ij} & = \n",
    "-\\overline{\\texttt{uh}}_{Ij}\\cdot \\texttt{dxCu}_{Ij}\\cdot (\\overline{\\texttt{h\\_rvxv}}_{Ij} + \\overline{\\texttt{h\\_gKEu}}_{Ij})\\\\\n",
    "(\\text{ke}_v)_{iJ} & = -\n",
    "\\overline{\\texttt{vh}}_{iJ}\\cdot \\texttt{dyCv}_{iJ}\\cdot (\\overline{\\texttt{h\\_rvxu}}_{iJ} + \\overline{\\texttt{h\\_gKEv}}_{iJ})\n",
    "\\end{align}\n",
    "\n",
    "\\begin{align}\n",
    "(\\text{ke2}_u)_{Ij} & = \n",
    "\\overline{\\texttt{uh}}_{Ij}\\cdot \\texttt{dxCu}_{Ij}\\cdot\\left(-\\frac{d}{dt}\\overline{\\texttt{uh}}_{Ij}/ \\texttt{dyCu}_{Ij} + \\overline{\\texttt{h\\_dudt}}_{Ij}\\right)\\\\\n",
    "(\\text{ke2}_v)_{iJ} & = \n",
    "\\overline{\\texttt{vh}}_{iJ}\\cdot \\texttt{dyCv}_{iJ}\\cdot \\left(-\\frac{d}{dt}\\overline{\\texttt{vh}}_{iJ}/ \\texttt{dxCv}_{iJ} + \\overline{\\texttt{h\\_dvdt}}_{iJ}\\right)\n",
    "\\end{align}\n",
    "and \n",
    "$$\n",
    "    \\frac{d}{dt}\\texttt{uh}_{Ij} = \\text{time-average}\\left(\\partial_t \\texttt{uh}_{Ij}\\right) = \\frac{1}{\\tau_1-\\tau_0} \\int_{\\tau_0}^{\\tau_1} \\partial_t \\texttt{uh}_{Ij} dt = \\frac{\\texttt{uh}_{Ij}(\\tau_1) - \\texttt{uh}_{Ij}(\\tau_0)}{\\tau_1-\\tau_0}.\n",
    "$$\n",
    "\n",
    "$$\n",
    "    \\frac{d}{dt}\\texttt{vh}_{iJ} = \\text{time-average}\\left(\\partial_t \\texttt{vh}_{iJ}\\right) = \\frac{1}{\\tau_1-\\tau_0} \\int_{\\tau_0}^{\\tau_1} \\partial_t \\texttt{vh}_{iJ} dt = \\frac{\\texttt{vh}_{iJ}(\\tau_1) - \\texttt{vh}_{iJ}(\\tau_0)}{\\tau_1-\\tau_0}.\n",
    "$$\n",
    "\n",
    "\\begin{align*}\n",
    " (\\text{KE exchange})_{ij} & = \\frac{(\\text{ke}_u)_{I-1j}+(\\text{ke}_u)_{Ij}+(\\text{ke}_v)_{iJ-1}+(\\text{ke}_v)_{iJ}}{2\\overline{\\texttt{h}}_{ij}\\texttt{area\\_T}_{ij}}\\\\\n",
    "& + \\frac{(\\text{ke2}_u)_{I-1j}+(\\text{ke2}_u)_{Ij}+(\\text{ke2}_v)_{iJ-1}+(\\text{ke2}_v)_{iJ}}{2\\overline{\\texttt{h}}_{ij}\\texttt{area\\_T}_{ij}}\\\\\n",
    "& + \\texttt{MKE}_{ij}/\\overline{\\texttt{h}_{ij}}\\cdot  \\overline{\\texttt{dhdt}_{ij}}\\\\\n",
    "   &-\\frac{1}{\\texttt{area\\_t}} \\Big\\{ \\delta_i\\Big[ (\\texttt{MKE}/\\overline{\\texttt{h}})_{T\\to U} \\underbrace{\\overline{\\texttt{uh}}}_\\text{contains metric term}\\Big]\n",
    " +  \\delta_j\n",
    "   \\Big[ (\\texttt{MKE}/\\overline{\\texttt{h}})_{T\\to V}\\overline{\\texttt{vh}}\\Big]\n",
    "   \\Big\\},\n",
    "\\end{align*}"
   ]
  },
  {
   "cell_type": "code",
   "execution_count": 17,
   "metadata": {},
   "outputs": [
    {
     "ename": "KeyError",
     "evalue": "'dhdt'",
     "output_type": "error",
     "traceback": [
      "\u001b[0;31m---------------------------------------------------------------------------\u001b[0m",
      "\u001b[0;31mKeyError\u001b[0m                                  Traceback (most recent call last)",
      "\u001b[0;32m/glade/u/apps/dav/opt/python/3.7.9/gnu/9.1.0/pkg-library/20201220/lib/python3.7/site-packages/xarray/core/dataset.py\u001b[0m in \u001b[0;36m_construct_dataarray\u001b[0;34m(self, name)\u001b[0m\n\u001b[1;32m   1258\u001b[0m         \u001b[0;32mtry\u001b[0m\u001b[0;34m:\u001b[0m\u001b[0;34m\u001b[0m\u001b[0;34m\u001b[0m\u001b[0m\n\u001b[0;32m-> 1259\u001b[0;31m             \u001b[0mvariable\u001b[0m \u001b[0;34m=\u001b[0m \u001b[0mself\u001b[0m\u001b[0;34m.\u001b[0m\u001b[0m_variables\u001b[0m\u001b[0;34m[\u001b[0m\u001b[0mname\u001b[0m\u001b[0;34m]\u001b[0m\u001b[0;34m\u001b[0m\u001b[0;34m\u001b[0m\u001b[0m\n\u001b[0m\u001b[1;32m   1260\u001b[0m         \u001b[0;32mexcept\u001b[0m \u001b[0mKeyError\u001b[0m\u001b[0;34m:\u001b[0m\u001b[0;34m\u001b[0m\u001b[0;34m\u001b[0m\u001b[0m\n",
      "\u001b[0;31mKeyError\u001b[0m: 'dhdt'",
      "\nDuring handling of the above exception, another exception occurred:\n",
      "\u001b[0;31mKeyError\u001b[0m                                  Traceback (most recent call last)",
      "\u001b[0;32m<ipython-input-17-9ebb2ef9ad7f>\u001b[0m in \u001b[0;36m<module>\u001b[0;34m\u001b[0m\n\u001b[1;32m     21\u001b[0m \u001b[0mMKE\u001b[0m \u001b[0;34m=\u001b[0m  \u001b[0;36m0.5\u001b[0m \u001b[0;34m*\u001b[0m \u001b[0;34m(\u001b[0m\u001b[0mtfld1\u001b[0m \u001b[0;34m+\u001b[0m \u001b[0mtfld2\u001b[0m\u001b[0;34m)\u001b[0m\u001b[0;34m/\u001b[0m\u001b[0mav_f\u001b[0m\u001b[0;34m[\u001b[0m\u001b[0;34m'h'\u001b[0m\u001b[0;34m]\u001b[0m\u001b[0;34m\u001b[0m\u001b[0;34m\u001b[0m\u001b[0m\n\u001b[1;32m     22\u001b[0m \u001b[0mtfld\u001b[0m \u001b[0;34m=\u001b[0m \u001b[0mMKE\u001b[0m\u001b[0;34m/\u001b[0m\u001b[0mav_f\u001b[0m\u001b[0;34m[\u001b[0m\u001b[0;34m'h'\u001b[0m\u001b[0;34m]\u001b[0m\u001b[0;34m\u001b[0m\u001b[0;34m\u001b[0m\u001b[0m\n\u001b[0;32m---> 23\u001b[0;31m \u001b[0mterm3\u001b[0m \u001b[0;34m=\u001b[0m \u001b[0mtfld\u001b[0m \u001b[0;34m*\u001b[0m \u001b[0mav_f\u001b[0m\u001b[0;34m[\u001b[0m\u001b[0;34m'dhdt'\u001b[0m\u001b[0;34m]\u001b[0m\u001b[0;34m\u001b[0m\u001b[0;34m\u001b[0m\u001b[0m\n\u001b[0m\u001b[1;32m     24\u001b[0m \u001b[0;34m\u001b[0m\u001b[0m\n\u001b[1;32m     25\u001b[0m \u001b[0mufld2\u001b[0m \u001b[0;34m=\u001b[0m \u001b[0mgrid\u001b[0m\u001b[0;34m.\u001b[0m\u001b[0minterp\u001b[0m\u001b[0;34m(\u001b[0m\u001b[0mtfld\u001b[0m\u001b[0;34m.\u001b[0m\u001b[0mfillna\u001b[0m\u001b[0;34m(\u001b[0m\u001b[0mvalue\u001b[0m\u001b[0;34m=\u001b[0m\u001b[0;36m0\u001b[0m\u001b[0;34m)\u001b[0m\u001b[0;34m,\u001b[0m\u001b[0;34m'X'\u001b[0m\u001b[0;34m)\u001b[0m \u001b[0;34m*\u001b[0m \u001b[0mav_f\u001b[0m\u001b[0;34m[\u001b[0m\u001b[0;34m'uh'\u001b[0m\u001b[0;34m]\u001b[0m\u001b[0;34m\u001b[0m\u001b[0;34m\u001b[0m\u001b[0m\n",
      "\u001b[0;32m/glade/u/apps/dav/opt/python/3.7.9/gnu/9.1.0/pkg-library/20201220/lib/python3.7/site-packages/xarray/core/dataset.py\u001b[0m in \u001b[0;36m__getitem__\u001b[0;34m(self, key)\u001b[0m\n\u001b[1;32m   1357\u001b[0m \u001b[0;34m\u001b[0m\u001b[0m\n\u001b[1;32m   1358\u001b[0m         \u001b[0;32mif\u001b[0m \u001b[0mhashable\u001b[0m\u001b[0;34m(\u001b[0m\u001b[0mkey\u001b[0m\u001b[0;34m)\u001b[0m\u001b[0;34m:\u001b[0m\u001b[0;34m\u001b[0m\u001b[0;34m\u001b[0m\u001b[0m\n\u001b[0;32m-> 1359\u001b[0;31m             \u001b[0;32mreturn\u001b[0m \u001b[0mself\u001b[0m\u001b[0;34m.\u001b[0m\u001b[0m_construct_dataarray\u001b[0m\u001b[0;34m(\u001b[0m\u001b[0mkey\u001b[0m\u001b[0;34m)\u001b[0m\u001b[0;34m\u001b[0m\u001b[0;34m\u001b[0m\u001b[0m\n\u001b[0m\u001b[1;32m   1360\u001b[0m         \u001b[0;32melse\u001b[0m\u001b[0;34m:\u001b[0m\u001b[0;34m\u001b[0m\u001b[0;34m\u001b[0m\u001b[0m\n\u001b[1;32m   1361\u001b[0m             \u001b[0;32mreturn\u001b[0m \u001b[0mself\u001b[0m\u001b[0;34m.\u001b[0m\u001b[0m_copy_listed\u001b[0m\u001b[0;34m(\u001b[0m\u001b[0mnp\u001b[0m\u001b[0;34m.\u001b[0m\u001b[0masarray\u001b[0m\u001b[0;34m(\u001b[0m\u001b[0mkey\u001b[0m\u001b[0;34m)\u001b[0m\u001b[0;34m)\u001b[0m\u001b[0;34m\u001b[0m\u001b[0;34m\u001b[0m\u001b[0m\n",
      "\u001b[0;32m/glade/u/apps/dav/opt/python/3.7.9/gnu/9.1.0/pkg-library/20201220/lib/python3.7/site-packages/xarray/core/dataset.py\u001b[0m in \u001b[0;36m_construct_dataarray\u001b[0;34m(self, name)\u001b[0m\n\u001b[1;32m   1260\u001b[0m         \u001b[0;32mexcept\u001b[0m \u001b[0mKeyError\u001b[0m\u001b[0;34m:\u001b[0m\u001b[0;34m\u001b[0m\u001b[0;34m\u001b[0m\u001b[0m\n\u001b[1;32m   1261\u001b[0m             _, name, variable = _get_virtual_variable(\n\u001b[0;32m-> 1262\u001b[0;31m                 \u001b[0mself\u001b[0m\u001b[0;34m.\u001b[0m\u001b[0m_variables\u001b[0m\u001b[0;34m,\u001b[0m \u001b[0mname\u001b[0m\u001b[0;34m,\u001b[0m \u001b[0mself\u001b[0m\u001b[0;34m.\u001b[0m\u001b[0m_level_coords\u001b[0m\u001b[0;34m,\u001b[0m \u001b[0mself\u001b[0m\u001b[0;34m.\u001b[0m\u001b[0mdims\u001b[0m\u001b[0;34m\u001b[0m\u001b[0;34m\u001b[0m\u001b[0m\n\u001b[0m\u001b[1;32m   1263\u001b[0m             )\n\u001b[1;32m   1264\u001b[0m \u001b[0;34m\u001b[0m\u001b[0m\n",
      "\u001b[0;32m/glade/u/apps/dav/opt/python/3.7.9/gnu/9.1.0/pkg-library/20201220/lib/python3.7/site-packages/xarray/core/dataset.py\u001b[0m in \u001b[0;36m_get_virtual_variable\u001b[0;34m(variables, key, level_vars, dim_sizes)\u001b[0m\n\u001b[1;32m    169\u001b[0m         \u001b[0mref_var\u001b[0m \u001b[0;34m=\u001b[0m \u001b[0mdim_var\u001b[0m\u001b[0;34m.\u001b[0m\u001b[0mto_index_variable\u001b[0m\u001b[0;34m(\u001b[0m\u001b[0;34m)\u001b[0m\u001b[0;34m.\u001b[0m\u001b[0mget_level_variable\u001b[0m\u001b[0;34m(\u001b[0m\u001b[0mref_name\u001b[0m\u001b[0;34m)\u001b[0m\u001b[0;34m\u001b[0m\u001b[0;34m\u001b[0m\u001b[0m\n\u001b[1;32m    170\u001b[0m     \u001b[0;32melse\u001b[0m\u001b[0;34m:\u001b[0m\u001b[0;34m\u001b[0m\u001b[0;34m\u001b[0m\u001b[0m\n\u001b[0;32m--> 171\u001b[0;31m         \u001b[0mref_var\u001b[0m \u001b[0;34m=\u001b[0m \u001b[0mvariables\u001b[0m\u001b[0;34m[\u001b[0m\u001b[0mref_name\u001b[0m\u001b[0;34m]\u001b[0m\u001b[0;34m\u001b[0m\u001b[0;34m\u001b[0m\u001b[0m\n\u001b[0m\u001b[1;32m    172\u001b[0m \u001b[0;34m\u001b[0m\u001b[0m\n\u001b[1;32m    173\u001b[0m     \u001b[0;32mif\u001b[0m \u001b[0mvar_name\u001b[0m \u001b[0;32mis\u001b[0m \u001b[0;32mNone\u001b[0m\u001b[0;34m:\u001b[0m\u001b[0;34m\u001b[0m\u001b[0;34m\u001b[0m\u001b[0m\n",
      "\u001b[0;31mKeyError\u001b[0m: 'dhdt'"
     ]
    }
   ],
   "source": [
    "# volume-preserving\n",
    "ke_u = - av_f['uh'] * st['dxCu'] * (av_f['h_rvxv'] + av_f['h_gKEu'])\n",
    "ke_v = - av_f['vh'] * st['dyCv'] * (av_f['h_rvxu'] + av_f['h_gKEv'])   \n",
    "\n",
    "term1 = grid.interp(ke_u.fillna(value=0),'X') \n",
    "term1 = term1 + grid.interp(ke_v.fillna(value=0),'Y')  \n",
    "term1 = term1/av_f['h']/st['area_t']\n",
    "\n",
    "ke2_u = av_f['uh'] * st['dxCu'] * (av_f['h_du_dt'] - av_f['duhdt']/st['dyCu'])\n",
    "ke2_v = av_f['vh'] * st['dyCv'] * (av_f['h_dv_dt'] - av_f['dvhdt']/st['dxCv'])\n",
    "\n",
    "term2 = grid.interp(ke2_u.fillna(value=0),'X') \n",
    "term2 = term2 + grid.interp(ke2_v.fillna(value=0),'Y')  \n",
    "term2 = term2/av_f['h']/st['area_t']\n",
    "\n",
    "# discretize like MKE\n",
    "ufld = (av_f['uh']/st['dyCu'])**2\n",
    "tfld1 = grid.interp(ufld.fillna(value=0),'X') \n",
    "vfld = (av_f['vh']/st['dxCv'])**2\n",
    "tfld2 = grid.interp(vfld.fillna(value=0),'Y') \n",
    "MKE =  0.5 * (tfld1 + tfld2)/av_f['h']\n",
    "tfld = MKE/av_f['h']\n",
    "term3 = tfld * av_f['dhdt']\n",
    "\n",
    "ufld2 = grid.interp(tfld.fillna(value=0),'X') * av_f['uh']\n",
    "vfld2 = grid.interp(tfld.fillna(value=0),'Y',boundary='fill') * av_f['vh']\n",
    "term4 = grid.diff(ufld2.fillna(value=0),'X') + grid.diff(vfld2.fillna(value=0),'Y')\n",
    "term4 = - term4/st['area_t']\n",
    "\n",
    "data = term1 + term2 + term3 + term4\n",
    "data = xr.where(st.wet,data,np.nan)\n",
    "\n",
    "ds['Exchange_vol'] = data.copy()\n",
    "ds['Exchange_vol'] = ds['Exchange_vol'].chunk({'yh':Ny, 'xh':Nx})\n",
    "\n",
    "#ds['Exchange_vol'].attrs = {'units' : ds['dEKEdt_sn_vol'].units, \n",
    "#                               'long_name': 'KE Exchange (TWA)'}"
   ]
  },
  {
   "cell_type": "markdown",
   "metadata": {},
   "source": [
    "### Coriolis term"
   ]
  },
  {
   "cell_type": "markdown",
   "metadata": {},
   "source": [
    "\n",
    "\\begin{align*}\n",
    "\\text{Coriolis}_\\text{vol} & = \\overline{KECorAdv−KEadvA}- \\overline{u}^V \\cdot \\overline{h\\cdot (\\texttt{CAu}-\\texttt{rvxv}-\\texttt{gKEu})_{U\\to T}} - \\overline{v}^V \\cdot \\overline{h\\cdot (\\texttt{CAv}-\\texttt{rvxu}-\\texttt{gKEv})_{V\\to T}}\n",
    "\\end{align*}"
   ]
  },
  {
   "cell_type": "code",
   "execution_count": 18,
   "metadata": {},
   "outputs": [],
   "source": [
    "# area-preserving\n",
    "#ufld = av_f['u'] * st['area_u'] * (av_f['CAu'] - av_f['rvxv'] - av_f['gKEu'])\n",
    "#vfld = av_f['v'] * st['area_v'] * (av_f['CAv'] - av_f['rvxu'] - av_f['gKEv'])\n",
    "\n",
    "#term1 = - av_f['h'] * grid.interp(ufld.fillna(value=0),'X') \n",
    "#term2 = - av_f['h'] * grid.interp(vfld.fillna(value=0),'Y') \n",
    "    \n",
    "#data = av_f['KE_CorAdv'] - av_f['KE_adv'] + (term1 + term2)/st['area_t']\n",
    "#data = xr.where(st.wet,data,np.nan)\n",
    "#ds['Coriolis_area'] = data.copy()\n",
    "#ds['Coriolis_area'].attrs = {'units' : ds['dEKEdt_area'].units, \n",
    "#                                'long_name': 'Coriolis term (non-TWA)'}\n",
    "  \n",
    "# volume-preserving\n",
    "ufld = av_f['uh'] * st['dxCu'] * (av_f['h_CAu'] - av_f['h_rvxv'] - av_f['h_gKEu'])\n",
    "vfld = av_f['vh'] * st['dyCv'] * (av_f['h_CAv'] - av_f['h_rvxu'] - av_f['h_gKEv'])   \n",
    "    \n",
    "term1 = - grid.interp(ufld.fillna(value=0),'X')\n",
    "term2 = - grid.interp(vfld.fillna(value=0),'Y')\n",
    "    \n",
    "data = av_f['KE_CorAdv'] - av_f['KE_adv'] + (term1 + term2)/(av_f['h'] * st['area_t'])\n",
    "data = xr.where(st.wet,data,np.nan)    \n",
    "ds['Coriolis_vol'] = data.copy()\n",
    "#ds['Coriolis_vol'].attrs = {'units' : ds['dEKEdt_area'].units, \n",
    "#                                'long_name': 'Coriolis term (TWA)'}"
   ]
  },
  {
   "cell_type": "markdown",
   "metadata": {},
   "source": [
    "### EKE Sources\n",
    "\n",
    "$$\n",
    "\\text{Sources}_\\text{vol}= \\overline{PE\\_to\\_KE} + \\overline{KE\\_BT} - \\frac{\\overline{hu_{U\\to T}}}{\\overline{h}}\\cdot \\overline{h\\cdot (PFu + u\\_BT\\_accel)_{U\\to T}}- \\frac{\\overline{hv_{V\\to T}}}{\\overline{h}}\\cdot \\overline{h\\cdot (PFv + v\\_BT\\_accel)_{V\\to T}}.\n",
    "$$\n",
    "\n",
    "\n",
    "\\begin{align}\n",
    "    \\sum_n (\\bar{S}_n - \\hat{S}_n)&=-\\frac{1}{\\rho_1}\\left(\\sum_{n=1}^N  \\overline{h_n\\mathbf{u}_n\\cdot\\nabla p_n}^A-  \\sum_{n=1}^N  \\overline{\\mathbf{u}}^V_n\\cdot\\overline{h_n \\nabla p_n}^A\\right)\\\\\n",
    "    &= \\underbrace{-\\frac{1}{\\rho_1}\\left(\\sum_{n=1}^N\\overline{h_n\\mathbf{u}_n\\cdot\\nabla p_n}^A -\\sum_{n=1}^N\\overline{h_n\\mathbf{u}_n}^A\\cdot\\overline{\\nabla p_n}^A\\right)}_\\text{Transport + EPE tendency + Residual due to commuting derivative and filter}+ \\underbrace{\\frac{1}{\\rho_1}\\sum_{n=1}^N \\overline{h_n\\mathbf{u}_n}^A\\cdot \\overline{\\nabla p_n'}^V}_\\text{Eddy form stress}\n",
    "    \\end{align}\n",
    "\n",
    "\n",
    "\n",
    "where \n",
    "\n",
    "\n",
    "$$\n",
    "\\frac{1}{\\rho_1} \\overline{h_n\\mathbf{u}_n}^A\\cdot \\overline{\\nabla p_n'}^V = \\frac{1}{\\rho_1}\\left(\\sum_{n=1}^N\\overline{h_n\\mathbf{u}_n}^A\\cdot(\\overline{\\nabla p_n}^V - \\overline{\\nabla p_n}^A)\\right)\n",
    "$$"
   ]
  },
  {
   "cell_type": "code",
   "execution_count": 20,
   "metadata": {},
   "outputs": [],
   "source": [
    "if not doSmallerSet:\n",
    "    ufld = av_f['uh'] * st['dxCu']  * (av_f['PFu+u_BT_accel_visc_rem'])\n",
    "    tfld1 = grid.interp(ufld.fillna(value=0),'X') \n",
    "    vfld = av_f['vh'] * st['dyCv'] * (av_f['PFv+v_BT_accel_visc_rem'])\n",
    "    tfld2 = grid.interp(vfld.fillna(value=0),'Y',boundary='fill') \n",
    "    data3 = (tfld1 + tfld2) / st['area_t'] \n",
    "    data3 = xr.where(st.wet,data3,np.nan)\n",
    "\n",
    "# volume-preserving\n",
    "ufld = av_f['uh'] * st['dxCu'] * (av_f['h_PFu+u_BT_accel'])\n",
    "vfld = av_f['vh'] * st['dyCv'] * (av_f['h_PFv+v_BT_accel'])   \n",
    "    \n",
    "term1 = - grid.interp(ufld.fillna(value=0),'X') / av_f['h'] / st['area_t']\n",
    "term2 = - grid.interp(vfld.fillna(value=0),'Y') / av_f['h'] / st['area_t']\n",
    "    \n",
    "data = av_f['PE_to_KE+KE_BT'] + term1 + term2 \n",
    "data = xr.where(st.wet,data,np.nan)    \n",
    "  \n",
    "ds['Sources_vol'] = data.copy()\n",
    "#ds['Sources_vol'].attrs = {'units' : av_f['PE_to_KE'].units, \n",
    "#                             'long_name': 'EKE source term (TWA)'}\n",
    "\n",
    "if not doSmallerSet:\n",
    "    ds['eddy_form_vol'] =  (data3 + term1 + term2).where(st.wet)\n",
    "    #ds['eddy_form_vol'].attrs = {'units' : av_f['PE_to_KE'].units, \n",
    "    #                             'long_name': 'Work done by eddy from stress (TWA)'}"
   ]
  },
  {
   "cell_type": "markdown",
   "metadata": {},
   "source": [
    "### EKE Sinks"
   ]
  },
  {
   "cell_type": "markdown",
   "metadata": {},
   "source": [
    "$$\n",
    "\\text{Sinks}_\\text{vol}= \\overline{KE\\_horvisc}+\\overline{KE\\_visc}- \\frac{\\overline{hu_{U\\to T}}}{\\overline{h}}\\cdot \\overline{h\\cdot (diffu + du\\_dt\\_visc)_{U\\to T}}- \\frac{\\overline{hv_{V\\to T}}}{\\overline{h}} \\cdot \\overline{h\\cdot (diffv + dv\\_dt\\_visc)_{V\\to T}}.\n",
    "$$"
   ]
  },
  {
   "cell_type": "code",
   "execution_count": 21,
   "metadata": {},
   "outputs": [],
   "source": [
    "# volume-preserving\n",
    "ufldA = av_f['uh'] * st['dxCu'] * av_f['h_diffu']\n",
    "vfldA = av_f['vh'] * st['dyCv'] * av_f['h_diffv']\n",
    "ufldB = av_f['uh'] * st['dxCu'] * av_f['h_du_dt_visc']\n",
    "vfldB = av_f['vh'] * st['dyCv'] * av_f['h_dv_dt_visc'] \n",
    "ufldB_wind = av_f['uh'] * st['dxCu'] * av_f['h_du_dt_str']\n",
    "vfldB_wind = av_f['vh'] * st['dyCv'] * av_f['h_dv_dt_str']\n",
    "\n",
    "termuA = - grid.interp(ufldA.fillna(value=0),'X')/av_f['h']/st['area_t']\n",
    "termuB = - grid.interp(ufldB.fillna(value=0),'X')/av_f['h']/st['area_t']\n",
    "termuB_wind = - grid.interp(ufldB_wind.fillna(value=0),'X')/av_f['h']/st['area_t']\n",
    "\n",
    "termvA = - grid.interp(vfldA.fillna(value=0),'Y')/av_f['h']/st['area_t']\n",
    "termvB = - grid.interp(vfldB.fillna(value=0),'Y')/av_f['h']/st['area_t']\n",
    "termvB_wind = - grid.interp(vfldB_wind.fillna(value=0),'Y')/av_f['h']/st['area_t']\n",
    "\n",
    "dataA = av_f['KE_horvisc'] + termuA + termvA\n",
    "dataA = xr.where(st.wet, dataA,np.nan)    \n",
    "\n",
    "dataB = av_f['KE_visc'] + termuB + termvB\n",
    "dataB = xr.where(st.wet,dataB,np.nan)    \n",
    "\n",
    "dataB_wind = av_f['KE_stress'] + termuB_wind + termvB_wind\n",
    "dataB_wind = xr.where(st.wet,dataB_wind,np.nan)  \n",
    "\n",
    "ds['Sinks_hor_vol'] = dataA.copy()\n",
    "ds['Sinks_vert_vol'] = dataB.copy()\n",
    "ds['Sinks_vert_wind_vol'] = dataB_wind.copy()\n",
    "\n",
    "ds['Sinks_vol'] = dataA + dataB\n",
    "\n",
    "\n",
    "ds['MKE_sources_hor_vol'] = - termuA - termvA \n",
    "ds['MKE_sources_vert_vol'] = - termuB - termvB\n",
    "ds['MKE_sources_vert_wind_vol'] = - termuB_wind - termvB_wind"
   ]
  },
  {
   "cell_type": "markdown",
   "metadata": {},
   "source": [
    "## MPE --> MKE\n",
    "$$\n",
    "    -\\frac{1}{\\rho_1}\\sum_{n=1}^N\\overline{h_n\\mathbf{u}_n}\\cdot\\nabla \\overline{p_n}\n",
    "$$"
   ]
  },
  {
   "cell_type": "code",
   "execution_count": 22,
   "metadata": {},
   "outputs": [],
   "source": [
    "if not doSmallerSet:\n",
    "    ke_u = av_f['uh'] * st['dxCu'] * av_f['PFu+u_BT_accel_visc_rem']\n",
    "    ke_v = av_f['vh'] * st['dyCv'] * av_f['PFv+v_BT_accel_visc_rem']\n",
    "\n",
    "    ds['MPE2MKE_vol'] = (\n",
    "        grid.interp(ke_u.fillna(value=0),'X') \n",
    "        + grid.interp(ke_v.fillna(value=0),'Y')  \n",
    "    ) / st['area_t']"
   ]
  },
  {
   "cell_type": "markdown",
   "metadata": {},
   "source": [
    "## Save EKE budget terms to netcdf"
   ]
  },
  {
   "cell_type": "code",
   "execution_count": 23,
   "metadata": {},
   "outputs": [],
   "source": [
    "ds = ds.transpose('time', 'zl', 'yh', 'xh') # reorder coordinates"
   ]
  },
  {
   "cell_type": "code",
   "execution_count": 24,
   "metadata": {},
   "outputs": [
    {
     "ename": "KeyError",
     "evalue": "'Exchange_vol'",
     "output_type": "error",
     "traceback": [
      "\u001b[0;31m---------------------------------------------------------------------------\u001b[0m",
      "\u001b[0;31mKeyError\u001b[0m                                  Traceback (most recent call last)",
      "\u001b[0;32m/glade/u/apps/dav/opt/python/3.7.9/gnu/9.1.0/pkg-library/20201220/lib/python3.7/site-packages/xarray/core/dataset.py\u001b[0m in \u001b[0;36m_construct_dataarray\u001b[0;34m(self, name)\u001b[0m\n\u001b[1;32m   1258\u001b[0m         \u001b[0;32mtry\u001b[0m\u001b[0;34m:\u001b[0m\u001b[0;34m\u001b[0m\u001b[0;34m\u001b[0m\u001b[0m\n\u001b[0;32m-> 1259\u001b[0;31m             \u001b[0mvariable\u001b[0m \u001b[0;34m=\u001b[0m \u001b[0mself\u001b[0m\u001b[0;34m.\u001b[0m\u001b[0m_variables\u001b[0m\u001b[0;34m[\u001b[0m\u001b[0mname\u001b[0m\u001b[0;34m]\u001b[0m\u001b[0;34m\u001b[0m\u001b[0;34m\u001b[0m\u001b[0m\n\u001b[0m\u001b[1;32m   1260\u001b[0m         \u001b[0;32mexcept\u001b[0m \u001b[0mKeyError\u001b[0m\u001b[0;34m:\u001b[0m\u001b[0;34m\u001b[0m\u001b[0;34m\u001b[0m\u001b[0m\n",
      "\u001b[0;31mKeyError\u001b[0m: 'Exchange_vol'",
      "\nDuring handling of the above exception, another exception occurred:\n",
      "\u001b[0;31mKeyError\u001b[0m                                  Traceback (most recent call last)",
      "\u001b[0;32m<ipython-input-24-2f962fcaea33>\u001b[0m in \u001b[0;36m<module>\u001b[0;34m\u001b[0m\n\u001b[1;32m     13\u001b[0m            'MKE_vol']\n\u001b[1;32m     14\u001b[0m \u001b[0;32mfor\u001b[0m \u001b[0mfld\u001b[0m \u001b[0;32min\u001b[0m \u001b[0mfldlist\u001b[0m\u001b[0;34m:\u001b[0m\u001b[0;34m\u001b[0m\u001b[0;34m\u001b[0m\u001b[0m\n\u001b[0;32m---> 15\u001b[0;31m     \u001b[0mds2\u001b[0m\u001b[0;34m[\u001b[0m\u001b[0mfld\u001b[0m\u001b[0;34m]\u001b[0m \u001b[0;34m=\u001b[0m \u001b[0mds\u001b[0m\u001b[0;34m[\u001b[0m\u001b[0mfld\u001b[0m\u001b[0;34m]\u001b[0m\u001b[0;34m\u001b[0m\u001b[0;34m\u001b[0m\u001b[0m\n\u001b[0m\u001b[1;32m     16\u001b[0m \u001b[0mds2\u001b[0m\u001b[0;34m\u001b[0m\u001b[0;34m\u001b[0m\u001b[0m\n",
      "\u001b[0;32m/glade/u/apps/dav/opt/python/3.7.9/gnu/9.1.0/pkg-library/20201220/lib/python3.7/site-packages/xarray/core/dataset.py\u001b[0m in \u001b[0;36m__getitem__\u001b[0;34m(self, key)\u001b[0m\n\u001b[1;32m   1357\u001b[0m \u001b[0;34m\u001b[0m\u001b[0m\n\u001b[1;32m   1358\u001b[0m         \u001b[0;32mif\u001b[0m \u001b[0mhashable\u001b[0m\u001b[0;34m(\u001b[0m\u001b[0mkey\u001b[0m\u001b[0;34m)\u001b[0m\u001b[0;34m:\u001b[0m\u001b[0;34m\u001b[0m\u001b[0;34m\u001b[0m\u001b[0m\n\u001b[0;32m-> 1359\u001b[0;31m             \u001b[0;32mreturn\u001b[0m \u001b[0mself\u001b[0m\u001b[0;34m.\u001b[0m\u001b[0m_construct_dataarray\u001b[0m\u001b[0;34m(\u001b[0m\u001b[0mkey\u001b[0m\u001b[0;34m)\u001b[0m\u001b[0;34m\u001b[0m\u001b[0;34m\u001b[0m\u001b[0m\n\u001b[0m\u001b[1;32m   1360\u001b[0m         \u001b[0;32melse\u001b[0m\u001b[0;34m:\u001b[0m\u001b[0;34m\u001b[0m\u001b[0;34m\u001b[0m\u001b[0m\n\u001b[1;32m   1361\u001b[0m             \u001b[0;32mreturn\u001b[0m \u001b[0mself\u001b[0m\u001b[0;34m.\u001b[0m\u001b[0m_copy_listed\u001b[0m\u001b[0;34m(\u001b[0m\u001b[0mnp\u001b[0m\u001b[0;34m.\u001b[0m\u001b[0masarray\u001b[0m\u001b[0;34m(\u001b[0m\u001b[0mkey\u001b[0m\u001b[0;34m)\u001b[0m\u001b[0;34m)\u001b[0m\u001b[0;34m\u001b[0m\u001b[0;34m\u001b[0m\u001b[0m\n",
      "\u001b[0;32m/glade/u/apps/dav/opt/python/3.7.9/gnu/9.1.0/pkg-library/20201220/lib/python3.7/site-packages/xarray/core/dataset.py\u001b[0m in \u001b[0;36m_construct_dataarray\u001b[0;34m(self, name)\u001b[0m\n\u001b[1;32m   1260\u001b[0m         \u001b[0;32mexcept\u001b[0m \u001b[0mKeyError\u001b[0m\u001b[0;34m:\u001b[0m\u001b[0;34m\u001b[0m\u001b[0;34m\u001b[0m\u001b[0m\n\u001b[1;32m   1261\u001b[0m             _, name, variable = _get_virtual_variable(\n\u001b[0;32m-> 1262\u001b[0;31m                 \u001b[0mself\u001b[0m\u001b[0;34m.\u001b[0m\u001b[0m_variables\u001b[0m\u001b[0;34m,\u001b[0m \u001b[0mname\u001b[0m\u001b[0;34m,\u001b[0m \u001b[0mself\u001b[0m\u001b[0;34m.\u001b[0m\u001b[0m_level_coords\u001b[0m\u001b[0;34m,\u001b[0m \u001b[0mself\u001b[0m\u001b[0;34m.\u001b[0m\u001b[0mdims\u001b[0m\u001b[0;34m\u001b[0m\u001b[0;34m\u001b[0m\u001b[0m\n\u001b[0m\u001b[1;32m   1263\u001b[0m             )\n\u001b[1;32m   1264\u001b[0m \u001b[0;34m\u001b[0m\u001b[0m\n",
      "\u001b[0;32m/glade/u/apps/dav/opt/python/3.7.9/gnu/9.1.0/pkg-library/20201220/lib/python3.7/site-packages/xarray/core/dataset.py\u001b[0m in \u001b[0;36m_get_virtual_variable\u001b[0;34m(variables, key, level_vars, dim_sizes)\u001b[0m\n\u001b[1;32m    169\u001b[0m         \u001b[0mref_var\u001b[0m \u001b[0;34m=\u001b[0m \u001b[0mdim_var\u001b[0m\u001b[0;34m.\u001b[0m\u001b[0mto_index_variable\u001b[0m\u001b[0;34m(\u001b[0m\u001b[0;34m)\u001b[0m\u001b[0;34m.\u001b[0m\u001b[0mget_level_variable\u001b[0m\u001b[0;34m(\u001b[0m\u001b[0mref_name\u001b[0m\u001b[0;34m)\u001b[0m\u001b[0;34m\u001b[0m\u001b[0;34m\u001b[0m\u001b[0m\n\u001b[1;32m    170\u001b[0m     \u001b[0;32melse\u001b[0m\u001b[0;34m:\u001b[0m\u001b[0;34m\u001b[0m\u001b[0;34m\u001b[0m\u001b[0m\n\u001b[0;32m--> 171\u001b[0;31m         \u001b[0mref_var\u001b[0m \u001b[0;34m=\u001b[0m \u001b[0mvariables\u001b[0m\u001b[0;34m[\u001b[0m\u001b[0mref_name\u001b[0m\u001b[0;34m]\u001b[0m\u001b[0;34m\u001b[0m\u001b[0;34m\u001b[0m\u001b[0m\n\u001b[0m\u001b[1;32m    172\u001b[0m \u001b[0;34m\u001b[0m\u001b[0m\n\u001b[1;32m    173\u001b[0m     \u001b[0;32mif\u001b[0m \u001b[0mvar_name\u001b[0m \u001b[0;32mis\u001b[0m \u001b[0;32mNone\u001b[0m\u001b[0;34m:\u001b[0m\u001b[0;34m\u001b[0m\u001b[0;34m\u001b[0m\u001b[0m\n",
      "\u001b[0;31mKeyError\u001b[0m: 'Exchange_vol'"
     ]
    }
   ],
   "source": [
    "ds2 = xr.Dataset() \n",
    "if doSmallerSet:\n",
    "    fldlist = ['EKE_vol', 'Transport_no_PG_vol','Exchange_vol','Coriolis_vol',\n",
    "           'Sources_vol','Sinks_hor_vol','Sinks_vert_vol', 'Sinks_vert_wind_vol']\n",
    "    \n",
    "else:\n",
    "    fldlist = ['EKE_vol', 'dEKEdt_sn_vol','Transport_no_PG_vol','Exchange_vol','Coriolis_vol',\n",
    "           'Sources_vol','Sinks_hor_vol','Sinks_vert_vol', 'Sinks_vert_wind_vol',\n",
    "           'eddy_form_vol',\n",
    "           'MPE2MKE_vol','MKE_sources_hor_vol','MKE_sources_vert_vol',\n",
    "           'MKE_sources_vert_wind_vol',\n",
    "           #'Transport_PG',\n",
    "           'MKE_vol']\n",
    "for fld in fldlist:\n",
    "    ds2[fld] = ds[fld]\n",
    "ds2"
   ]
  },
  {
   "cell_type": "code",
   "execution_count": 20,
   "metadata": {},
   "outputs": [
    {
     "data": {
      "text/plain": [
       "'/glade/scratch/noraloose/filtered_data/nw2_0.03125deg_N15_baseline/EKE_TWA_00000602_Gaussian_coarse2_fac32_simple'"
      ]
     },
     "execution_count": 20,
     "metadata": {},
     "output_type": "execute_result"
    }
   ],
   "source": [
    "ffile"
   ]
  },
  {
   "cell_type": "code",
   "execution_count": 21,
   "metadata": {},
   "outputs": [
    {
     "data": {
      "text/plain": [
       "<xarray.backends.zarr.ZarrStore at 0x2b5fb8a68520>"
      ]
     },
     "execution_count": 21,
     "metadata": {},
     "output_type": "execute_result"
    }
   ],
   "source": [
    "ds2.to_zarr(ffile)"
   ]
  },
  {
   "cell_type": "code",
   "execution_count": null,
   "metadata": {},
   "outputs": [],
   "source": []
  }
 ],
 "metadata": {
  "kernelspec": {
   "display_name": "Python 3",
   "language": "python",
   "name": "python3"
  },
  "language_info": {
   "codemirror_mode": {
    "name": "ipython",
    "version": 3
   },
   "file_extension": ".py",
   "mimetype": "text/x-python",
   "name": "python",
   "nbconvert_exporter": "python",
   "pygments_lexer": "ipython3",
   "version": "3.7.9"
  }
 },
 "nbformat": 4,
 "nbformat_minor": 4
}

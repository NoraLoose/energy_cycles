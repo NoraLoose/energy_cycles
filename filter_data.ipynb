{
 "cells": [
  {
   "cell_type": "markdown",
   "metadata": {},
   "source": [
    "# 1: Filter NeverWorld2 data using diffusion-based filters\n",
    "* Assumes that you have already run `make_bottom_mask.ipynb`"
   ]
  },
  {
   "cell_type": "code",
   "execution_count": 58,
   "metadata": {},
   "outputs": [],
   "source": [
    "filter_fac = 64  # filters 1/32 degree --> 1 degree; choose filter_fac = 16, 32, 64, 128 to reproduce figures in Loose et al. (2022)\n",
    "end_time = 2900  # choose from 2500, 2600, 2700, 2800, 2900 \n",
    "bleck = True\n",
    "lorenz = True"
   ]
  },
  {
   "cell_type": "code",
   "execution_count": 59,
   "metadata": {},
   "outputs": [],
   "source": [
    "import numpy as np\n",
    "import xarray as xr\n",
    "import dask"
   ]
  },
  {
   "cell_type": "code",
   "execution_count": 60,
   "metadata": {},
   "outputs": [],
   "source": [
    "#import warnings\n",
    "#warnings.filterwarnings('ignore')"
   ]
  },
  {
   "cell_type": "code",
   "execution_count": 61,
   "metadata": {},
   "outputs": [],
   "source": [
    "gpu = True  # using gpu will considerably speed up the filter computations"
   ]
  },
  {
   "cell_type": "markdown",
   "metadata": {},
   "source": [
    "## Get a view of Neverworld2 data"
   ]
  },
  {
   "cell_type": "code",
   "execution_count": 62,
   "metadata": {},
   "outputs": [],
   "source": [
    "path = '/glade/p/univ/unyu0004/gmarques/NeverWorld2/baselines/'\n",
    "run = 'nw2_0.03125deg_N15_baseline_hmix20'\n",
    "chunks = {'time': 1, 'zl':1}\n",
    "nr_days = 100\n",
    "\n",
    "st = xr.open_dataset('%s/%s/static.nc' % (path,run), decode_times=False)\n",
    "sn = xr.open_dataset('%s/%s/snapshots_%08d.nc' % (path, run, end_time-nr_days+5), decode_times=False, chunks=chunks)\n",
    "av = xr.open_dataset('%s/%s/averages_%08d.nc' % (path, run, end_time-nr_days+2), decode_times=False, chunks=chunks)"
   ]
  },
  {
   "cell_type": "markdown",
   "metadata": {},
   "source": [
    "Bottom mask (was computed in `make_bottom_mask.ipynb`)"
   ]
  },
  {
   "cell_type": "code",
   "execution_count": 63,
   "metadata": {},
   "outputs": [],
   "source": [
    "scratchpath = '/glade/scratch/noraloose/'\n",
    "av_mask = xr.open_dataset('%s/%s/averages_%08d_bottom_mask.nc' % (scratchpath, run, end_time-nr_days+2), decode_times=False, chunks=chunks) \n",
    "av['bottom_mask'] = av_mask['bottom_mask']  # = 1 if the lower interface of layer n is within the bottom boundary layer, and = 0 otherwise\n",
    "av['bottom_mask'].attrs = av['bottom_mask'].attrs"
   ]
  },
  {
   "cell_type": "code",
   "execution_count": 64,
   "metadata": {},
   "outputs": [
    {
     "data": {
      "text/html": [
       "<div><svg style=\"position: absolute; width: 0; height: 0; overflow: hidden\">\n",
       "<defs>\n",
       "<symbol id=\"icon-database\" viewBox=\"0 0 32 32\">\n",
       "<path d=\"M16 0c-8.837 0-16 2.239-16 5v4c0 2.761 7.163 5 16 5s16-2.239 16-5v-4c0-2.761-7.163-5-16-5z\"></path>\n",
       "<path d=\"M16 17c-8.837 0-16-2.239-16-5v6c0 2.761 7.163 5 16 5s16-2.239 16-5v-6c0 2.761-7.163 5-16 5z\"></path>\n",
       "<path d=\"M16 26c-8.837 0-16-2.239-16-5v6c0 2.761 7.163 5 16 5s16-2.239 16-5v-6c0 2.761-7.163 5-16 5z\"></path>\n",
       "</symbol>\n",
       "<symbol id=\"icon-file-text2\" viewBox=\"0 0 32 32\">\n",
       "<path d=\"M28.681 7.159c-0.694-0.947-1.662-2.053-2.724-3.116s-2.169-2.030-3.116-2.724c-1.612-1.182-2.393-1.319-2.841-1.319h-15.5c-1.378 0-2.5 1.121-2.5 2.5v27c0 1.378 1.122 2.5 2.5 2.5h23c1.378 0 2.5-1.122 2.5-2.5v-19.5c0-0.448-0.137-1.23-1.319-2.841zM24.543 5.457c0.959 0.959 1.712 1.825 2.268 2.543h-4.811v-4.811c0.718 0.556 1.584 1.309 2.543 2.268zM28 29.5c0 0.271-0.229 0.5-0.5 0.5h-23c-0.271 0-0.5-0.229-0.5-0.5v-27c0-0.271 0.229-0.5 0.5-0.5 0 0 15.499-0 15.5 0v7c0 0.552 0.448 1 1 1h7v19.5z\"></path>\n",
       "<path d=\"M23 26h-14c-0.552 0-1-0.448-1-1s0.448-1 1-1h14c0.552 0 1 0.448 1 1s-0.448 1-1 1z\"></path>\n",
       "<path d=\"M23 22h-14c-0.552 0-1-0.448-1-1s0.448-1 1-1h14c0.552 0 1 0.448 1 1s-0.448 1-1 1z\"></path>\n",
       "<path d=\"M23 18h-14c-0.552 0-1-0.448-1-1s0.448-1 1-1h14c0.552 0 1 0.448 1 1s-0.448 1-1 1z\"></path>\n",
       "</symbol>\n",
       "</defs>\n",
       "</svg>\n",
       "<style>/* CSS stylesheet for displaying xarray objects in jupyterlab.\n",
       " *\n",
       " */\n",
       "\n",
       ":root {\n",
       "  --xr-font-color0: var(--jp-content-font-color0, rgba(0, 0, 0, 1));\n",
       "  --xr-font-color2: var(--jp-content-font-color2, rgba(0, 0, 0, 0.54));\n",
       "  --xr-font-color3: var(--jp-content-font-color3, rgba(0, 0, 0, 0.38));\n",
       "  --xr-border-color: var(--jp-border-color2, #e0e0e0);\n",
       "  --xr-disabled-color: var(--jp-layout-color3, #bdbdbd);\n",
       "  --xr-background-color: var(--jp-layout-color0, white);\n",
       "  --xr-background-color-row-even: var(--jp-layout-color1, white);\n",
       "  --xr-background-color-row-odd: var(--jp-layout-color2, #eeeeee);\n",
       "}\n",
       "\n",
       "html[theme=dark],\n",
       "body.vscode-dark {\n",
       "  --xr-font-color0: rgba(255, 255, 255, 1);\n",
       "  --xr-font-color2: rgba(255, 255, 255, 0.54);\n",
       "  --xr-font-color3: rgba(255, 255, 255, 0.38);\n",
       "  --xr-border-color: #1F1F1F;\n",
       "  --xr-disabled-color: #515151;\n",
       "  --xr-background-color: #111111;\n",
       "  --xr-background-color-row-even: #111111;\n",
       "  --xr-background-color-row-odd: #313131;\n",
       "}\n",
       "\n",
       ".xr-wrap {\n",
       "  display: block !important;\n",
       "  min-width: 300px;\n",
       "  max-width: 700px;\n",
       "}\n",
       "\n",
       ".xr-text-repr-fallback {\n",
       "  /* fallback to plain text repr when CSS is not injected (untrusted notebook) */\n",
       "  display: none;\n",
       "}\n",
       "\n",
       ".xr-header {\n",
       "  padding-top: 6px;\n",
       "  padding-bottom: 6px;\n",
       "  margin-bottom: 4px;\n",
       "  border-bottom: solid 1px var(--xr-border-color);\n",
       "}\n",
       "\n",
       ".xr-header > div,\n",
       ".xr-header > ul {\n",
       "  display: inline;\n",
       "  margin-top: 0;\n",
       "  margin-bottom: 0;\n",
       "}\n",
       "\n",
       ".xr-obj-type,\n",
       ".xr-array-name {\n",
       "  margin-left: 2px;\n",
       "  margin-right: 10px;\n",
       "}\n",
       "\n",
       ".xr-obj-type {\n",
       "  color: var(--xr-font-color2);\n",
       "}\n",
       "\n",
       ".xr-sections {\n",
       "  padding-left: 0 !important;\n",
       "  display: grid;\n",
       "  grid-template-columns: 150px auto auto 1fr 20px 20px;\n",
       "}\n",
       "\n",
       ".xr-section-item {\n",
       "  display: contents;\n",
       "}\n",
       "\n",
       ".xr-section-item input {\n",
       "  display: none;\n",
       "}\n",
       "\n",
       ".xr-section-item input + label {\n",
       "  color: var(--xr-disabled-color);\n",
       "}\n",
       "\n",
       ".xr-section-item input:enabled + label {\n",
       "  cursor: pointer;\n",
       "  color: var(--xr-font-color2);\n",
       "}\n",
       "\n",
       ".xr-section-item input:enabled + label:hover {\n",
       "  color: var(--xr-font-color0);\n",
       "}\n",
       "\n",
       ".xr-section-summary {\n",
       "  grid-column: 1;\n",
       "  color: var(--xr-font-color2);\n",
       "  font-weight: 500;\n",
       "}\n",
       "\n",
       ".xr-section-summary > span {\n",
       "  display: inline-block;\n",
       "  padding-left: 0.5em;\n",
       "}\n",
       "\n",
       ".xr-section-summary-in:disabled + label {\n",
       "  color: var(--xr-font-color2);\n",
       "}\n",
       "\n",
       ".xr-section-summary-in + label:before {\n",
       "  display: inline-block;\n",
       "  content: '►';\n",
       "  font-size: 11px;\n",
       "  width: 15px;\n",
       "  text-align: center;\n",
       "}\n",
       "\n",
       ".xr-section-summary-in:disabled + label:before {\n",
       "  color: var(--xr-disabled-color);\n",
       "}\n",
       "\n",
       ".xr-section-summary-in:checked + label:before {\n",
       "  content: '▼';\n",
       "}\n",
       "\n",
       ".xr-section-summary-in:checked + label > span {\n",
       "  display: none;\n",
       "}\n",
       "\n",
       ".xr-section-summary,\n",
       ".xr-section-inline-details {\n",
       "  padding-top: 4px;\n",
       "  padding-bottom: 4px;\n",
       "}\n",
       "\n",
       ".xr-section-inline-details {\n",
       "  grid-column: 2 / -1;\n",
       "}\n",
       "\n",
       ".xr-section-details {\n",
       "  display: none;\n",
       "  grid-column: 1 / -1;\n",
       "  margin-bottom: 5px;\n",
       "}\n",
       "\n",
       ".xr-section-summary-in:checked ~ .xr-section-details {\n",
       "  display: contents;\n",
       "}\n",
       "\n",
       ".xr-array-wrap {\n",
       "  grid-column: 1 / -1;\n",
       "  display: grid;\n",
       "  grid-template-columns: 20px auto;\n",
       "}\n",
       "\n",
       ".xr-array-wrap > label {\n",
       "  grid-column: 1;\n",
       "  vertical-align: top;\n",
       "}\n",
       "\n",
       ".xr-preview {\n",
       "  color: var(--xr-font-color3);\n",
       "}\n",
       "\n",
       ".xr-array-preview,\n",
       ".xr-array-data {\n",
       "  padding: 0 5px !important;\n",
       "  grid-column: 2;\n",
       "}\n",
       "\n",
       ".xr-array-data,\n",
       ".xr-array-in:checked ~ .xr-array-preview {\n",
       "  display: none;\n",
       "}\n",
       "\n",
       ".xr-array-in:checked ~ .xr-array-data,\n",
       ".xr-array-preview {\n",
       "  display: inline-block;\n",
       "}\n",
       "\n",
       ".xr-dim-list {\n",
       "  display: inline-block !important;\n",
       "  list-style: none;\n",
       "  padding: 0 !important;\n",
       "  margin: 0;\n",
       "}\n",
       "\n",
       ".xr-dim-list li {\n",
       "  display: inline-block;\n",
       "  padding: 0;\n",
       "  margin: 0;\n",
       "}\n",
       "\n",
       ".xr-dim-list:before {\n",
       "  content: '(';\n",
       "}\n",
       "\n",
       ".xr-dim-list:after {\n",
       "  content: ')';\n",
       "}\n",
       "\n",
       ".xr-dim-list li:not(:last-child):after {\n",
       "  content: ',';\n",
       "  padding-right: 5px;\n",
       "}\n",
       "\n",
       ".xr-has-index {\n",
       "  font-weight: bold;\n",
       "}\n",
       "\n",
       ".xr-var-list,\n",
       ".xr-var-item {\n",
       "  display: contents;\n",
       "}\n",
       "\n",
       ".xr-var-item > div,\n",
       ".xr-var-item label,\n",
       ".xr-var-item > .xr-var-name span {\n",
       "  background-color: var(--xr-background-color-row-even);\n",
       "  margin-bottom: 0;\n",
       "}\n",
       "\n",
       ".xr-var-item > .xr-var-name:hover span {\n",
       "  padding-right: 5px;\n",
       "}\n",
       "\n",
       ".xr-var-list > li:nth-child(odd) > div,\n",
       ".xr-var-list > li:nth-child(odd) > label,\n",
       ".xr-var-list > li:nth-child(odd) > .xr-var-name span {\n",
       "  background-color: var(--xr-background-color-row-odd);\n",
       "}\n",
       "\n",
       ".xr-var-name {\n",
       "  grid-column: 1;\n",
       "}\n",
       "\n",
       ".xr-var-dims {\n",
       "  grid-column: 2;\n",
       "}\n",
       "\n",
       ".xr-var-dtype {\n",
       "  grid-column: 3;\n",
       "  text-align: right;\n",
       "  color: var(--xr-font-color2);\n",
       "}\n",
       "\n",
       ".xr-var-preview {\n",
       "  grid-column: 4;\n",
       "}\n",
       "\n",
       ".xr-var-name,\n",
       ".xr-var-dims,\n",
       ".xr-var-dtype,\n",
       ".xr-preview,\n",
       ".xr-attrs dt {\n",
       "  white-space: nowrap;\n",
       "  overflow: hidden;\n",
       "  text-overflow: ellipsis;\n",
       "  padding-right: 10px;\n",
       "}\n",
       "\n",
       ".xr-var-name:hover,\n",
       ".xr-var-dims:hover,\n",
       ".xr-var-dtype:hover,\n",
       ".xr-attrs dt:hover {\n",
       "  overflow: visible;\n",
       "  width: auto;\n",
       "  z-index: 1;\n",
       "}\n",
       "\n",
       ".xr-var-attrs,\n",
       ".xr-var-data {\n",
       "  display: none;\n",
       "  background-color: var(--xr-background-color) !important;\n",
       "  padding-bottom: 5px !important;\n",
       "}\n",
       "\n",
       ".xr-var-attrs-in:checked ~ .xr-var-attrs,\n",
       ".xr-var-data-in:checked ~ .xr-var-data {\n",
       "  display: block;\n",
       "}\n",
       "\n",
       ".xr-var-data > table {\n",
       "  float: right;\n",
       "}\n",
       "\n",
       ".xr-var-name span,\n",
       ".xr-var-data,\n",
       ".xr-attrs {\n",
       "  padding-left: 25px !important;\n",
       "}\n",
       "\n",
       ".xr-attrs,\n",
       ".xr-var-attrs,\n",
       ".xr-var-data {\n",
       "  grid-column: 1 / -1;\n",
       "}\n",
       "\n",
       "dl.xr-attrs {\n",
       "  padding: 0;\n",
       "  margin: 0;\n",
       "  display: grid;\n",
       "  grid-template-columns: 125px auto;\n",
       "}\n",
       "\n",
       ".xr-attrs dt,\n",
       ".xr-attrs dd {\n",
       "  padding: 0;\n",
       "  margin: 0;\n",
       "  float: left;\n",
       "  padding-right: 10px;\n",
       "  width: auto;\n",
       "}\n",
       "\n",
       ".xr-attrs dt {\n",
       "  font-weight: normal;\n",
       "  grid-column: 1;\n",
       "}\n",
       "\n",
       ".xr-attrs dt:hover span {\n",
       "  display: inline-block;\n",
       "  background: var(--xr-background-color);\n",
       "  padding-right: 10px;\n",
       "}\n",
       "\n",
       ".xr-attrs dd {\n",
       "  grid-column: 2;\n",
       "  white-space: pre-wrap;\n",
       "  word-break: break-all;\n",
       "}\n",
       "\n",
       ".xr-icon-database,\n",
       ".xr-icon-file-text2 {\n",
       "  display: inline-block;\n",
       "  vertical-align: middle;\n",
       "  width: 1em;\n",
       "  height: 1.5em !important;\n",
       "  stroke-width: 0;\n",
       "  stroke: currentColor;\n",
       "  fill: currentColor;\n",
       "}\n",
       "</style><pre class='xr-text-repr-fallback'>&lt;xarray.DataArray &#x27;time&#x27; (time: 20)&gt;\n",
       "array([2805., 2810., 2815., 2820., 2825., 2830., 2835., 2840., 2845., 2850.,\n",
       "       2855., 2860., 2865., 2870., 2875., 2880., 2885., 2890., 2895., 2900.])\n",
       "Coordinates:\n",
       "  * time     (time) float64 2.805e+03 2.81e+03 2.815e+03 ... 2.895e+03 2.9e+03\n",
       "Attributes:\n",
       "    long_name:       time\n",
       "    units:           days since 0001-01-01 00:00:00\n",
       "    cartesian_axis:  T\n",
       "    calendar_type:   THIRTY_DAY_MONTHS\n",
       "    calendar:        THIRTY_DAY_MONTHS</pre><div class='xr-wrap' style='display:none'><div class='xr-header'><div class='xr-obj-type'>xarray.DataArray</div><div class='xr-array-name'>'time'</div><ul class='xr-dim-list'><li><span class='xr-has-index'>time</span>: 20</li></ul></div><ul class='xr-sections'><li class='xr-section-item'><div class='xr-array-wrap'><input id='section-917e8ef0-7ca7-4f4b-a8df-f0f0631fa964' class='xr-array-in' type='checkbox' checked><label for='section-917e8ef0-7ca7-4f4b-a8df-f0f0631fa964' title='Show/hide data repr'><svg class='icon xr-icon-database'><use xlink:href='#icon-database'></use></svg></label><div class='xr-array-preview xr-preview'><span>2.805e+03 2.81e+03 2.815e+03 2.82e+03 ... 2.89e+03 2.895e+03 2.9e+03</span></div><div class='xr-array-data'><pre>array([2805., 2810., 2815., 2820., 2825., 2830., 2835., 2840., 2845., 2850.,\n",
       "       2855., 2860., 2865., 2870., 2875., 2880., 2885., 2890., 2895., 2900.])</pre></div></div></li><li class='xr-section-item'><input id='section-61b125f9-b1c7-48b4-b05b-e14b231f6624' class='xr-section-summary-in' type='checkbox'  checked><label for='section-61b125f9-b1c7-48b4-b05b-e14b231f6624' class='xr-section-summary' >Coordinates: <span>(1)</span></label><div class='xr-section-inline-details'></div><div class='xr-section-details'><ul class='xr-var-list'><li class='xr-var-item'><div class='xr-var-name'><span class='xr-has-index'>time</span></div><div class='xr-var-dims'>(time)</div><div class='xr-var-dtype'>float64</div><div class='xr-var-preview xr-preview'>2.805e+03 2.81e+03 ... 2.9e+03</div><input id='attrs-7ea9d7a7-0bfb-4221-861c-675aa159dbba' class='xr-var-attrs-in' type='checkbox' ><label for='attrs-7ea9d7a7-0bfb-4221-861c-675aa159dbba' title='Show/Hide attributes'><svg class='icon xr-icon-file-text2'><use xlink:href='#icon-file-text2'></use></svg></label><input id='data-a8900757-623d-4e34-b135-500781c254e9' class='xr-var-data-in' type='checkbox'><label for='data-a8900757-623d-4e34-b135-500781c254e9' title='Show/Hide data repr'><svg class='icon xr-icon-database'><use xlink:href='#icon-database'></use></svg></label><div class='xr-var-attrs'><dl class='xr-attrs'><dt><span>long_name :</span></dt><dd>time</dd><dt><span>units :</span></dt><dd>days since 0001-01-01 00:00:00</dd><dt><span>cartesian_axis :</span></dt><dd>T</dd><dt><span>calendar_type :</span></dt><dd>THIRTY_DAY_MONTHS</dd><dt><span>calendar :</span></dt><dd>THIRTY_DAY_MONTHS</dd></dl></div><div class='xr-var-data'><pre>array([2805., 2810., 2815., 2820., 2825., 2830., 2835., 2840., 2845., 2850.,\n",
       "       2855., 2860., 2865., 2870., 2875., 2880., 2885., 2890., 2895., 2900.])</pre></div></li></ul></div></li><li class='xr-section-item'><input id='section-e0cc8e5c-59c8-4cb6-aa6b-bc70ce061e62' class='xr-section-summary-in' type='checkbox'  checked><label for='section-e0cc8e5c-59c8-4cb6-aa6b-bc70ce061e62' class='xr-section-summary' >Attributes: <span>(5)</span></label><div class='xr-section-inline-details'></div><div class='xr-section-details'><dl class='xr-attrs'><dt><span>long_name :</span></dt><dd>time</dd><dt><span>units :</span></dt><dd>days since 0001-01-01 00:00:00</dd><dt><span>cartesian_axis :</span></dt><dd>T</dd><dt><span>calendar_type :</span></dt><dd>THIRTY_DAY_MONTHS</dd><dt><span>calendar :</span></dt><dd>THIRTY_DAY_MONTHS</dd></dl></div></li></ul></div></div>"
      ],
      "text/plain": [
       "<xarray.DataArray 'time' (time: 20)>\n",
       "array([2805., 2810., 2815., 2820., 2825., 2830., 2835., 2840., 2845., 2850.,\n",
       "       2855., 2860., 2865., 2870., 2875., 2880., 2885., 2890., 2895., 2900.])\n",
       "Coordinates:\n",
       "  * time     (time) float64 2.805e+03 2.81e+03 2.815e+03 ... 2.895e+03 2.9e+03\n",
       "Attributes:\n",
       "    long_name:       time\n",
       "    units:           days since 0001-01-01 00:00:00\n",
       "    cartesian_axis:  T\n",
       "    calendar_type:   THIRTY_DAY_MONTHS\n",
       "    calendar:        THIRTY_DAY_MONTHS"
      ]
     },
     "execution_count": 64,
     "metadata": {},
     "output_type": "execute_result"
    }
   ],
   "source": [
    "sn.time"
   ]
  },
  {
   "cell_type": "code",
   "execution_count": 65,
   "metadata": {},
   "outputs": [
    {
     "data": {
      "text/html": [
       "<div><svg style=\"position: absolute; width: 0; height: 0; overflow: hidden\">\n",
       "<defs>\n",
       "<symbol id=\"icon-database\" viewBox=\"0 0 32 32\">\n",
       "<path d=\"M16 0c-8.837 0-16 2.239-16 5v4c0 2.761 7.163 5 16 5s16-2.239 16-5v-4c0-2.761-7.163-5-16-5z\"></path>\n",
       "<path d=\"M16 17c-8.837 0-16-2.239-16-5v6c0 2.761 7.163 5 16 5s16-2.239 16-5v-6c0 2.761-7.163 5-16 5z\"></path>\n",
       "<path d=\"M16 26c-8.837 0-16-2.239-16-5v6c0 2.761 7.163 5 16 5s16-2.239 16-5v-6c0 2.761-7.163 5-16 5z\"></path>\n",
       "</symbol>\n",
       "<symbol id=\"icon-file-text2\" viewBox=\"0 0 32 32\">\n",
       "<path d=\"M28.681 7.159c-0.694-0.947-1.662-2.053-2.724-3.116s-2.169-2.030-3.116-2.724c-1.612-1.182-2.393-1.319-2.841-1.319h-15.5c-1.378 0-2.5 1.121-2.5 2.5v27c0 1.378 1.122 2.5 2.5 2.5h23c1.378 0 2.5-1.122 2.5-2.5v-19.5c0-0.448-0.137-1.23-1.319-2.841zM24.543 5.457c0.959 0.959 1.712 1.825 2.268 2.543h-4.811v-4.811c0.718 0.556 1.584 1.309 2.543 2.268zM28 29.5c0 0.271-0.229 0.5-0.5 0.5h-23c-0.271 0-0.5-0.229-0.5-0.5v-27c0-0.271 0.229-0.5 0.5-0.5 0 0 15.499-0 15.5 0v7c0 0.552 0.448 1 1 1h7v19.5z\"></path>\n",
       "<path d=\"M23 26h-14c-0.552 0-1-0.448-1-1s0.448-1 1-1h14c0.552 0 1 0.448 1 1s-0.448 1-1 1z\"></path>\n",
       "<path d=\"M23 22h-14c-0.552 0-1-0.448-1-1s0.448-1 1-1h14c0.552 0 1 0.448 1 1s-0.448 1-1 1z\"></path>\n",
       "<path d=\"M23 18h-14c-0.552 0-1-0.448-1-1s0.448-1 1-1h14c0.552 0 1 0.448 1 1s-0.448 1-1 1z\"></path>\n",
       "</symbol>\n",
       "</defs>\n",
       "</svg>\n",
       "<style>/* CSS stylesheet for displaying xarray objects in jupyterlab.\n",
       " *\n",
       " */\n",
       "\n",
       ":root {\n",
       "  --xr-font-color0: var(--jp-content-font-color0, rgba(0, 0, 0, 1));\n",
       "  --xr-font-color2: var(--jp-content-font-color2, rgba(0, 0, 0, 0.54));\n",
       "  --xr-font-color3: var(--jp-content-font-color3, rgba(0, 0, 0, 0.38));\n",
       "  --xr-border-color: var(--jp-border-color2, #e0e0e0);\n",
       "  --xr-disabled-color: var(--jp-layout-color3, #bdbdbd);\n",
       "  --xr-background-color: var(--jp-layout-color0, white);\n",
       "  --xr-background-color-row-even: var(--jp-layout-color1, white);\n",
       "  --xr-background-color-row-odd: var(--jp-layout-color2, #eeeeee);\n",
       "}\n",
       "\n",
       "html[theme=dark],\n",
       "body.vscode-dark {\n",
       "  --xr-font-color0: rgba(255, 255, 255, 1);\n",
       "  --xr-font-color2: rgba(255, 255, 255, 0.54);\n",
       "  --xr-font-color3: rgba(255, 255, 255, 0.38);\n",
       "  --xr-border-color: #1F1F1F;\n",
       "  --xr-disabled-color: #515151;\n",
       "  --xr-background-color: #111111;\n",
       "  --xr-background-color-row-even: #111111;\n",
       "  --xr-background-color-row-odd: #313131;\n",
       "}\n",
       "\n",
       ".xr-wrap {\n",
       "  display: block !important;\n",
       "  min-width: 300px;\n",
       "  max-width: 700px;\n",
       "}\n",
       "\n",
       ".xr-text-repr-fallback {\n",
       "  /* fallback to plain text repr when CSS is not injected (untrusted notebook) */\n",
       "  display: none;\n",
       "}\n",
       "\n",
       ".xr-header {\n",
       "  padding-top: 6px;\n",
       "  padding-bottom: 6px;\n",
       "  margin-bottom: 4px;\n",
       "  border-bottom: solid 1px var(--xr-border-color);\n",
       "}\n",
       "\n",
       ".xr-header > div,\n",
       ".xr-header > ul {\n",
       "  display: inline;\n",
       "  margin-top: 0;\n",
       "  margin-bottom: 0;\n",
       "}\n",
       "\n",
       ".xr-obj-type,\n",
       ".xr-array-name {\n",
       "  margin-left: 2px;\n",
       "  margin-right: 10px;\n",
       "}\n",
       "\n",
       ".xr-obj-type {\n",
       "  color: var(--xr-font-color2);\n",
       "}\n",
       "\n",
       ".xr-sections {\n",
       "  padding-left: 0 !important;\n",
       "  display: grid;\n",
       "  grid-template-columns: 150px auto auto 1fr 20px 20px;\n",
       "}\n",
       "\n",
       ".xr-section-item {\n",
       "  display: contents;\n",
       "}\n",
       "\n",
       ".xr-section-item input {\n",
       "  display: none;\n",
       "}\n",
       "\n",
       ".xr-section-item input + label {\n",
       "  color: var(--xr-disabled-color);\n",
       "}\n",
       "\n",
       ".xr-section-item input:enabled + label {\n",
       "  cursor: pointer;\n",
       "  color: var(--xr-font-color2);\n",
       "}\n",
       "\n",
       ".xr-section-item input:enabled + label:hover {\n",
       "  color: var(--xr-font-color0);\n",
       "}\n",
       "\n",
       ".xr-section-summary {\n",
       "  grid-column: 1;\n",
       "  color: var(--xr-font-color2);\n",
       "  font-weight: 500;\n",
       "}\n",
       "\n",
       ".xr-section-summary > span {\n",
       "  display: inline-block;\n",
       "  padding-left: 0.5em;\n",
       "}\n",
       "\n",
       ".xr-section-summary-in:disabled + label {\n",
       "  color: var(--xr-font-color2);\n",
       "}\n",
       "\n",
       ".xr-section-summary-in + label:before {\n",
       "  display: inline-block;\n",
       "  content: '►';\n",
       "  font-size: 11px;\n",
       "  width: 15px;\n",
       "  text-align: center;\n",
       "}\n",
       "\n",
       ".xr-section-summary-in:disabled + label:before {\n",
       "  color: var(--xr-disabled-color);\n",
       "}\n",
       "\n",
       ".xr-section-summary-in:checked + label:before {\n",
       "  content: '▼';\n",
       "}\n",
       "\n",
       ".xr-section-summary-in:checked + label > span {\n",
       "  display: none;\n",
       "}\n",
       "\n",
       ".xr-section-summary,\n",
       ".xr-section-inline-details {\n",
       "  padding-top: 4px;\n",
       "  padding-bottom: 4px;\n",
       "}\n",
       "\n",
       ".xr-section-inline-details {\n",
       "  grid-column: 2 / -1;\n",
       "}\n",
       "\n",
       ".xr-section-details {\n",
       "  display: none;\n",
       "  grid-column: 1 / -1;\n",
       "  margin-bottom: 5px;\n",
       "}\n",
       "\n",
       ".xr-section-summary-in:checked ~ .xr-section-details {\n",
       "  display: contents;\n",
       "}\n",
       "\n",
       ".xr-array-wrap {\n",
       "  grid-column: 1 / -1;\n",
       "  display: grid;\n",
       "  grid-template-columns: 20px auto;\n",
       "}\n",
       "\n",
       ".xr-array-wrap > label {\n",
       "  grid-column: 1;\n",
       "  vertical-align: top;\n",
       "}\n",
       "\n",
       ".xr-preview {\n",
       "  color: var(--xr-font-color3);\n",
       "}\n",
       "\n",
       ".xr-array-preview,\n",
       ".xr-array-data {\n",
       "  padding: 0 5px !important;\n",
       "  grid-column: 2;\n",
       "}\n",
       "\n",
       ".xr-array-data,\n",
       ".xr-array-in:checked ~ .xr-array-preview {\n",
       "  display: none;\n",
       "}\n",
       "\n",
       ".xr-array-in:checked ~ .xr-array-data,\n",
       ".xr-array-preview {\n",
       "  display: inline-block;\n",
       "}\n",
       "\n",
       ".xr-dim-list {\n",
       "  display: inline-block !important;\n",
       "  list-style: none;\n",
       "  padding: 0 !important;\n",
       "  margin: 0;\n",
       "}\n",
       "\n",
       ".xr-dim-list li {\n",
       "  display: inline-block;\n",
       "  padding: 0;\n",
       "  margin: 0;\n",
       "}\n",
       "\n",
       ".xr-dim-list:before {\n",
       "  content: '(';\n",
       "}\n",
       "\n",
       ".xr-dim-list:after {\n",
       "  content: ')';\n",
       "}\n",
       "\n",
       ".xr-dim-list li:not(:last-child):after {\n",
       "  content: ',';\n",
       "  padding-right: 5px;\n",
       "}\n",
       "\n",
       ".xr-has-index {\n",
       "  font-weight: bold;\n",
       "}\n",
       "\n",
       ".xr-var-list,\n",
       ".xr-var-item {\n",
       "  display: contents;\n",
       "}\n",
       "\n",
       ".xr-var-item > div,\n",
       ".xr-var-item label,\n",
       ".xr-var-item > .xr-var-name span {\n",
       "  background-color: var(--xr-background-color-row-even);\n",
       "  margin-bottom: 0;\n",
       "}\n",
       "\n",
       ".xr-var-item > .xr-var-name:hover span {\n",
       "  padding-right: 5px;\n",
       "}\n",
       "\n",
       ".xr-var-list > li:nth-child(odd) > div,\n",
       ".xr-var-list > li:nth-child(odd) > label,\n",
       ".xr-var-list > li:nth-child(odd) > .xr-var-name span {\n",
       "  background-color: var(--xr-background-color-row-odd);\n",
       "}\n",
       "\n",
       ".xr-var-name {\n",
       "  grid-column: 1;\n",
       "}\n",
       "\n",
       ".xr-var-dims {\n",
       "  grid-column: 2;\n",
       "}\n",
       "\n",
       ".xr-var-dtype {\n",
       "  grid-column: 3;\n",
       "  text-align: right;\n",
       "  color: var(--xr-font-color2);\n",
       "}\n",
       "\n",
       ".xr-var-preview {\n",
       "  grid-column: 4;\n",
       "}\n",
       "\n",
       ".xr-var-name,\n",
       ".xr-var-dims,\n",
       ".xr-var-dtype,\n",
       ".xr-preview,\n",
       ".xr-attrs dt {\n",
       "  white-space: nowrap;\n",
       "  overflow: hidden;\n",
       "  text-overflow: ellipsis;\n",
       "  padding-right: 10px;\n",
       "}\n",
       "\n",
       ".xr-var-name:hover,\n",
       ".xr-var-dims:hover,\n",
       ".xr-var-dtype:hover,\n",
       ".xr-attrs dt:hover {\n",
       "  overflow: visible;\n",
       "  width: auto;\n",
       "  z-index: 1;\n",
       "}\n",
       "\n",
       ".xr-var-attrs,\n",
       ".xr-var-data {\n",
       "  display: none;\n",
       "  background-color: var(--xr-background-color) !important;\n",
       "  padding-bottom: 5px !important;\n",
       "}\n",
       "\n",
       ".xr-var-attrs-in:checked ~ .xr-var-attrs,\n",
       ".xr-var-data-in:checked ~ .xr-var-data {\n",
       "  display: block;\n",
       "}\n",
       "\n",
       ".xr-var-data > table {\n",
       "  float: right;\n",
       "}\n",
       "\n",
       ".xr-var-name span,\n",
       ".xr-var-data,\n",
       ".xr-attrs {\n",
       "  padding-left: 25px !important;\n",
       "}\n",
       "\n",
       ".xr-attrs,\n",
       ".xr-var-attrs,\n",
       ".xr-var-data {\n",
       "  grid-column: 1 / -1;\n",
       "}\n",
       "\n",
       "dl.xr-attrs {\n",
       "  padding: 0;\n",
       "  margin: 0;\n",
       "  display: grid;\n",
       "  grid-template-columns: 125px auto;\n",
       "}\n",
       "\n",
       ".xr-attrs dt,\n",
       ".xr-attrs dd {\n",
       "  padding: 0;\n",
       "  margin: 0;\n",
       "  float: left;\n",
       "  padding-right: 10px;\n",
       "  width: auto;\n",
       "}\n",
       "\n",
       ".xr-attrs dt {\n",
       "  font-weight: normal;\n",
       "  grid-column: 1;\n",
       "}\n",
       "\n",
       ".xr-attrs dt:hover span {\n",
       "  display: inline-block;\n",
       "  background: var(--xr-background-color);\n",
       "  padding-right: 10px;\n",
       "}\n",
       "\n",
       ".xr-attrs dd {\n",
       "  grid-column: 2;\n",
       "  white-space: pre-wrap;\n",
       "  word-break: break-all;\n",
       "}\n",
       "\n",
       ".xr-icon-database,\n",
       ".xr-icon-file-text2 {\n",
       "  display: inline-block;\n",
       "  vertical-align: middle;\n",
       "  width: 1em;\n",
       "  height: 1.5em !important;\n",
       "  stroke-width: 0;\n",
       "  stroke: currentColor;\n",
       "  fill: currentColor;\n",
       "}\n",
       "</style><pre class='xr-text-repr-fallback'>&lt;xarray.DataArray &#x27;time&#x27; (time: 20)&gt;\n",
       "array([2802.5, 2807.5, 2812.5, 2817.5, 2822.5, 2827.5, 2832.5, 2837.5, 2842.5,\n",
       "       2847.5, 2852.5, 2857.5, 2862.5, 2867.5, 2872.5, 2877.5, 2882.5, 2887.5,\n",
       "       2892.5, 2897.5])\n",
       "Coordinates:\n",
       "  * time     (time) float64 2.802e+03 2.808e+03 ... 2.892e+03 2.898e+03\n",
       "Attributes:\n",
       "    long_name:       time\n",
       "    units:           days since 0001-01-01 00:00:00\n",
       "    cartesian_axis:  T\n",
       "    calendar_type:   THIRTY_DAY_MONTHS\n",
       "    calendar:        THIRTY_DAY_MONTHS\n",
       "    bounds:          time_bnds</pre><div class='xr-wrap' style='display:none'><div class='xr-header'><div class='xr-obj-type'>xarray.DataArray</div><div class='xr-array-name'>'time'</div><ul class='xr-dim-list'><li><span class='xr-has-index'>time</span>: 20</li></ul></div><ul class='xr-sections'><li class='xr-section-item'><div class='xr-array-wrap'><input id='section-bb3f9965-5d3b-4197-8777-c103f5b7c283' class='xr-array-in' type='checkbox' checked><label for='section-bb3f9965-5d3b-4197-8777-c103f5b7c283' title='Show/hide data repr'><svg class='icon xr-icon-database'><use xlink:href='#icon-database'></use></svg></label><div class='xr-array-preview xr-preview'><span>2.802e+03 2.808e+03 2.812e+03 ... 2.888e+03 2.892e+03 2.898e+03</span></div><div class='xr-array-data'><pre>array([2802.5, 2807.5, 2812.5, 2817.5, 2822.5, 2827.5, 2832.5, 2837.5, 2842.5,\n",
       "       2847.5, 2852.5, 2857.5, 2862.5, 2867.5, 2872.5, 2877.5, 2882.5, 2887.5,\n",
       "       2892.5, 2897.5])</pre></div></div></li><li class='xr-section-item'><input id='section-ba66ea6f-63fa-4748-bbc2-66ec6540df90' class='xr-section-summary-in' type='checkbox'  checked><label for='section-ba66ea6f-63fa-4748-bbc2-66ec6540df90' class='xr-section-summary' >Coordinates: <span>(1)</span></label><div class='xr-section-inline-details'></div><div class='xr-section-details'><ul class='xr-var-list'><li class='xr-var-item'><div class='xr-var-name'><span class='xr-has-index'>time</span></div><div class='xr-var-dims'>(time)</div><div class='xr-var-dtype'>float64</div><div class='xr-var-preview xr-preview'>2.802e+03 2.808e+03 ... 2.898e+03</div><input id='attrs-26195f59-62c6-4995-8380-af3e4bcbc1d6' class='xr-var-attrs-in' type='checkbox' ><label for='attrs-26195f59-62c6-4995-8380-af3e4bcbc1d6' title='Show/Hide attributes'><svg class='icon xr-icon-file-text2'><use xlink:href='#icon-file-text2'></use></svg></label><input id='data-2c172043-bd16-4732-9b75-c7cd04f0b792' class='xr-var-data-in' type='checkbox'><label for='data-2c172043-bd16-4732-9b75-c7cd04f0b792' title='Show/Hide data repr'><svg class='icon xr-icon-database'><use xlink:href='#icon-database'></use></svg></label><div class='xr-var-attrs'><dl class='xr-attrs'><dt><span>long_name :</span></dt><dd>time</dd><dt><span>units :</span></dt><dd>days since 0001-01-01 00:00:00</dd><dt><span>cartesian_axis :</span></dt><dd>T</dd><dt><span>calendar_type :</span></dt><dd>THIRTY_DAY_MONTHS</dd><dt><span>calendar :</span></dt><dd>THIRTY_DAY_MONTHS</dd><dt><span>bounds :</span></dt><dd>time_bnds</dd></dl></div><div class='xr-var-data'><pre>array([2802.5, 2807.5, 2812.5, 2817.5, 2822.5, 2827.5, 2832.5, 2837.5, 2842.5,\n",
       "       2847.5, 2852.5, 2857.5, 2862.5, 2867.5, 2872.5, 2877.5, 2882.5, 2887.5,\n",
       "       2892.5, 2897.5])</pre></div></li></ul></div></li><li class='xr-section-item'><input id='section-7ebf4c27-a8fb-4173-a6d5-fab212c67f5c' class='xr-section-summary-in' type='checkbox'  checked><label for='section-7ebf4c27-a8fb-4173-a6d5-fab212c67f5c' class='xr-section-summary' >Attributes: <span>(6)</span></label><div class='xr-section-inline-details'></div><div class='xr-section-details'><dl class='xr-attrs'><dt><span>long_name :</span></dt><dd>time</dd><dt><span>units :</span></dt><dd>days since 0001-01-01 00:00:00</dd><dt><span>cartesian_axis :</span></dt><dd>T</dd><dt><span>calendar_type :</span></dt><dd>THIRTY_DAY_MONTHS</dd><dt><span>calendar :</span></dt><dd>THIRTY_DAY_MONTHS</dd><dt><span>bounds :</span></dt><dd>time_bnds</dd></dl></div></li></ul></div></div>"
      ],
      "text/plain": [
       "<xarray.DataArray 'time' (time: 20)>\n",
       "array([2802.5, 2807.5, 2812.5, 2817.5, 2822.5, 2827.5, 2832.5, 2837.5, 2842.5,\n",
       "       2847.5, 2852.5, 2857.5, 2862.5, 2867.5, 2872.5, 2877.5, 2882.5, 2887.5,\n",
       "       2892.5, 2897.5])\n",
       "Coordinates:\n",
       "  * time     (time) float64 2.802e+03 2.808e+03 ... 2.892e+03 2.898e+03\n",
       "Attributes:\n",
       "    long_name:       time\n",
       "    units:           days since 0001-01-01 00:00:00\n",
       "    cartesian_axis:  T\n",
       "    calendar_type:   THIRTY_DAY_MONTHS\n",
       "    calendar:        THIRTY_DAY_MONTHS\n",
       "    bounds:          time_bnds"
      ]
     },
     "execution_count": 65,
     "metadata": {},
     "output_type": "execute_result"
    }
   ],
   "source": [
    "av.time"
   ]
  },
  {
   "cell_type": "markdown",
   "metadata": {},
   "source": [
    "Some missing 5-day average diagnostics are computed from snapshots. Since the snapshots time steps in `sn` are taken at the *end* of the 5-day average windows in `av` (see above), we can try and see if we have snapshot data for the 100 previous days, to be able to recover average data for the *first* 5-day window."
   ]
  },
  {
   "cell_type": "code",
   "execution_count": 66,
   "metadata": {},
   "outputs": [
    {
     "data": {
      "text/plain": [
       "True"
      ]
     },
     "execution_count": 66,
     "metadata": {},
     "output_type": "execute_result"
    }
   ],
   "source": [
    "previous_sn_file = '%s/%s/snapshots_%08d.nc' % (path, run, end_time-2*nr_days+5)\n",
    "from os.path import exists\n",
    "if exists(previous_sn_file):\n",
    "    sn_previous = xr.open_dataset(previous_sn_file, decode_times=False, chunks=chunks)\n",
    "    previous = True\n",
    "else: \n",
    "    previous = False\n",
    "previous"
   ]
  },
  {
   "cell_type": "code",
   "execution_count": 67,
   "metadata": {},
   "outputs": [
    {
     "data": {
      "text/html": [
       "<div><svg style=\"position: absolute; width: 0; height: 0; overflow: hidden\">\n",
       "<defs>\n",
       "<symbol id=\"icon-database\" viewBox=\"0 0 32 32\">\n",
       "<path d=\"M16 0c-8.837 0-16 2.239-16 5v4c0 2.761 7.163 5 16 5s16-2.239 16-5v-4c0-2.761-7.163-5-16-5z\"></path>\n",
       "<path d=\"M16 17c-8.837 0-16-2.239-16-5v6c0 2.761 7.163 5 16 5s16-2.239 16-5v-6c0 2.761-7.163 5-16 5z\"></path>\n",
       "<path d=\"M16 26c-8.837 0-16-2.239-16-5v6c0 2.761 7.163 5 16 5s16-2.239 16-5v-6c0 2.761-7.163 5-16 5z\"></path>\n",
       "</symbol>\n",
       "<symbol id=\"icon-file-text2\" viewBox=\"0 0 32 32\">\n",
       "<path d=\"M28.681 7.159c-0.694-0.947-1.662-2.053-2.724-3.116s-2.169-2.030-3.116-2.724c-1.612-1.182-2.393-1.319-2.841-1.319h-15.5c-1.378 0-2.5 1.121-2.5 2.5v27c0 1.378 1.122 2.5 2.5 2.5h23c1.378 0 2.5-1.122 2.5-2.5v-19.5c0-0.448-0.137-1.23-1.319-2.841zM24.543 5.457c0.959 0.959 1.712 1.825 2.268 2.543h-4.811v-4.811c0.718 0.556 1.584 1.309 2.543 2.268zM28 29.5c0 0.271-0.229 0.5-0.5 0.5h-23c-0.271 0-0.5-0.229-0.5-0.5v-27c0-0.271 0.229-0.5 0.5-0.5 0 0 15.499-0 15.5 0v7c0 0.552 0.448 1 1 1h7v19.5z\"></path>\n",
       "<path d=\"M23 26h-14c-0.552 0-1-0.448-1-1s0.448-1 1-1h14c0.552 0 1 0.448 1 1s-0.448 1-1 1z\"></path>\n",
       "<path d=\"M23 22h-14c-0.552 0-1-0.448-1-1s0.448-1 1-1h14c0.552 0 1 0.448 1 1s-0.448 1-1 1z\"></path>\n",
       "<path d=\"M23 18h-14c-0.552 0-1-0.448-1-1s0.448-1 1-1h14c0.552 0 1 0.448 1 1s-0.448 1-1 1z\"></path>\n",
       "</symbol>\n",
       "</defs>\n",
       "</svg>\n",
       "<style>/* CSS stylesheet for displaying xarray objects in jupyterlab.\n",
       " *\n",
       " */\n",
       "\n",
       ":root {\n",
       "  --xr-font-color0: var(--jp-content-font-color0, rgba(0, 0, 0, 1));\n",
       "  --xr-font-color2: var(--jp-content-font-color2, rgba(0, 0, 0, 0.54));\n",
       "  --xr-font-color3: var(--jp-content-font-color3, rgba(0, 0, 0, 0.38));\n",
       "  --xr-border-color: var(--jp-border-color2, #e0e0e0);\n",
       "  --xr-disabled-color: var(--jp-layout-color3, #bdbdbd);\n",
       "  --xr-background-color: var(--jp-layout-color0, white);\n",
       "  --xr-background-color-row-even: var(--jp-layout-color1, white);\n",
       "  --xr-background-color-row-odd: var(--jp-layout-color2, #eeeeee);\n",
       "}\n",
       "\n",
       "html[theme=dark],\n",
       "body.vscode-dark {\n",
       "  --xr-font-color0: rgba(255, 255, 255, 1);\n",
       "  --xr-font-color2: rgba(255, 255, 255, 0.54);\n",
       "  --xr-font-color3: rgba(255, 255, 255, 0.38);\n",
       "  --xr-border-color: #1F1F1F;\n",
       "  --xr-disabled-color: #515151;\n",
       "  --xr-background-color: #111111;\n",
       "  --xr-background-color-row-even: #111111;\n",
       "  --xr-background-color-row-odd: #313131;\n",
       "}\n",
       "\n",
       ".xr-wrap {\n",
       "  display: block !important;\n",
       "  min-width: 300px;\n",
       "  max-width: 700px;\n",
       "}\n",
       "\n",
       ".xr-text-repr-fallback {\n",
       "  /* fallback to plain text repr when CSS is not injected (untrusted notebook) */\n",
       "  display: none;\n",
       "}\n",
       "\n",
       ".xr-header {\n",
       "  padding-top: 6px;\n",
       "  padding-bottom: 6px;\n",
       "  margin-bottom: 4px;\n",
       "  border-bottom: solid 1px var(--xr-border-color);\n",
       "}\n",
       "\n",
       ".xr-header > div,\n",
       ".xr-header > ul {\n",
       "  display: inline;\n",
       "  margin-top: 0;\n",
       "  margin-bottom: 0;\n",
       "}\n",
       "\n",
       ".xr-obj-type,\n",
       ".xr-array-name {\n",
       "  margin-left: 2px;\n",
       "  margin-right: 10px;\n",
       "}\n",
       "\n",
       ".xr-obj-type {\n",
       "  color: var(--xr-font-color2);\n",
       "}\n",
       "\n",
       ".xr-sections {\n",
       "  padding-left: 0 !important;\n",
       "  display: grid;\n",
       "  grid-template-columns: 150px auto auto 1fr 20px 20px;\n",
       "}\n",
       "\n",
       ".xr-section-item {\n",
       "  display: contents;\n",
       "}\n",
       "\n",
       ".xr-section-item input {\n",
       "  display: none;\n",
       "}\n",
       "\n",
       ".xr-section-item input + label {\n",
       "  color: var(--xr-disabled-color);\n",
       "}\n",
       "\n",
       ".xr-section-item input:enabled + label {\n",
       "  cursor: pointer;\n",
       "  color: var(--xr-font-color2);\n",
       "}\n",
       "\n",
       ".xr-section-item input:enabled + label:hover {\n",
       "  color: var(--xr-font-color0);\n",
       "}\n",
       "\n",
       ".xr-section-summary {\n",
       "  grid-column: 1;\n",
       "  color: var(--xr-font-color2);\n",
       "  font-weight: 500;\n",
       "}\n",
       "\n",
       ".xr-section-summary > span {\n",
       "  display: inline-block;\n",
       "  padding-left: 0.5em;\n",
       "}\n",
       "\n",
       ".xr-section-summary-in:disabled + label {\n",
       "  color: var(--xr-font-color2);\n",
       "}\n",
       "\n",
       ".xr-section-summary-in + label:before {\n",
       "  display: inline-block;\n",
       "  content: '►';\n",
       "  font-size: 11px;\n",
       "  width: 15px;\n",
       "  text-align: center;\n",
       "}\n",
       "\n",
       ".xr-section-summary-in:disabled + label:before {\n",
       "  color: var(--xr-disabled-color);\n",
       "}\n",
       "\n",
       ".xr-section-summary-in:checked + label:before {\n",
       "  content: '▼';\n",
       "}\n",
       "\n",
       ".xr-section-summary-in:checked + label > span {\n",
       "  display: none;\n",
       "}\n",
       "\n",
       ".xr-section-summary,\n",
       ".xr-section-inline-details {\n",
       "  padding-top: 4px;\n",
       "  padding-bottom: 4px;\n",
       "}\n",
       "\n",
       ".xr-section-inline-details {\n",
       "  grid-column: 2 / -1;\n",
       "}\n",
       "\n",
       ".xr-section-details {\n",
       "  display: none;\n",
       "  grid-column: 1 / -1;\n",
       "  margin-bottom: 5px;\n",
       "}\n",
       "\n",
       ".xr-section-summary-in:checked ~ .xr-section-details {\n",
       "  display: contents;\n",
       "}\n",
       "\n",
       ".xr-array-wrap {\n",
       "  grid-column: 1 / -1;\n",
       "  display: grid;\n",
       "  grid-template-columns: 20px auto;\n",
       "}\n",
       "\n",
       ".xr-array-wrap > label {\n",
       "  grid-column: 1;\n",
       "  vertical-align: top;\n",
       "}\n",
       "\n",
       ".xr-preview {\n",
       "  color: var(--xr-font-color3);\n",
       "}\n",
       "\n",
       ".xr-array-preview,\n",
       ".xr-array-data {\n",
       "  padding: 0 5px !important;\n",
       "  grid-column: 2;\n",
       "}\n",
       "\n",
       ".xr-array-data,\n",
       ".xr-array-in:checked ~ .xr-array-preview {\n",
       "  display: none;\n",
       "}\n",
       "\n",
       ".xr-array-in:checked ~ .xr-array-data,\n",
       ".xr-array-preview {\n",
       "  display: inline-block;\n",
       "}\n",
       "\n",
       ".xr-dim-list {\n",
       "  display: inline-block !important;\n",
       "  list-style: none;\n",
       "  padding: 0 !important;\n",
       "  margin: 0;\n",
       "}\n",
       "\n",
       ".xr-dim-list li {\n",
       "  display: inline-block;\n",
       "  padding: 0;\n",
       "  margin: 0;\n",
       "}\n",
       "\n",
       ".xr-dim-list:before {\n",
       "  content: '(';\n",
       "}\n",
       "\n",
       ".xr-dim-list:after {\n",
       "  content: ')';\n",
       "}\n",
       "\n",
       ".xr-dim-list li:not(:last-child):after {\n",
       "  content: ',';\n",
       "  padding-right: 5px;\n",
       "}\n",
       "\n",
       ".xr-has-index {\n",
       "  font-weight: bold;\n",
       "}\n",
       "\n",
       ".xr-var-list,\n",
       ".xr-var-item {\n",
       "  display: contents;\n",
       "}\n",
       "\n",
       ".xr-var-item > div,\n",
       ".xr-var-item label,\n",
       ".xr-var-item > .xr-var-name span {\n",
       "  background-color: var(--xr-background-color-row-even);\n",
       "  margin-bottom: 0;\n",
       "}\n",
       "\n",
       ".xr-var-item > .xr-var-name:hover span {\n",
       "  padding-right: 5px;\n",
       "}\n",
       "\n",
       ".xr-var-list > li:nth-child(odd) > div,\n",
       ".xr-var-list > li:nth-child(odd) > label,\n",
       ".xr-var-list > li:nth-child(odd) > .xr-var-name span {\n",
       "  background-color: var(--xr-background-color-row-odd);\n",
       "}\n",
       "\n",
       ".xr-var-name {\n",
       "  grid-column: 1;\n",
       "}\n",
       "\n",
       ".xr-var-dims {\n",
       "  grid-column: 2;\n",
       "}\n",
       "\n",
       ".xr-var-dtype {\n",
       "  grid-column: 3;\n",
       "  text-align: right;\n",
       "  color: var(--xr-font-color2);\n",
       "}\n",
       "\n",
       ".xr-var-preview {\n",
       "  grid-column: 4;\n",
       "}\n",
       "\n",
       ".xr-var-name,\n",
       ".xr-var-dims,\n",
       ".xr-var-dtype,\n",
       ".xr-preview,\n",
       ".xr-attrs dt {\n",
       "  white-space: nowrap;\n",
       "  overflow: hidden;\n",
       "  text-overflow: ellipsis;\n",
       "  padding-right: 10px;\n",
       "}\n",
       "\n",
       ".xr-var-name:hover,\n",
       ".xr-var-dims:hover,\n",
       ".xr-var-dtype:hover,\n",
       ".xr-attrs dt:hover {\n",
       "  overflow: visible;\n",
       "  width: auto;\n",
       "  z-index: 1;\n",
       "}\n",
       "\n",
       ".xr-var-attrs,\n",
       ".xr-var-data {\n",
       "  display: none;\n",
       "  background-color: var(--xr-background-color) !important;\n",
       "  padding-bottom: 5px !important;\n",
       "}\n",
       "\n",
       ".xr-var-attrs-in:checked ~ .xr-var-attrs,\n",
       ".xr-var-data-in:checked ~ .xr-var-data {\n",
       "  display: block;\n",
       "}\n",
       "\n",
       ".xr-var-data > table {\n",
       "  float: right;\n",
       "}\n",
       "\n",
       ".xr-var-name span,\n",
       ".xr-var-data,\n",
       ".xr-attrs {\n",
       "  padding-left: 25px !important;\n",
       "}\n",
       "\n",
       ".xr-attrs,\n",
       ".xr-var-attrs,\n",
       ".xr-var-data {\n",
       "  grid-column: 1 / -1;\n",
       "}\n",
       "\n",
       "dl.xr-attrs {\n",
       "  padding: 0;\n",
       "  margin: 0;\n",
       "  display: grid;\n",
       "  grid-template-columns: 125px auto;\n",
       "}\n",
       "\n",
       ".xr-attrs dt,\n",
       ".xr-attrs dd {\n",
       "  padding: 0;\n",
       "  margin: 0;\n",
       "  float: left;\n",
       "  padding-right: 10px;\n",
       "  width: auto;\n",
       "}\n",
       "\n",
       ".xr-attrs dt {\n",
       "  font-weight: normal;\n",
       "  grid-column: 1;\n",
       "}\n",
       "\n",
       ".xr-attrs dt:hover span {\n",
       "  display: inline-block;\n",
       "  background: var(--xr-background-color);\n",
       "  padding-right: 10px;\n",
       "}\n",
       "\n",
       ".xr-attrs dd {\n",
       "  grid-column: 2;\n",
       "  white-space: pre-wrap;\n",
       "  word-break: break-all;\n",
       "}\n",
       "\n",
       ".xr-icon-database,\n",
       ".xr-icon-file-text2 {\n",
       "  display: inline-block;\n",
       "  vertical-align: middle;\n",
       "  width: 1em;\n",
       "  height: 1.5em !important;\n",
       "  stroke-width: 0;\n",
       "  stroke: currentColor;\n",
       "  fill: currentColor;\n",
       "}\n",
       "</style><pre class='xr-text-repr-fallback'>&lt;xarray.DataArray &#x27;time&#x27; (time: 20)&gt;\n",
       "array([2705., 2710., 2715., 2720., 2725., 2730., 2735., 2740., 2745., 2750.,\n",
       "       2755., 2760., 2765., 2770., 2775., 2780., 2785., 2790., 2795., 2800.])\n",
       "Coordinates:\n",
       "  * time     (time) float64 2.705e+03 2.71e+03 2.715e+03 ... 2.795e+03 2.8e+03\n",
       "Attributes:\n",
       "    long_name:       time\n",
       "    units:           days since 0001-01-01 00:00:00\n",
       "    cartesian_axis:  T\n",
       "    calendar_type:   THIRTY_DAY_MONTHS\n",
       "    calendar:        THIRTY_DAY_MONTHS</pre><div class='xr-wrap' style='display:none'><div class='xr-header'><div class='xr-obj-type'>xarray.DataArray</div><div class='xr-array-name'>'time'</div><ul class='xr-dim-list'><li><span class='xr-has-index'>time</span>: 20</li></ul></div><ul class='xr-sections'><li class='xr-section-item'><div class='xr-array-wrap'><input id='section-4fc8d25b-339e-4919-a512-5e56b15eef28' class='xr-array-in' type='checkbox' checked><label for='section-4fc8d25b-339e-4919-a512-5e56b15eef28' title='Show/hide data repr'><svg class='icon xr-icon-database'><use xlink:href='#icon-database'></use></svg></label><div class='xr-array-preview xr-preview'><span>2.705e+03 2.71e+03 2.715e+03 2.72e+03 ... 2.79e+03 2.795e+03 2.8e+03</span></div><div class='xr-array-data'><pre>array([2705., 2710., 2715., 2720., 2725., 2730., 2735., 2740., 2745., 2750.,\n",
       "       2755., 2760., 2765., 2770., 2775., 2780., 2785., 2790., 2795., 2800.])</pre></div></div></li><li class='xr-section-item'><input id='section-e1bc63bf-cf04-4914-8aa5-036d2674af15' class='xr-section-summary-in' type='checkbox'  checked><label for='section-e1bc63bf-cf04-4914-8aa5-036d2674af15' class='xr-section-summary' >Coordinates: <span>(1)</span></label><div class='xr-section-inline-details'></div><div class='xr-section-details'><ul class='xr-var-list'><li class='xr-var-item'><div class='xr-var-name'><span class='xr-has-index'>time</span></div><div class='xr-var-dims'>(time)</div><div class='xr-var-dtype'>float64</div><div class='xr-var-preview xr-preview'>2.705e+03 2.71e+03 ... 2.8e+03</div><input id='attrs-99d228f5-4992-4a57-a599-2f0577fdf2c9' class='xr-var-attrs-in' type='checkbox' ><label for='attrs-99d228f5-4992-4a57-a599-2f0577fdf2c9' title='Show/Hide attributes'><svg class='icon xr-icon-file-text2'><use xlink:href='#icon-file-text2'></use></svg></label><input id='data-bd84fb09-9437-4305-918a-4707282179f3' class='xr-var-data-in' type='checkbox'><label for='data-bd84fb09-9437-4305-918a-4707282179f3' title='Show/Hide data repr'><svg class='icon xr-icon-database'><use xlink:href='#icon-database'></use></svg></label><div class='xr-var-attrs'><dl class='xr-attrs'><dt><span>long_name :</span></dt><dd>time</dd><dt><span>units :</span></dt><dd>days since 0001-01-01 00:00:00</dd><dt><span>cartesian_axis :</span></dt><dd>T</dd><dt><span>calendar_type :</span></dt><dd>THIRTY_DAY_MONTHS</dd><dt><span>calendar :</span></dt><dd>THIRTY_DAY_MONTHS</dd></dl></div><div class='xr-var-data'><pre>array([2705., 2710., 2715., 2720., 2725., 2730., 2735., 2740., 2745., 2750.,\n",
       "       2755., 2760., 2765., 2770., 2775., 2780., 2785., 2790., 2795., 2800.])</pre></div></li></ul></div></li><li class='xr-section-item'><input id='section-e7e9855f-dd76-42c8-b363-b83beced6827' class='xr-section-summary-in' type='checkbox'  checked><label for='section-e7e9855f-dd76-42c8-b363-b83beced6827' class='xr-section-summary' >Attributes: <span>(5)</span></label><div class='xr-section-inline-details'></div><div class='xr-section-details'><dl class='xr-attrs'><dt><span>long_name :</span></dt><dd>time</dd><dt><span>units :</span></dt><dd>days since 0001-01-01 00:00:00</dd><dt><span>cartesian_axis :</span></dt><dd>T</dd><dt><span>calendar_type :</span></dt><dd>THIRTY_DAY_MONTHS</dd><dt><span>calendar :</span></dt><dd>THIRTY_DAY_MONTHS</dd></dl></div></li></ul></div></div>"
      ],
      "text/plain": [
       "<xarray.DataArray 'time' (time: 20)>\n",
       "array([2705., 2710., 2715., 2720., 2725., 2730., 2735., 2740., 2745., 2750.,\n",
       "       2755., 2760., 2765., 2770., 2775., 2780., 2785., 2790., 2795., 2800.])\n",
       "Coordinates:\n",
       "  * time     (time) float64 2.705e+03 2.71e+03 2.715e+03 ... 2.795e+03 2.8e+03\n",
       "Attributes:\n",
       "    long_name:       time\n",
       "    units:           days since 0001-01-01 00:00:00\n",
       "    cartesian_axis:  T\n",
       "    calendar_type:   THIRTY_DAY_MONTHS\n",
       "    calendar:        THIRTY_DAY_MONTHS"
      ]
     },
     "execution_count": 67,
     "metadata": {},
     "output_type": "execute_result"
    }
   ],
   "source": [
    "sn_previous.time"
   ]
  },
  {
   "cell_type": "markdown",
   "metadata": {},
   "source": [
    "## Prepare NW2 grid information"
   ]
  },
  {
   "cell_type": "code",
   "execution_count": 68,
   "metadata": {},
   "outputs": [
    {
     "data": {
      "text/plain": [
       "<xgcm.Grid>\n",
       "X Axis (periodic, boundary=None):\n",
       "  * center   xh --> outer\n",
       "  * outer    xq --> center\n",
       "Y Axis (not periodic, boundary=None):\n",
       "  * center   yh --> outer\n",
       "  * outer    yq --> center\n",
       "Z Axis (not periodic, boundary=None):\n",
       "  * center   zl --> outer\n",
       "  * outer    zi --> center"
      ]
     },
     "execution_count": 68,
     "metadata": {},
     "output_type": "execute_result"
    }
   ],
   "source": [
    "from xgcm import Grid\n",
    "\n",
    "Nx = np.size(st.xh)\n",
    "Ny = np.size(st.yh)\n",
    "\n",
    "# symmetric\n",
    "coords = {\n",
    "    'X': {'center': 'xh', 'outer': 'xq'},\n",
    "    'Y': {'center': 'yh', 'outer': 'yq'},\n",
    "    'Z': {'center': 'zl', 'outer': 'zi'} \n",
    "}\n",
    "metrics = {\n",
    "    ('X',):['dxCu','dxCv','dxT','dxBu'],\n",
    "    ('Y',):['dyCu','dyCv','dyT','dyBu'],\n",
    "    ('X', 'Y'): ['area_t', 'area_u', 'area_v']\n",
    "}\n",
    "st['zl'] = av['zl']\n",
    "st['zi'] = av['zi']\n",
    "\n",
    "grid = Grid(st, coords=coords, periodic=['X'])\n",
    "\n",
    "st['dxT'] = grid.interp(st.dxCu,'X')\n",
    "st['dyT'] = grid.interp(st.dyCv,'Y', boundary='fill')\n",
    "st['dxBu'] = grid.interp(st.dxCv,'X')\n",
    "st['dyBu'] = grid.interp(st.dyCu,'Y',boundary='fill')\n",
    "\n",
    "grid = Grid(st, coords=coords, periodic=['X'], metrics=metrics)\n",
    "grid"
   ]
  },
  {
   "cell_type": "markdown",
   "metadata": {},
   "source": [
    "## Compute missing / additional diagnostics"
   ]
  },
  {
   "cell_type": "markdown",
   "metadata": {},
   "source": [
    "### Compute thickness-weighted KE: $hKE = \\frac{1}{2} h |\\mathbf{u}|^2$\n",
    "\n",
    "$hKE_n = h_n KE_n$, where $KE_n =\\frac{1}{2}|\\mathbf{u}_n|^2 $ is the kinetic energy density output by the model."
   ]
  },
  {
   "cell_type": "code",
   "execution_count": 69,
   "metadata": {},
   "outputs": [],
   "source": [
    "av['hKE'] = av['h'] * av['KE']\n",
    "av['hKE'].attrs = {'units' : 'm3 s-2', 'long_name': 'thickness-weighted kinetic energy'}\n",
    "\n",
    "sn['hKE'] = sn['h'] * sn['KE']\n",
    "sn['hKE'].attrs = {'units' : 'm3 s-2', 'long_name': 'thickness-weighted kinetic energy'}"
   ]
  },
  {
   "cell_type": "markdown",
   "metadata": {},
   "source": [
    "### Compute thickness tendencies\n",
    "from continuity equation:\n",
    "$$\n",
    "\\underbrace{\\partial_t h}_\\text{dhdt} = - \\nabla\\cdot(h\\mathbf{u})\n",
    "$$"
   ]
  },
  {
   "cell_type": "code",
   "execution_count": 70,
   "metadata": {},
   "outputs": [],
   "source": [
    "uflux = grid.diff(av['uh'].fillna(value=0),'X')\n",
    "vflux = grid.diff(av['vh'].fillna(value=0),'Y', boundary='fill')\n",
    "dhdt = - (uflux + vflux) / st.area_t  # finite volume discretization\n",
    "    \n",
    "av['dhdt'] = dhdt.where(st.wet)\n",
    "av['dhdt'].attrs = {'units' : 'm/s', 'long_name': 'Layer thickness tendency, computed from flux divergence'}\n",
    "av['dhdt'] = av['dhdt'].chunk({'xh': Nx, 'yh': Ny})"
   ]
  },
  {
   "cell_type": "markdown",
   "metadata": {},
   "source": [
    "### Compute $\\eta^2$\n",
    "\n",
    "$\n",
    "    \\eta_k = -D + \\sum_{i=k+1}^N h_i\n",
    "$\n",
    "is diagnostic, saved as `e`."
   ]
  },
  {
   "cell_type": "code",
   "execution_count": 71,
   "metadata": {},
   "outputs": [],
   "source": [
    "av['e2'] = av['e']**2\n",
    "av['e2'].attrs = {'units' : 'm2', 'long_name': 'Interface height squared'}"
   ]
  },
  {
   "cell_type": "code",
   "execution_count": 72,
   "metadata": {},
   "outputs": [],
   "source": [
    "sn['e2'] = sn['e']**2\n",
    "sn['e2'].attrs = {'units' : 'm2', 'long_name': 'Interface height squared'}\n",
    "\n",
    "sn_previous['e2'] = sn_previous['e']**2\n",
    "sn_previous['e2'].attrs = {'units' : 'm2', 'long_name': 'Interface height squared'}"
   ]
  },
  {
   "cell_type": "markdown",
   "metadata": {},
   "source": [
    "### Compute $\\partial_t(uh), \\partial_t(vh), \\partial_t\\eta, \\partial_t(\\eta^2)$ from snapshots\n",
    "\n",
    "$$\n",
    "    \\frac{d}{dt} uh = \\text{time-average}\\left(\\partial_t (uh) \\right) = \\frac{1}{\\tau_1-\\tau_0} \\int_{\\tau_0}^{\\tau_1} \\partial_t (uh) dt = \\frac{uh(\\tau_1) - uh(\\tau_0)}{\\tau_1-\\tau_0}.\n",
    "$$\n",
    "and similarly for the other partial derivatives"
   ]
  },
  {
   "cell_type": "code",
   "execution_count": 73,
   "metadata": {},
   "outputs": [],
   "source": [
    "if np.all(av.average_DT == av.average_DT[0]):\n",
    "    deltat = av.average_DT[0] * 24 * 60 * 60\n",
    "else: \n",
    "    raise AssertionError('averaging intervals vary')"
   ]
  },
  {
   "cell_type": "code",
   "execution_count": 74,
   "metadata": {},
   "outputs": [],
   "source": [
    "if np.array_equal(av.time_bnds[:,1], sn.time) :\n",
    "    duhdt = sn['uh'] - sn['uh'].shift(time=1)\n",
    "    duhdt = duhdt / deltat\n",
    "    duhdt['time'] = av['uh'].time\n",
    "    \n",
    "    dvhdt = sn['vh'] - sn['vh'].shift(time=1)\n",
    "    dvhdt = dvhdt / deltat\n",
    "    dvhdt['time'] = av['vh'].time\n",
    "else: \n",
    "    raise AssertionError('av and sn datasets not compatitble')\n",
    "\n",
    "if previous and sn_previous.time[-1].values == av.time_bnds[0,0].values:\n",
    "    data = sn['uh'].isel(time=0) - sn_previous['uh'].isel(time=-1)\n",
    "    data = data / deltat\n",
    "    duhdt = xr.where(av.time==av.time[0], data, duhdt)  \n",
    "    \n",
    "    data = sn['vh'].isel(time=0) - sn_previous['vh'].isel(time=-1)\n",
    "    data = data / deltat\n",
    "    dvhdt = xr.where(av.time==av.time[0], data, dvhdt)  \n",
    "else:\n",
    "    previous = False\n",
    "    \n",
    "av['duhdt'] = duhdt\n",
    "av['duhdt'].attrs = {'units' : 'm3 s-2', 'long_name': 'Zonal thickness flux tendency'}\n",
    "\n",
    "av['dvhdt'] = dvhdt\n",
    "av['dvhdt'].attrs = {'units' : 'm3 s-2', 'long_name': 'Meridional thickness flux tendency'}"
   ]
  },
  {
   "cell_type": "code",
   "execution_count": 75,
   "metadata": {},
   "outputs": [],
   "source": [
    "if np.array_equal(av.time_bnds[:,1], sn.time) :\n",
    "    dedt = sn['e'] - sn['e'].shift(time=1)\n",
    "    dedt = dedt / deltat\n",
    "    dedt['time'] = av['e'].time\n",
    "\n",
    "    de2dt = sn['e2'] - sn['e2'].shift(time=1)\n",
    "    de2dt = de2dt / deltat\n",
    "    de2dt['time'] = av['e2'].time\n",
    "else: \n",
    "    raise AssertionError('av and sn datasets not compatible')\n",
    "\n",
    "if previous and sn_previous.time[-1].values == av.time_bnds[0,0].values:\n",
    "    data = sn['e'].isel(time=0) - sn_previous['e'].isel(time=-1)\n",
    "    data = data / deltat\n",
    "    dedt = xr.where(av.time==av.time[0], data, dedt)  \n",
    "    \n",
    "    data = sn['e2'].isel(time=0) - sn_previous['e2'].isel(time=-1)\n",
    "    data = data / deltat\n",
    "    de2dt = xr.where(av.time==av.time[0], data, de2dt)  \n",
    "else:\n",
    "    previous = False\n",
    "    \n",
    "av['de_dt'] = dedt\n",
    "av['de_dt'].attrs['long_name'] = 'Tendency of interface height'\n",
    "\n",
    "av['de_dt'].attrs = {'units' : 'm s-1', 'long_name': 'Tendency of interface height'}\n",
    "\n",
    "av['de2_dt'] = de2dt\n",
    "av['de2_dt'].attrs = {'units' : 'm2 s-1', 'long_name': 'Tendency of squared interface height'}"
   ]
  },
  {
   "cell_type": "markdown",
   "metadata": {},
   "source": [
    "### Compute $ u\\partial_t h = \\partial_t(uh) - h\\partial_tu$ and  $v\\partial_t h = \\partial_t(vh) - h\\partial_tv$"
   ]
  },
  {
   "cell_type": "code",
   "execution_count": 76,
   "metadata": {},
   "outputs": [],
   "source": [
    "av['u_dhdt'] = av['duhdt'] / st['dyCu'] - av['h_du_dt']\n",
    "av['u_dhdt'].attrs = {'units' : 'm2 s-2', 'long_name': 'Zonal velocity times thickness tendency'}\n",
    "\n",
    "av['v_dhdt'] = av['dvhdt'] / st['dxCv'] - av['h_dv_dt']\n",
    "av['v_dhdt'].attrs = {'units' : 'm2 s-2', 'long_name': 'Meridional velocity times thickness tendency'}"
   ]
  },
  {
   "cell_type": "markdown",
   "metadata": {},
   "source": [
    "### Compute reduced gravity\n",
    "$$\n",
    "    g_k' = g (\\rho_{k+1} - \\rho_k) / \\rho_o\n",
    "$$"
   ]
  },
  {
   "cell_type": "code",
   "execution_count": 77,
   "metadata": {},
   "outputs": [
    {
     "name": "stdout",
     "output_type": "stream",
     "text": [
      "$\\prime{g}_0 = 10.226$\n"
     ]
    },
    {
     "data": {
      "text/plain": [
       "[<matplotlib.lines.Line2D at 0x2aed10b7f1f0>]"
      ]
     },
     "execution_count": 77,
     "metadata": {},
     "output_type": "execute_result"
    },
    {
     "data": {
      "image/png": "[encoded data removed]",
      "text/plain": [
       "<Figure size 432x288 with 1 Axes>"
      ]
     },
     "metadata": {
      "needs_background": "light"
     },
     "output_type": "display_data"
    }
   ],
   "source": [
    "rho_ref = 1000  # reference density in NeverWorld2\n",
    "gprime = 10 * grid.diff(av.zl,'Z',boundary='fill') / rho_ref\n",
    "gprime[15] = np.nan\n",
    "print('$\\prime{g}_0 = %g$' % (gprime[0]))\n",
    "gprime.isel(zi=slice(1,15)).plot()"
   ]
  },
  {
   "cell_type": "markdown",
   "metadata": {},
   "source": [
    "### Compute Montgomery potential\n",
    "$$\n",
    "    M_n = \\sum_{k=0}^{n-1} g_k' \\eta_k\n",
    "$$"
   ]
  },
  {
   "cell_type": "code",
   "execution_count": 78,
   "metadata": {},
   "outputs": [],
   "source": [
    "MP = grid.cumsum(gprime * av['e'],'Z')  # Montgomery potential\n",
    "av['MP'] = MP.transpose('time', 'zl', 'yh', 'xh')  # reorder coordinates\n",
    "av['MP'].attrs = {'units' : 'm2 s-2', 'long_name': 'Montgomery potential'}"
   ]
  },
  {
   "cell_type": "markdown",
   "metadata": {},
   "source": [
    "### Compute pressure flux divergence `uhM_div` = $\\nabla\\cdot(u_nh_nM_n)$"
   ]
  },
  {
   "cell_type": "code",
   "execution_count": 38,
   "metadata": {},
   "outputs": [],
   "source": [
    "# pressure flux\n",
    "uhM = av['uh'] / st['dyCu'] * grid.interp(av['MP'].fillna(value=0), 'X', metric_weighted=['X','Y'])\n",
    "uhM = uhM.chunk({'xq':Nx+1})\n",
    "\n",
    "vhM = av['vh'] / st['dxCv'] * grid.interp(av['MP'].fillna(value=0),'Y', boundary='fill', metric_weighted=['X','Y'])\n",
    "vhM = vhM.chunk({'yq':Ny+1})\n",
    "\n",
    "# pressure flux divergence\n",
    "uflux = grid.diff((uhM * st['dyCu']).fillna(value=0), 'X')\n",
    "vflux = grid.diff((vhM * st['dxCv']).fillna(value=0), 'Y', boundary='fill')\n",
    "\n",
    "av['uhM_div'] = (uflux + vflux).where(st.wet) / st.area_t\n",
    "av['uhM_div'].attrs = {'units' : ' m3 s-3', 'long_name': 'Pressure flux divergence'}"
   ]
  },
  {
   "cell_type": "markdown",
   "metadata": {},
   "source": [
    "### Add up barotropic and baroclinic pressure term contributions"
   ]
  },
  {
   "cell_type": "markdown",
   "metadata": {},
   "source": [
    "$$\n",
    "\\underbrace{- \\sum_{i=1}^{k} g_{i-1/2}^\\prime \\nabla \\eta_{i-1/2}}_\\text{PFu+ u_BT_accel}\n",
    "$$"
   ]
  },
  {
   "cell_type": "code",
   "execution_count": 39,
   "metadata": {},
   "outputs": [],
   "source": [
    "av['PFu+u_BT_accel'] = av['PFu'] + av['u_BT_accel']\n",
    "av['PFu+u_BT_accel'].attrs = {'units' : 'm s-2', 'long_name': 'Zonal Pressure Force Acceleration (incl. barotropic anomaly)'}\n",
    "\n",
    "av['PFu+u_BT_accel_visc_rem'] = av['PFu_visc_rem'] + av['u_BT_accel_visc_rem']\n",
    "av['PFu+u_BT_accel_visc_rem'].attrs = {'units' : 'm s-2', 'long_name': 'Viscous remnant fraction of zonal Pressure Force Acceleration (incl. barotropic anomaly)'}\n",
    "\n",
    "av['PFv+v_BT_accel'] = av['PFv'] + av['v_BT_accel']\n",
    "av['PFv+v_BT_accel'].attrs = {'units' : 'm s-2', 'long_name': 'Meridional Pressure Force Acceleration (incl. barotropic anomaly)'}\n",
    "\n",
    "av['PFv+v_BT_accel_visc_rem'] = av['PFv_visc_rem'] + av['v_BT_accel_visc_rem']\n",
    "av['PFv+v_BT_accel_visc_rem'].attrs = {'units' : 'm s-2', 'long_name': 'Viscous remnant fraction of meridional Pressure Force Acceleration (incl. barotropic anomaly)'}\n",
    "\n",
    "av['PE_to_KE+KE_BT'] = av['PE_to_KE'] + av['KE_BT']\n",
    "av['PE_to_KE+KE_BT'].attrs = {'units' : 'm3 s-3', 'long_name': 'Potential to Kinetic Energy Conversion of Layer (incl. barotropic)'}\n",
    "\n",
    "av['h_PFu+u_BT_accel'] = av['h_PFu'] + av['h_u_BT_accel']\n",
    "av['h_PFu+u_BT_accel'].attrs = {'units' : 'm2 s-2', 'long_name': 'Thickness Multiplied Zonal Pressure Force Acceleration (incl. barotropic anomaly)'}\n",
    "\n",
    "av['h_PFv+v_BT_accel'] = av['h_PFv'] + av['h_v_BT_accel']\n",
    "av['h_PFv+v_BT_accel'].attrs = {'units' : 'm2 s-2', 'long_name': 'Thickness Multiplied Meridional Pressure Force Acceleration (incl. barotropic anomaly)'}"
   ]
  },
  {
   "cell_type": "markdown",
   "metadata": {},
   "source": [
    "### Close visc-rem multiplied velocity budget (in exact manner)\n",
    "Original momentum budget (zonal direction):\n",
    "\\begin{align}\n",
    "    \\underbrace{\\frac{\\partial \\mathbf{u}_k}{\\partial t}}_\\text{dudt} + \\underbrace{\\left(\\frac{{f} + {\\zeta}_k}{h_k} \\right) \\hat{\\mathbf{k}} \\times \\left( \\mathbf{u}_k h_k \\right) + \\nabla K_k}_\\text{- CAu} = \\underbrace{- \\sum_{i=1}^{k} g_{i-1/2}^\\prime \\nabla \\eta_{i-1/2}}_\\text{PFu+ u_BT_accel} + \\underbrace{F_{hor}}_\\text{diffu} + \\underbrace{F_{vert}}_\\text{du_dt_visc}\n",
    "    \\; \n",
    "    \\label{eqn:u} \\;,\n",
    "\\end{align}\n",
    "\n",
    "The visc-rem multiplied velocity budget (in zonal direction) is given by\n",
    "\n",
    "    dudt = CAu_visc_rem + PFv_visc_rem + u_BT_accel_visc_rem + diffu_visc_rem + du_dt_visc_rem  (*),\n",
    "    \n",
    "see https://github.com/ocean-eddy-cpt/MOM6/pull/10. The modified momentum budget (*)\n",
    "1. filters out the balance between PFu and du_dt_visc in vanished layers,\n",
    "2. leaves the momentum budget as is in non-vanished layers.\n",
    "\n",
    "The first aspect is desirable when spatially filtering the terms on the right hand side of (*). In the unmodified budget, the filter will spread high PFu / du_dt_visc values from vanished layers into the interior ocean, which would contaminate the budgets. The problem is solved when the PFu / du_dt_visc balance is masked out in vanished layers from the get-go. Note that this problem mainly arises for non-TWA diagnostics, i.e., we don't have to massage h_PFu / h_du_dt_visc (since multiplication of h already takes care of masking in vanished layers).\n",
    "\n",
    "The first 4 terms on the right hand side of (*) are diagnostics of the model output, and the 5th term can be inferred by\n",
    "\n",
    "    du_dt_visc_rem = dudt - CAu_visc_rem - PFv_visc_rem - u_BT_accel_visc_rem - diffu_visc_rem,\n",
    "    \n",
    "as done in the next cell."
   ]
  },
  {
   "cell_type": "code",
   "execution_count": 40,
   "metadata": {},
   "outputs": [],
   "source": [
    "av['du_dt_visc_rem'] = av['dudt'] - av['CAu_visc_rem'] - av['PFu_visc_rem'] - av['u_BT_accel_visc_rem'] - av['diffu_visc_rem']\n",
    "av['dv_dt_visc_rem'] = av['dvdt'] - av['CAv_visc_rem'] - av['PFv_visc_rem'] - av['v_BT_accel_visc_rem'] - av['diffv_visc_rem']\n",
    "av['du_dt_visc_rem'].attrs = {'units' : 'm s-2', 'long_name': 'Viscous remnant fraction of zonal acceleration from vertical viscosity'}\n",
    "av['dv_dt_visc_rem'].attrs = {'units' : 'm s-2', 'long_name': 'Viscous remnant fraction of zonal acceleration from vertical viscosity'}"
   ]
  },
  {
   "cell_type": "markdown",
   "metadata": {},
   "source": [
    "# Filtering"
   ]
  },
  {
   "cell_type": "code",
   "execution_count": 7,
   "metadata": {},
   "outputs": [],
   "source": [
    "import gcm_filters"
   ]
  },
  {
   "cell_type": "code",
   "execution_count": 8,
   "metadata": {},
   "outputs": [
    {
     "name": "stderr",
     "output_type": "stream",
     "text": [
      "distributed.diskutils - INFO - Found stale lock file and directory '/glade/u/home/noraloose/energy_cycles/dask-worker-space/worker-4rvsxx0r', purging\n",
      "distributed.preloading - INFO - Import preload module: dask_cuda.initialize\n"
     ]
    }
   ],
   "source": [
    "if gpu:\n",
    "    import cupy as cp\n",
    "    from dask_cuda import LocalCUDACluster\n",
    "    from dask.distributed import Client\n",
    "\n",
    "    cluster = LocalCUDACluster()\n",
    "    client = Client(cluster)"
   ]
  },
  {
   "cell_type": "markdown",
   "metadata": {},
   "source": [
    "### Transform symmetric data to non-symmetric data"
   ]
  },
  {
   "cell_type": "code",
   "execution_count": 9,
   "metadata": {},
   "outputs": [],
   "source": [
    "av_orig = av.copy()\n",
    "sn_orig = sn.copy()"
   ]
  },
  {
   "cell_type": "code",
   "execution_count": 10,
   "metadata": {},
   "outputs": [],
   "source": [
    "av = av.astype(np.float64)  # to avoid numerical instability\n",
    "sn = sn.astype(np.float64)  # to avoid numerical instability"
   ]
  },
  {
   "cell_type": "code",
   "execution_count": 11,
   "metadata": {},
   "outputs": [],
   "source": [
    "av = av.isel(xq = slice(1,None), yq=slice(1,None))\n",
    "sn = sn.isel(xq = slice(1,None), yq=slice(1,None))"
   ]
  },
  {
   "cell_type": "markdown",
   "metadata": {},
   "source": [
    "### New datasets for filtered fields"
   ]
  },
  {
   "cell_type": "code",
   "execution_count": 12,
   "metadata": {},
   "outputs": [],
   "source": [
    "# new xarray datasets for filtered fields\n",
    "av_f_tmp = xr.Dataset() \n",
    "av_f = xr.Dataset()\n",
    "sn_f_tmp = xr.Dataset() \n",
    "sn_f = xr.Dataset()\n",
    "\n",
    "for dim in av.dims:\n",
    "    av_f_tmp[dim] = av[dim]  # temporary dataset with non-symmetric dimensions\n",
    "for dim in sn.dims:\n",
    "    sn_f_tmp[dim] = sn[dim]  # temporary dataset with non-symmetric dimensions    \n",
    "for dim in av_orig.dims:\n",
    "    av_f[dim] = av_orig[dim]  # dataset with symmetric dimensions\n",
    "for dim in sn_orig.dims:\n",
    "    sn_f[dim] = sn_orig[dim]  # dataset with symmetric dimensions  \n",
    "av_f['average_DT'] = av_orig['average_DT']\n",
    "av_f['time_bnds'] = av_orig['time_bnds']"
   ]
  },
  {
   "cell_type": "markdown",
   "metadata": {},
   "source": [
    "### Use Gaussian filter shape and simple fixed factor (see Grooms et al., 2021)"
   ]
  },
  {
   "cell_type": "code",
   "execution_count": 13,
   "metadata": {},
   "outputs": [
    {
     "data": {
      "text/plain": [
       "['area', 'wet_mask']"
      ]
     },
     "execution_count": 13,
     "metadata": {},
     "output_type": "execute_result"
    }
   ],
   "source": [
    "filter_shape = gcm_filters.FilterShape.GAUSSIAN\n",
    "gcm_filters.required_grid_vars(gcm_filters.GridType.REGULAR_WITH_LAND_AREA_WEIGHTED)"
   ]
  },
  {
   "cell_type": "markdown",
   "metadata": {},
   "source": [
    "For large filter factors, use `n_iterations > 1`, see https://gcm-filters.readthedocs.io/en/latest/factored_gaussian.html"
   ]
  },
  {
   "cell_type": "code",
   "execution_count": 54,
   "metadata": {},
   "outputs": [],
   "source": [
    "if filter_fac == 128:\n",
    "    n_iterations = 12\n",
    "elif filter_fac == 64:\n",
    "    n_iterations = 3\n",
    "else:\n",
    "    n_iterations = 1"
   ]
  },
  {
   "cell_type": "markdown",
   "metadata": {},
   "source": [
    "## T-fields"
   ]
  },
  {
   "cell_type": "code",
   "execution_count": 55,
   "metadata": {},
   "outputs": [],
   "source": [
    "wet_mask = st.wet\n",
    "area = st.area_t\n",
    "if gpu:\n",
    "    wet_mask = wet_mask.chunk({'yh': Ny,'xh': Nx}) # 1 chunk\n",
    "    wet_mask.data = wet_mask.data.map_blocks(cp.asarray)\n",
    "    \n",
    "    area = area.chunk({'yh': Ny,'xh': Nx}) # 1 chunk\n",
    "    area.data = area.data.map_blocks(cp.asarray)"
   ]
  },
  {
   "cell_type": "code",
   "execution_count": 56,
   "metadata": {},
   "outputs": [
    {
     "data": {
      "text/plain": [
       "Filter(filter_scale=36.950417228136054, dx_min=1, filter_shape=<FilterShape.GAUSSIAN: 1>, transition_width=3.141592653589793, ndim=2, n_steps=41, n_iterations=12, grid_type=<GridType.REGULAR_WITH_LAND_AREA_WEIGHTED: 4>)"
      ]
     },
     "execution_count": 56,
     "metadata": {},
     "output_type": "execute_result"
    }
   ],
   "source": [
    "filter_t = gcm_filters.Filter(\n",
    "        filter_scale=filter_fac,\n",
    "        dx_min=1,\n",
    "        n_iterations=n_iterations,\n",
    "        filter_shape=filter_shape,\n",
    "        grid_type=gcm_filters.GridType.REGULAR_WITH_LAND_AREA_WEIGHTED,\n",
    "        grid_vars={'area': area, 'wet_mask': wet_mask}\n",
    "    )\n",
    "filter_t"
   ]
  },
  {
   "cell_type": "code",
   "execution_count": 24,
   "metadata": {},
   "outputs": [
    {
     "data": {
      "image/png": "[encoded data removed]",
      "text/plain": [
       "<Figure size 432x288 with 1 Axes>"
      ]
     },
     "metadata": {
      "needs_background": "light"
     },
     "output_type": "display_data"
    }
   ],
   "source": [
    "filter_t.plot_shape()"
   ]
  },
  {
   "cell_type": "markdown",
   "metadata": {},
   "source": [
    "#### Filter averages"
   ]
  },
  {
   "cell_type": "code",
   "execution_count": 52,
   "metadata": {},
   "outputs": [],
   "source": [
    "namelist = ['h', 'dhdt', 'e', 'e2', 'de_dt', 'de2_dt', 'hKE', 'uhM_div', 'bottom_mask', \n",
    "            'KE_adv', 'PE_to_KE+KE_BT', 'KE_visc', 'KE_stress', 'KE_horvisc']  # needed for both energy cycles"
   ]
  },
  {
   "cell_type": "code",
   "execution_count": 53,
   "metadata": {},
   "outputs": [],
   "source": [
    "for name in namelist:\n",
    "    field = av[name]\n",
    "    if gpu:\n",
    "        field.data = field.data.map_blocks(cp.asarray)        \n",
    "    field_filtered = filter_t.apply(field, dims=['yh', 'xh'])\n",
    "\n",
    "    if gpu:\n",
    "        field_filtered.data = field_filtered.data.map_blocks(cp.asnumpy)\n",
    "\n",
    "    av_f[name] = field_filtered.where(st.wet)           \n",
    "\n",
    "    av_f[name].attrs = av[name].attrs\n",
    "    av_f[name].attrs['long_name'] = 'Filtered ' + av[name].attrs['long_name']"
   ]
  },
  {
   "cell_type": "markdown",
   "metadata": {},
   "source": [
    "#### Finalize filtered bottom mask\n",
    "\n",
    "The **filtered bottom mask** will be useful to decompose the MKE vertical stresses into MKE bottom drag vs. MKE vertical viscosity contributions (in `compute_2d_Lorenz_cycle.ipynb` and `compute_2d_Bleck_cycle.ipynb`).\n",
    "\n",
    "The original bottom mask (`av.bottom_mask`) had binary values: 0 and 1. The filtered bottom mask that is generated by the cell above has values in [0, 1]. To obtain a binary filtered mask, we set values greater than `threshold` to 1, where `threshold` is a value between 0 and 1. Below, we choose `threshold=0`. The resulting (modified) filtered bottom mask can be viewed as a conservative (or upper bound for an) estimate of which layers are contained in the bottom boundary layer. We have experimented with changing `threshold` to values larger than 0, and the results of the paper (MKE bottom drag contribution vs. MKE vertical viscosity contribution) are not very sensitive to this choice."
   ]
  },
  {
   "cell_type": "code",
   "execution_count": 54,
   "metadata": {},
   "outputs": [],
   "source": [
    "threshold = 0\n",
    "av_f['bottom_mask'] = xr.where(av_f['bottom_mask'] > threshold, 1, 0)   "
   ]
  },
  {
   "cell_type": "markdown",
   "metadata": {},
   "source": [
    "#### Filter snapshots"
   ]
  },
  {
   "cell_type": "code",
   "execution_count": 41,
   "metadata": {},
   "outputs": [],
   "source": [
    "namelist = ['h','hKE']  # needed for both energy cycles"
   ]
  },
  {
   "cell_type": "code",
   "execution_count": 42,
   "metadata": {},
   "outputs": [],
   "source": [
    "for name in namelist:\n",
    "    field = sn[name]\n",
    "    if gpu:\n",
    "        field.data = field.data.map_blocks(cp.asarray)        \n",
    "    field_filtered = filter_t.apply(field, dims=['yh', 'xh'])\n",
    "\n",
    "    if gpu:\n",
    "        field_filtered.data = field_filtered.data.map_blocks(cp.asnumpy)\n",
    "\n",
    "    sn_f[name] = field_filtered.where(st.wet)           \n",
    "\n",
    "    sn_f[name].attrs = sn[name].attrs\n",
    "    sn_f[name].attrs['long_name'] = 'Filtered ' + sn[name].attrs['long_name']"
   ]
  },
  {
   "cell_type": "markdown",
   "metadata": {},
   "source": [
    "## U-fields"
   ]
  },
  {
   "cell_type": "code",
   "execution_count": 43,
   "metadata": {},
   "outputs": [],
   "source": [
    "wet_mask = st.wet_u.isel(xq=slice(1,None))\n",
    "area = st.area_u.isel(xq=slice(1,None))\n",
    "if gpu:\n",
    "    wet_mask = wet_mask.chunk({'yh': Ny,'xq': Nx}) # 1 chunk\n",
    "    wet_mask.data = wet_mask.data.map_blocks(cp.asarray)\n",
    "\n",
    "    area = area.chunk({'yh': Ny,'xq': Nx}) # 1 chunk\n",
    "    area.data = area.data.map_blocks(cp.asarray)"
   ]
  },
  {
   "cell_type": "code",
   "execution_count": 44,
   "metadata": {},
   "outputs": [
    {
     "data": {
      "text/plain": [
       "Filter(filter_scale=32.0, dx_min=1, filter_shape=<FilterShape.GAUSSIAN: 1>, transition_width=3.141592653589793, ndim=2, n_steps=36, n_iterations=1, grid_type=<GridType.REGULAR_WITH_LAND_AREA_WEIGHTED: 4>)"
      ]
     },
     "execution_count": 44,
     "metadata": {},
     "output_type": "execute_result"
    }
   ],
   "source": [
    "filter_u = gcm_filters.Filter(\n",
    "        filter_scale=filter_fac,\n",
    "        dx_min=1,\n",
    "        n_iterations=n_iterations,\n",
    "        filter_shape=filter_shape,\n",
    "        grid_type=gcm_filters.GridType.REGULAR_WITH_LAND_AREA_WEIGHTED,\n",
    "        grid_vars={'area': area, 'wet_mask': wet_mask}\n",
    "    )  \n",
    "filter_u"
   ]
  },
  {
   "cell_type": "markdown",
   "metadata": {},
   "source": [
    "#### Filter averages"
   ]
  },
  {
   "cell_type": "code",
   "execution_count": 45,
   "metadata": {},
   "outputs": [
    {
     "data": {
      "text/plain": [
       "['uh',\n",
       " 'u',\n",
       " 'PFu+u_BT_accel_visc_rem',\n",
       " 'CAu_visc_rem',\n",
       " 'du_dt_str_visc_rem',\n",
       " 'diffu_visc_rem',\n",
       " 'h_PFu+u_BT_accel',\n",
       " 'h_diffu',\n",
       " 'h_du_dt_visc',\n",
       " 'h_du_dt_str',\n",
       " 'u_dhdt']"
      ]
     },
     "execution_count": 45,
     "metadata": {},
     "output_type": "execute_result"
    }
   ],
   "source": [
    "namelist = ['uh']  # needed for both energy cycles\n",
    "namelist_lorenz = ['u', 'PFu+u_BT_accel_visc_rem', 'CAu_visc_rem', 'du_dt_str_visc_rem', 'diffu_visc_rem', 'du_dt_visc_rem']\n",
    "namelist_bleck = ['h_CAu', 'h_PFu+u_BT_accel', 'h_diffu', 'h_du_dt_visc', 'h_du_dt_str', 'u_dhdt']\n",
    "if lorenz:\n",
    "    namelist = namelist + namelist_lorenz\n",
    "if bleck:\n",
    "    namelist = namelist + namelist_bleck\n",
    "namelist"
   ]
  },
  {
   "cell_type": "code",
   "execution_count": 46,
   "metadata": {},
   "outputs": [
    {
     "name": "stderr",
     "output_type": "stream",
     "text": [
      "/glade/u/home/noraloose/miniconda3/lib/python3.8/site-packages/dask/array/core.py:4527: PerformanceWarning: Increasing number of chunks by factor of 15\n",
      "  result = blockwise(\n",
      "/glade/u/home/noraloose/miniconda3/lib/python3.8/site-packages/dask/array/core.py:4527: PerformanceWarning: Increasing number of chunks by factor of 15\n",
      "  result = blockwise(\n",
      "/glade/u/home/noraloose/miniconda3/lib/python3.8/site-packages/dask/array/core.py:4527: PerformanceWarning: Increasing number of chunks by factor of 15\n",
      "  result = blockwise(\n",
      "/glade/u/home/noraloose/miniconda3/lib/python3.8/site-packages/dask/array/core.py:4527: PerformanceWarning: Increasing number of chunks by factor of 15\n",
      "  result = blockwise(\n",
      "/glade/u/home/noraloose/miniconda3/lib/python3.8/site-packages/dask/array/core.py:4527: PerformanceWarning: Increasing number of chunks by factor of 15\n",
      "  result = blockwise(\n",
      "/glade/u/home/noraloose/miniconda3/lib/python3.8/site-packages/dask/array/core.py:4527: PerformanceWarning: Increasing number of chunks by factor of 15\n",
      "  result = blockwise(\n",
      "/glade/u/home/noraloose/miniconda3/lib/python3.8/site-packages/dask/array/core.py:4527: PerformanceWarning: Increasing number of chunks by factor of 15\n",
      "  result = blockwise(\n",
      "/glade/u/home/noraloose/miniconda3/lib/python3.8/site-packages/dask/array/core.py:4527: PerformanceWarning: Increasing number of chunks by factor of 15\n",
      "  result = blockwise(\n",
      "/glade/u/home/noraloose/miniconda3/lib/python3.8/site-packages/dask/array/core.py:4527: PerformanceWarning: Increasing number of chunks by factor of 15\n",
      "  result = blockwise(\n",
      "/glade/u/home/noraloose/miniconda3/lib/python3.8/site-packages/dask/array/core.py:4527: PerformanceWarning: Increasing number of chunks by factor of 15\n",
      "  result = blockwise(\n",
      "/glade/u/home/noraloose/miniconda3/lib/python3.8/site-packages/dask/array/core.py:4527: PerformanceWarning: Increasing number of chunks by factor of 15\n",
      "  result = blockwise(\n"
     ]
    }
   ],
   "source": [
    "for name in namelist:\n",
    "    field = av[name]\n",
    "        \n",
    "    if gpu:\n",
    "        field.data = field.data.map_blocks(cp.asarray) \n",
    "    field_filtered = filter_u.apply(field, dims=['yh', 'xq'])\n",
    "\n",
    "    if gpu:\n",
    "        field_filtered.data = field_filtered.data.map_blocks(cp.asnumpy)\n",
    "\n",
    "    av_f_tmp[name] = field_filtered \n",
    "    av_f_tmp[name] = av_f_tmp[name].transpose('time', 'zl', 'yh', 'xq') # reorder coordinates  \n",
    "\n",
    "    # the following lines take care of re-appending the sliced off dimension at the western edge\n",
    "    with dask.config.set(**{'array.slicing.split_large_chunks': False}):\n",
    "        av_f[name] = av_f_tmp[name]\n",
    "    av_f[name] = xr.where(av_f.xq==av_f.xq[0], av_f[name].roll(xq=1,roll_coords=False), av_f[name])\n",
    "    av_f[name] = av_f[name].where(st.wet_u)\n",
    "    av_f[name] = av_f[name].transpose('time', 'zl', 'yh', 'xq')\n",
    "\n",
    "    av_f[name].attrs = av[name].attrs\n",
    "    av_f[name].attrs['long_name'] = 'Filtered ' + av[name].attrs['long_name']"
   ]
  },
  {
   "cell_type": "markdown",
   "metadata": {},
   "source": [
    "#### Filter snapshots"
   ]
  },
  {
   "cell_type": "code",
   "execution_count": 47,
   "metadata": {},
   "outputs": [
    {
     "data": {
      "text/plain": [
       "['u', 'uh']"
      ]
     },
     "execution_count": 47,
     "metadata": {},
     "output_type": "execute_result"
    }
   ],
   "source": [
    "namelist = []\n",
    "namelist_lorenz = ['u']\n",
    "namelist_bleck = ['uh']\n",
    "\n",
    "if lorenz:\n",
    "    namelist = namelist + namelist_lorenz\n",
    "if bleck:\n",
    "    namelist = namelist + namelist_bleck\n",
    "namelist"
   ]
  },
  {
   "cell_type": "code",
   "execution_count": 48,
   "metadata": {},
   "outputs": [
    {
     "name": "stderr",
     "output_type": "stream",
     "text": [
      "/glade/u/home/noraloose/miniconda3/lib/python3.8/site-packages/dask/array/core.py:4527: PerformanceWarning: Increasing number of chunks by factor of 15\n",
      "  result = blockwise(\n",
      "/glade/u/home/noraloose/miniconda3/lib/python3.8/site-packages/dask/array/core.py:4527: PerformanceWarning: Increasing number of chunks by factor of 15\n",
      "  result = blockwise(\n"
     ]
    }
   ],
   "source": [
    "for name in namelist:\n",
    "    field = sn[name]\n",
    "        \n",
    "    if gpu:\n",
    "        field.data = field.data.map_blocks(cp.asarray) \n",
    "    field_filtered = filter_u.apply(field, dims=['yh', 'xq'])\n",
    "\n",
    "    if gpu:\n",
    "        field_filtered.data = field_filtered.data.map_blocks(cp.asnumpy)\n",
    "\n",
    "    sn_f_tmp[name] = field_filtered \n",
    "    sn_f_tmp[name] = sn_f_tmp[name].transpose('time', 'zl', 'yh', 'xq') # reorder coordinates  \n",
    "\n",
    "    # the following lines take care of re-appending the sliced off dimension at the western edge\n",
    "    with dask.config.set(**{'array.slicing.split_large_chunks': False}):\n",
    "        sn_f[name] = sn_f_tmp[name]\n",
    "    sn_f[name] = xr.where(sn_f.xq==sn_f.xq[0], sn_f[name].roll(xq=1,roll_coords=False), sn_f[name])\n",
    "    sn_f[name] = sn_f[name].where(st.wet_u)\n",
    "    sn_f[name] = sn_f[name].transpose('time', 'zl', 'yh', 'xq')\n",
    "\n",
    "    sn_f[name].attrs = sn[name].attrs\n",
    "    sn_f[name].attrs['long_name'] = 'Filtered ' + sn[name].attrs['long_name']"
   ]
  },
  {
   "cell_type": "markdown",
   "metadata": {},
   "source": [
    "## V-fields"
   ]
  },
  {
   "cell_type": "code",
   "execution_count": 49,
   "metadata": {},
   "outputs": [],
   "source": [
    "wet_mask = st.wet_v.isel(yq=slice(1,None))\n",
    "area = st.area_v.isel(yq=slice(1,None))\n",
    "if gpu:\n",
    "    wet_mask = wet_mask.chunk({'yq': Ny,'xh': Nx}) # 1 chunk\n",
    "    wet_mask.data = wet_mask.data.map_blocks(cp.asarray)\n",
    "    \n",
    "    area = area.chunk({'yq': Ny,'xh': Nx}) # 1 chunk\n",
    "    area.data = area.data.map_blocks(cp.asarray)"
   ]
  },
  {
   "cell_type": "code",
   "execution_count": 50,
   "metadata": {},
   "outputs": [
    {
     "data": {
      "text/plain": [
       "Filter(filter_scale=32.0, dx_min=1, filter_shape=<FilterShape.GAUSSIAN: 1>, transition_width=3.141592653589793, ndim=2, n_steps=36, n_iterations=1, grid_type=<GridType.REGULAR_WITH_LAND_AREA_WEIGHTED: 4>)"
      ]
     },
     "execution_count": 50,
     "metadata": {},
     "output_type": "execute_result"
    }
   ],
   "source": [
    "filter_v = gcm_filters.Filter(\n",
    "        filter_scale=filter_fac,\n",
    "        dx_min=1,\n",
    "        n_iterations=n_iterations,\n",
    "        filter_shape=filter_shape,\n",
    "        grid_type=gcm_filters.GridType.REGULAR_WITH_LAND_AREA_WEIGHTED,\n",
    "        grid_vars={'area': area, 'wet_mask': wet_mask}\n",
    "    )    \n",
    "filter_v"
   ]
  },
  {
   "cell_type": "markdown",
   "metadata": {},
   "source": [
    "#### Filter averages"
   ]
  },
  {
   "cell_type": "code",
   "execution_count": 51,
   "metadata": {},
   "outputs": [
    {
     "data": {
      "text/plain": [
       "['vh',\n",
       " 'v',\n",
       " 'PFv+v_BT_accel_visc_rem',\n",
       " 'CAv_visc_rem',\n",
       " 'dv_dt_str_visc_rem',\n",
       " 'diffv_visc_rem',\n",
       " 'h_PFv+v_BT_accel',\n",
       " 'h_diffv',\n",
       " 'h_dv_dt_visc',\n",
       " 'h_dv_dt_str',\n",
       " 'v_dhdt']"
      ]
     },
     "execution_count": 51,
     "metadata": {},
     "output_type": "execute_result"
    }
   ],
   "source": [
    "namelist = ['vh']  # needed for both energy cycles\n",
    "namelist_lorenz = ['v', 'PFv+v_BT_accel_visc_rem', 'CAv_visc_rem', 'dv_dt_str_visc_rem', 'diffv_visc_rem', 'dv_dt_visc_rem']\n",
    "namelist_bleck = ['h_CAv', 'h_PFv+v_BT_accel', 'h_diffv', 'h_dv_dt_visc', 'h_dv_dt_str', 'v_dhdt']\n",
    "if lorenz:\n",
    "    namelist = namelist + namelist_lorenz\n",
    "if bleck:\n",
    "    namelist = namelist + namelist_bleck\n",
    "namelist"
   ]
  },
  {
   "cell_type": "code",
   "execution_count": 52,
   "metadata": {},
   "outputs": [
    {
     "name": "stderr",
     "output_type": "stream",
     "text": [
      "/glade/u/home/noraloose/miniconda3/lib/python3.8/site-packages/dask/array/core.py:4527: PerformanceWarning: Increasing number of chunks by factor of 15\n",
      "  result = blockwise(\n",
      "/glade/u/home/noraloose/miniconda3/lib/python3.8/site-packages/dask/array/core.py:4527: PerformanceWarning: Increasing number of chunks by factor of 15\n",
      "  result = blockwise(\n",
      "/glade/u/home/noraloose/miniconda3/lib/python3.8/site-packages/dask/array/core.py:4527: PerformanceWarning: Increasing number of chunks by factor of 15\n",
      "  result = blockwise(\n",
      "/glade/u/home/noraloose/miniconda3/lib/python3.8/site-packages/dask/array/core.py:4527: PerformanceWarning: Increasing number of chunks by factor of 15\n",
      "  result = blockwise(\n",
      "/glade/u/home/noraloose/miniconda3/lib/python3.8/site-packages/dask/array/core.py:4527: PerformanceWarning: Increasing number of chunks by factor of 15\n",
      "  result = blockwise(\n",
      "/glade/u/home/noraloose/miniconda3/lib/python3.8/site-packages/dask/array/core.py:4527: PerformanceWarning: Increasing number of chunks by factor of 15\n",
      "  result = blockwise(\n",
      "/glade/u/home/noraloose/miniconda3/lib/python3.8/site-packages/dask/array/core.py:4527: PerformanceWarning: Increasing number of chunks by factor of 15\n",
      "  result = blockwise(\n",
      "/glade/u/home/noraloose/miniconda3/lib/python3.8/site-packages/dask/array/core.py:4527: PerformanceWarning: Increasing number of chunks by factor of 15\n",
      "  result = blockwise(\n",
      "/glade/u/home/noraloose/miniconda3/lib/python3.8/site-packages/dask/array/core.py:4527: PerformanceWarning: Increasing number of chunks by factor of 15\n",
      "  result = blockwise(\n",
      "/glade/u/home/noraloose/miniconda3/lib/python3.8/site-packages/dask/array/core.py:4527: PerformanceWarning: Increasing number of chunks by factor of 15\n",
      "  result = blockwise(\n",
      "/glade/u/home/noraloose/miniconda3/lib/python3.8/site-packages/dask/array/core.py:4527: PerformanceWarning: Increasing number of chunks by factor of 15\n",
      "  result = blockwise(\n"
     ]
    }
   ],
   "source": [
    "for name in namelist:\n",
    "    field = av[name]\n",
    "        \n",
    "    if gpu:\n",
    "        field.data = field.data.map_blocks(cp.asarray) \n",
    "    field_filtered = filter_v.apply(field, dims=['yq', 'xh'])\n",
    "\n",
    "    if gpu:\n",
    "        field_filtered.data = field_filtered.data.map_blocks(cp.asnumpy)\n",
    "\n",
    "    av_f_tmp[name] = field_filtered  \n",
    "    av_f_tmp[name] = av_f_tmp[name].transpose('time', 'zl', 'yq', 'xh') # reorder coordinates  \n",
    "\n",
    "    # the following lines take care of re-appending the sliced off dimension at the southern edge\n",
    "    with dask.config.set(**{'array.slicing.split_large_chunks': False}):\n",
    "        av_f[name] = av_f_tmp[name]\n",
    "\n",
    "    # set yq = 0 to nan's (all land):        \n",
    "    av_f[name] = xr.where(av_f.yq==av_f.yq[0], np.nan, av_f[name])\n",
    "    av_f[name] = av_f[name].where(st.wet_v)\n",
    "    av_f[name] = av_f[name].transpose('time', 'zl', 'yq', 'xh')\n",
    "\n",
    "    av_f[name].attrs = av[name].attrs\n",
    "    av_f[name].attrs['long_name'] = 'Filtered ' + av[name].attrs['long_name']"
   ]
  },
  {
   "cell_type": "markdown",
   "metadata": {},
   "source": [
    "#### Filter snapshots"
   ]
  },
  {
   "cell_type": "code",
   "execution_count": 53,
   "metadata": {},
   "outputs": [
    {
     "data": {
      "text/plain": [
       "['v', 'vh']"
      ]
     },
     "execution_count": 53,
     "metadata": {},
     "output_type": "execute_result"
    }
   ],
   "source": [
    "namelist = []\n",
    "namelist_lorenz = ['v']\n",
    "namelist_bleck = ['vh']\n",
    "\n",
    "if lorenz:\n",
    "    namelist = namelist + namelist_lorenz\n",
    "if bleck:\n",
    "    namelist = namelist + namelist_bleck\n",
    "namelist"
   ]
  },
  {
   "cell_type": "code",
   "execution_count": 54,
   "metadata": {},
   "outputs": [
    {
     "name": "stderr",
     "output_type": "stream",
     "text": [
      "/glade/u/home/noraloose/miniconda3/lib/python3.8/site-packages/dask/array/core.py:4527: PerformanceWarning: Increasing number of chunks by factor of 15\n",
      "  result = blockwise(\n",
      "/glade/u/home/noraloose/miniconda3/lib/python3.8/site-packages/dask/array/core.py:4527: PerformanceWarning: Increasing number of chunks by factor of 15\n",
      "  result = blockwise(\n"
     ]
    }
   ],
   "source": [
    "for name in namelist:\n",
    "    field = sn[name]\n",
    "        \n",
    "    if gpu:\n",
    "        field.data = field.data.map_blocks(cp.asarray) \n",
    "    field_filtered = filter_v.apply(field, dims=['yq', 'xh'])\n",
    "\n",
    "    if gpu:\n",
    "        field_filtered.data = field_filtered.data.map_blocks(cp.asnumpy)\n",
    "\n",
    "    sn_f_tmp[name] = field_filtered  \n",
    "    sn_f_tmp[name] = sn_f_tmp[name].transpose('time', 'zl', 'yq', 'xh') # reorder coordinates  \n",
    "\n",
    "    # the following lines take care of re-appending the sliced off dimension at the southern edge\n",
    "    with dask.config.set(**{'array.slicing.split_large_chunks': False}):\n",
    "        sn_f[name] = sn_f_tmp[name]\n",
    "\n",
    "    # set yq = 0 to nan's (all land):        \n",
    "    sn_f[name] = xr.where(sn_f.yq==sn_f.yq[0], np.nan, sn_f[name])\n",
    "    sn_f[name] = sn_f[name].where(st.wet_v)\n",
    "    sn_f[name] = sn_f[name].transpose('time', 'zl', 'yq', 'xh')\n",
    "\n",
    "    sn_f[name].attrs = sn[name].attrs\n",
    "    sn_f[name].attrs['long_name'] = 'Filtered ' + av[name].attrs['long_name']"
   ]
  },
  {
   "cell_type": "markdown",
   "metadata": {},
   "source": [
    "## Save filtered fields"
   ]
  },
  {
   "cell_type": "code",
   "execution_count": 55,
   "metadata": {},
   "outputs": [],
   "source": [
    "path = '/glade/scratch/noraloose/filtered_data'\n",
    "filename_av_f = '%s/%s/averages_%08d_filtered_fac%i' %(path, run, end_time-nr_days+2, filter_fac) \n",
    "filename_sn_f = '%s/%s/snapshots_%08d_filtered_fac%i' %(path, run, end_time-nr_days+5, filter_fac) "
   ]
  },
  {
   "cell_type": "code",
   "execution_count": 56,
   "metadata": {},
   "outputs": [
    {
     "name": "stdout",
     "output_type": "stream",
     "text": [
      "CPU times: user 12min 16s, sys: 39.6 s, total: 12min 56s\n",
      "Wall time: 2h 9min 40s\n"
     ]
    },
    {
     "data": {
      "text/plain": [
       "<xarray.backends.zarr.ZarrStore at 0x2ad8d3b1f7b0>"
      ]
     },
     "execution_count": 56,
     "metadata": {},
     "output_type": "execute_result"
    }
   ],
   "source": [
    "%time av_f.to_zarr(filename_av_f)"
   ]
  },
  {
   "cell_type": "code",
   "execution_count": 57,
   "metadata": {},
   "outputs": [
    {
     "name": "stdout",
     "output_type": "stream",
     "text": [
      "CPU times: user 45.3 s, sys: 5.58 s, total: 50.9 s\n",
      "Wall time: 18min 51s\n"
     ]
    },
    {
     "data": {
      "text/plain": [
       "<xarray.backends.zarr.ZarrStore at 0x2ada4780b200>"
      ]
     },
     "execution_count": 57,
     "metadata": {},
     "output_type": "execute_result"
    }
   ],
   "source": [
    "%time sn_f.to_zarr(filename_sn_f)"
   ]
  }
 ],
 "metadata": {
  "kernelspec": {
   "display_name": "my-kernel",
   "language": "python",
   "name": "my-kernel"
  },
  "language_info": {
   "codemirror_mode": {
    "name": "ipython",
    "version": 3
   },
   "file_extension": ".py",
   "mimetype": "text/x-python",
   "name": "python",
   "nbconvert_exporter": "python",
   "pygments_lexer": "ipython3",
   "version": "3.8.12"
  }
 },
 "nbformat": 4,
 "nbformat_minor": 4
}
